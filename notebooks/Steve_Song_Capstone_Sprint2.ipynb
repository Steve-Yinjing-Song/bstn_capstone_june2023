{
  "nbformat": 4,
  "nbformat_minor": 0,
  "metadata": {
    "colab": {
      "provenance": []
    },
    "kernelspec": {
      "name": "python3",
      "display_name": "Python 3"
    },
    "language_info": {
      "name": "python"
    }
  },
  "cells": [
    {
      "cell_type": "markdown",
      "source": [
        "# **Sentiment Analysis on Airline Tweets Dataset**\n",
        "\n",
        "The dataset we used fot this sentiment analysis contains tweets on US Airlines of 2015. We applied some data preprocessing or wrangling techniques to remove unnecessary characters,symbols and tokens.Different machine learningalgorithms are used to bulild the models, evaluate the performance and make the predictions.\n",
        "\n",
        "\n",
        " **Data dictionary**\n",
        "\n",
        "  tweet_id\n",
        "  airline_sentiment\n",
        "  airline_sentiment_confidence\n",
        "  negativereason\n",
        "  negativereason_confidence\n",
        "  airline\n",
        "  airline_sentiment_gold\n",
        "  name\n",
        "  negativereason_gold\n",
        "  retweet_count\ttext\n",
        "  tweet_coord\n",
        "  tweet_created\n",
        "  tweet_location\n",
        "  user_timezone\n",
        "\n",
        "    "
      ],
      "metadata": {
        "id": "OI8ScRKDwrpL"
      }
    },
    {
      "cell_type": "code",
      "source": [
        "# import basic libraries\n",
        "import pandas as pd\n",
        "import numpy as np\n",
        "import matplotlib.pyplot as plt\n",
        "\n",
        "from sklearn.linear_model import LogisticRegression\n",
        "\n",
        "from sklearn.metrics import accuracy_score\n",
        "\n",
        "import string\n",
        "import re\n",
        "import nltk\n",
        "\n",
        "import warnings\n",
        "warnings.filterwarnings('ignore')"
      ],
      "metadata": {
        "id": "zMZMKip658c7"
      },
      "execution_count": 224,
      "outputs": []
    },
    {
      "cell_type": "code",
      "source": [
        "# read csv dataset\n",
        "df = pd.read_csv(\"/content/Tweets.csv\")"
      ],
      "metadata": {
        "id": "l2keY5TR637B"
      },
      "execution_count": 225,
      "outputs": []
    },
    {
      "cell_type": "code",
      "source": [
        "# check the first 3 date points\n",
        "df.head()"
      ],
      "metadata": {
        "colab": {
          "base_uri": "https://localhost:8080/",
          "height": 451
        },
        "id": "XJZrIiBz7926",
        "outputId": "dfffb3cf-cda6-40d8-bfbc-4b54be547807"
      },
      "execution_count": 226,
      "outputs": [
        {
          "output_type": "execute_result",
          "data": {
            "text/plain": [
              "             tweet_id airline_sentiment  airline_sentiment_confidence  \\\n",
              "0  570306133677760513           neutral                        1.0000   \n",
              "1  570301130888122368          positive                        0.3486   \n",
              "2  570301083672813571           neutral                        0.6837   \n",
              "3  570301031407624196          negative                        1.0000   \n",
              "4  570300817074462722          negative                        1.0000   \n",
              "\n",
              "  negativereason  negativereason_confidence         airline  \\\n",
              "0            NaN                        NaN  Virgin America   \n",
              "1            NaN                     0.0000  Virgin America   \n",
              "2            NaN                        NaN  Virgin America   \n",
              "3     Bad Flight                     0.7033  Virgin America   \n",
              "4     Can't Tell                     1.0000  Virgin America   \n",
              "\n",
              "  airline_sentiment_gold        name negativereason_gold  retweet_count  \\\n",
              "0                    NaN     cairdin                 NaN              0   \n",
              "1                    NaN    jnardino                 NaN              0   \n",
              "2                    NaN  yvonnalynn                 NaN              0   \n",
              "3                    NaN    jnardino                 NaN              0   \n",
              "4                    NaN    jnardino                 NaN              0   \n",
              "\n",
              "                                                text tweet_coord  \\\n",
              "0                @VirginAmerica What @dhepburn said.         NaN   \n",
              "1  @VirginAmerica plus you've added commercials t...         NaN   \n",
              "2  @VirginAmerica I didn't today... Must mean I n...         NaN   \n",
              "3  @VirginAmerica it's really aggressive to blast...         NaN   \n",
              "4  @VirginAmerica and it's a really big bad thing...         NaN   \n",
              "\n",
              "               tweet_created tweet_location               user_timezone  \n",
              "0  2015-02-24 11:35:52 -0800            NaN  Eastern Time (US & Canada)  \n",
              "1  2015-02-24 11:15:59 -0800            NaN  Pacific Time (US & Canada)  \n",
              "2  2015-02-24 11:15:48 -0800      Lets Play  Central Time (US & Canada)  \n",
              "3  2015-02-24 11:15:36 -0800            NaN  Pacific Time (US & Canada)  \n",
              "4  2015-02-24 11:14:45 -0800            NaN  Pacific Time (US & Canada)  "
            ],
            "text/html": [
              "\n",
              "  <div id=\"df-fce1b8d4-04b2-408b-927c-cff6163bd3e9\" class=\"colab-df-container\">\n",
              "    <div>\n",
              "<style scoped>\n",
              "    .dataframe tbody tr th:only-of-type {\n",
              "        vertical-align: middle;\n",
              "    }\n",
              "\n",
              "    .dataframe tbody tr th {\n",
              "        vertical-align: top;\n",
              "    }\n",
              "\n",
              "    .dataframe thead th {\n",
              "        text-align: right;\n",
              "    }\n",
              "</style>\n",
              "<table border=\"1\" class=\"dataframe\">\n",
              "  <thead>\n",
              "    <tr style=\"text-align: right;\">\n",
              "      <th></th>\n",
              "      <th>tweet_id</th>\n",
              "      <th>airline_sentiment</th>\n",
              "      <th>airline_sentiment_confidence</th>\n",
              "      <th>negativereason</th>\n",
              "      <th>negativereason_confidence</th>\n",
              "      <th>airline</th>\n",
              "      <th>airline_sentiment_gold</th>\n",
              "      <th>name</th>\n",
              "      <th>negativereason_gold</th>\n",
              "      <th>retweet_count</th>\n",
              "      <th>text</th>\n",
              "      <th>tweet_coord</th>\n",
              "      <th>tweet_created</th>\n",
              "      <th>tweet_location</th>\n",
              "      <th>user_timezone</th>\n",
              "    </tr>\n",
              "  </thead>\n",
              "  <tbody>\n",
              "    <tr>\n",
              "      <th>0</th>\n",
              "      <td>570306133677760513</td>\n",
              "      <td>neutral</td>\n",
              "      <td>1.0000</td>\n",
              "      <td>NaN</td>\n",
              "      <td>NaN</td>\n",
              "      <td>Virgin America</td>\n",
              "      <td>NaN</td>\n",
              "      <td>cairdin</td>\n",
              "      <td>NaN</td>\n",
              "      <td>0</td>\n",
              "      <td>@VirginAmerica What @dhepburn said.</td>\n",
              "      <td>NaN</td>\n",
              "      <td>2015-02-24 11:35:52 -0800</td>\n",
              "      <td>NaN</td>\n",
              "      <td>Eastern Time (US &amp; Canada)</td>\n",
              "    </tr>\n",
              "    <tr>\n",
              "      <th>1</th>\n",
              "      <td>570301130888122368</td>\n",
              "      <td>positive</td>\n",
              "      <td>0.3486</td>\n",
              "      <td>NaN</td>\n",
              "      <td>0.0000</td>\n",
              "      <td>Virgin America</td>\n",
              "      <td>NaN</td>\n",
              "      <td>jnardino</td>\n",
              "      <td>NaN</td>\n",
              "      <td>0</td>\n",
              "      <td>@VirginAmerica plus you've added commercials t...</td>\n",
              "      <td>NaN</td>\n",
              "      <td>2015-02-24 11:15:59 -0800</td>\n",
              "      <td>NaN</td>\n",
              "      <td>Pacific Time (US &amp; Canada)</td>\n",
              "    </tr>\n",
              "    <tr>\n",
              "      <th>2</th>\n",
              "      <td>570301083672813571</td>\n",
              "      <td>neutral</td>\n",
              "      <td>0.6837</td>\n",
              "      <td>NaN</td>\n",
              "      <td>NaN</td>\n",
              "      <td>Virgin America</td>\n",
              "      <td>NaN</td>\n",
              "      <td>yvonnalynn</td>\n",
              "      <td>NaN</td>\n",
              "      <td>0</td>\n",
              "      <td>@VirginAmerica I didn't today... Must mean I n...</td>\n",
              "      <td>NaN</td>\n",
              "      <td>2015-02-24 11:15:48 -0800</td>\n",
              "      <td>Lets Play</td>\n",
              "      <td>Central Time (US &amp; Canada)</td>\n",
              "    </tr>\n",
              "    <tr>\n",
              "      <th>3</th>\n",
              "      <td>570301031407624196</td>\n",
              "      <td>negative</td>\n",
              "      <td>1.0000</td>\n",
              "      <td>Bad Flight</td>\n",
              "      <td>0.7033</td>\n",
              "      <td>Virgin America</td>\n",
              "      <td>NaN</td>\n",
              "      <td>jnardino</td>\n",
              "      <td>NaN</td>\n",
              "      <td>0</td>\n",
              "      <td>@VirginAmerica it's really aggressive to blast...</td>\n",
              "      <td>NaN</td>\n",
              "      <td>2015-02-24 11:15:36 -0800</td>\n",
              "      <td>NaN</td>\n",
              "      <td>Pacific Time (US &amp; Canada)</td>\n",
              "    </tr>\n",
              "    <tr>\n",
              "      <th>4</th>\n",
              "      <td>570300817074462722</td>\n",
              "      <td>negative</td>\n",
              "      <td>1.0000</td>\n",
              "      <td>Can't Tell</td>\n",
              "      <td>1.0000</td>\n",
              "      <td>Virgin America</td>\n",
              "      <td>NaN</td>\n",
              "      <td>jnardino</td>\n",
              "      <td>NaN</td>\n",
              "      <td>0</td>\n",
              "      <td>@VirginAmerica and it's a really big bad thing...</td>\n",
              "      <td>NaN</td>\n",
              "      <td>2015-02-24 11:14:45 -0800</td>\n",
              "      <td>NaN</td>\n",
              "      <td>Pacific Time (US &amp; Canada)</td>\n",
              "    </tr>\n",
              "  </tbody>\n",
              "</table>\n",
              "</div>\n",
              "    <div class=\"colab-df-buttons\">\n",
              "\n",
              "  <div class=\"colab-df-container\">\n",
              "    <button class=\"colab-df-convert\" onclick=\"convertToInteractive('df-fce1b8d4-04b2-408b-927c-cff6163bd3e9')\"\n",
              "            title=\"Convert this dataframe to an interactive table.\"\n",
              "            style=\"display:none;\">\n",
              "\n",
              "  <svg xmlns=\"http://www.w3.org/2000/svg\" height=\"24px\" viewBox=\"0 -960 960 960\">\n",
              "    <path d=\"M120-120v-720h720v720H120Zm60-500h600v-160H180v160Zm220 220h160v-160H400v160Zm0 220h160v-160H400v160ZM180-400h160v-160H180v160Zm440 0h160v-160H620v160ZM180-180h160v-160H180v160Zm440 0h160v-160H620v160Z\"/>\n",
              "  </svg>\n",
              "    </button>\n",
              "\n",
              "  <style>\n",
              "    .colab-df-container {\n",
              "      display:flex;\n",
              "      gap: 12px;\n",
              "    }\n",
              "\n",
              "    .colab-df-convert {\n",
              "      background-color: #E8F0FE;\n",
              "      border: none;\n",
              "      border-radius: 50%;\n",
              "      cursor: pointer;\n",
              "      display: none;\n",
              "      fill: #1967D2;\n",
              "      height: 32px;\n",
              "      padding: 0 0 0 0;\n",
              "      width: 32px;\n",
              "    }\n",
              "\n",
              "    .colab-df-convert:hover {\n",
              "      background-color: #E2EBFA;\n",
              "      box-shadow: 0px 1px 2px rgba(60, 64, 67, 0.3), 0px 1px 3px 1px rgba(60, 64, 67, 0.15);\n",
              "      fill: #174EA6;\n",
              "    }\n",
              "\n",
              "    .colab-df-buttons div {\n",
              "      margin-bottom: 4px;\n",
              "    }\n",
              "\n",
              "    [theme=dark] .colab-df-convert {\n",
              "      background-color: #3B4455;\n",
              "      fill: #D2E3FC;\n",
              "    }\n",
              "\n",
              "    [theme=dark] .colab-df-convert:hover {\n",
              "      background-color: #434B5C;\n",
              "      box-shadow: 0px 1px 3px 1px rgba(0, 0, 0, 0.15);\n",
              "      filter: drop-shadow(0px 1px 2px rgba(0, 0, 0, 0.3));\n",
              "      fill: #FFFFFF;\n",
              "    }\n",
              "  </style>\n",
              "\n",
              "    <script>\n",
              "      const buttonEl =\n",
              "        document.querySelector('#df-fce1b8d4-04b2-408b-927c-cff6163bd3e9 button.colab-df-convert');\n",
              "      buttonEl.style.display =\n",
              "        google.colab.kernel.accessAllowed ? 'block' : 'none';\n",
              "\n",
              "      async function convertToInteractive(key) {\n",
              "        const element = document.querySelector('#df-fce1b8d4-04b2-408b-927c-cff6163bd3e9');\n",
              "        const dataTable =\n",
              "          await google.colab.kernel.invokeFunction('convertToInteractive',\n",
              "                                                    [key], {});\n",
              "        if (!dataTable) return;\n",
              "\n",
              "        const docLinkHtml = 'Like what you see? Visit the ' +\n",
              "          '<a target=\"_blank\" href=https://colab.research.google.com/notebooks/data_table.ipynb>data table notebook</a>'\n",
              "          + ' to learn more about interactive tables.';\n",
              "        element.innerHTML = '';\n",
              "        dataTable['output_type'] = 'display_data';\n",
              "        await google.colab.output.renderOutput(dataTable, element);\n",
              "        const docLink = document.createElement('div');\n",
              "        docLink.innerHTML = docLinkHtml;\n",
              "        element.appendChild(docLink);\n",
              "      }\n",
              "    </script>\n",
              "  </div>\n",
              "\n",
              "\n",
              "<div id=\"df-54d1c822-e8d9-4faf-859e-76e59a31d032\">\n",
              "  <button class=\"colab-df-quickchart\" onclick=\"quickchart('df-54d1c822-e8d9-4faf-859e-76e59a31d032')\"\n",
              "            title=\"Suggest charts\"\n",
              "            style=\"display:none;\">\n",
              "\n",
              "<svg xmlns=\"http://www.w3.org/2000/svg\" height=\"24px\"viewBox=\"0 0 24 24\"\n",
              "     width=\"24px\">\n",
              "    <g>\n",
              "        <path d=\"M19 3H5c-1.1 0-2 .9-2 2v14c0 1.1.9 2 2 2h14c1.1 0 2-.9 2-2V5c0-1.1-.9-2-2-2zM9 17H7v-7h2v7zm4 0h-2V7h2v10zm4 0h-2v-4h2v4z\"/>\n",
              "    </g>\n",
              "</svg>\n",
              "  </button>\n",
              "\n",
              "<style>\n",
              "  .colab-df-quickchart {\n",
              "      --bg-color: #E8F0FE;\n",
              "      --fill-color: #1967D2;\n",
              "      --hover-bg-color: #E2EBFA;\n",
              "      --hover-fill-color: #174EA6;\n",
              "      --disabled-fill-color: #AAA;\n",
              "      --disabled-bg-color: #DDD;\n",
              "  }\n",
              "\n",
              "  [theme=dark] .colab-df-quickchart {\n",
              "      --bg-color: #3B4455;\n",
              "      --fill-color: #D2E3FC;\n",
              "      --hover-bg-color: #434B5C;\n",
              "      --hover-fill-color: #FFFFFF;\n",
              "      --disabled-bg-color: #3B4455;\n",
              "      --disabled-fill-color: #666;\n",
              "  }\n",
              "\n",
              "  .colab-df-quickchart {\n",
              "    background-color: var(--bg-color);\n",
              "    border: none;\n",
              "    border-radius: 50%;\n",
              "    cursor: pointer;\n",
              "    display: none;\n",
              "    fill: var(--fill-color);\n",
              "    height: 32px;\n",
              "    padding: 0;\n",
              "    width: 32px;\n",
              "  }\n",
              "\n",
              "  .colab-df-quickchart:hover {\n",
              "    background-color: var(--hover-bg-color);\n",
              "    box-shadow: 0 1px 2px rgba(60, 64, 67, 0.3), 0 1px 3px 1px rgba(60, 64, 67, 0.15);\n",
              "    fill: var(--button-hover-fill-color);\n",
              "  }\n",
              "\n",
              "  .colab-df-quickchart-complete:disabled,\n",
              "  .colab-df-quickchart-complete:disabled:hover {\n",
              "    background-color: var(--disabled-bg-color);\n",
              "    fill: var(--disabled-fill-color);\n",
              "    box-shadow: none;\n",
              "  }\n",
              "\n",
              "  .colab-df-spinner {\n",
              "    border: 2px solid var(--fill-color);\n",
              "    border-color: transparent;\n",
              "    border-bottom-color: var(--fill-color);\n",
              "    animation:\n",
              "      spin 1s steps(1) infinite;\n",
              "  }\n",
              "\n",
              "  @keyframes spin {\n",
              "    0% {\n",
              "      border-color: transparent;\n",
              "      border-bottom-color: var(--fill-color);\n",
              "      border-left-color: var(--fill-color);\n",
              "    }\n",
              "    20% {\n",
              "      border-color: transparent;\n",
              "      border-left-color: var(--fill-color);\n",
              "      border-top-color: var(--fill-color);\n",
              "    }\n",
              "    30% {\n",
              "      border-color: transparent;\n",
              "      border-left-color: var(--fill-color);\n",
              "      border-top-color: var(--fill-color);\n",
              "      border-right-color: var(--fill-color);\n",
              "    }\n",
              "    40% {\n",
              "      border-color: transparent;\n",
              "      border-right-color: var(--fill-color);\n",
              "      border-top-color: var(--fill-color);\n",
              "    }\n",
              "    60% {\n",
              "      border-color: transparent;\n",
              "      border-right-color: var(--fill-color);\n",
              "    }\n",
              "    80% {\n",
              "      border-color: transparent;\n",
              "      border-right-color: var(--fill-color);\n",
              "      border-bottom-color: var(--fill-color);\n",
              "    }\n",
              "    90% {\n",
              "      border-color: transparent;\n",
              "      border-bottom-color: var(--fill-color);\n",
              "    }\n",
              "  }\n",
              "</style>\n",
              "\n",
              "  <script>\n",
              "    async function quickchart(key) {\n",
              "      const quickchartButtonEl =\n",
              "        document.querySelector('#' + key + ' button');\n",
              "      quickchartButtonEl.disabled = true;  // To prevent multiple clicks.\n",
              "      quickchartButtonEl.classList.add('colab-df-spinner');\n",
              "      try {\n",
              "        const charts = await google.colab.kernel.invokeFunction(\n",
              "            'suggestCharts', [key], {});\n",
              "      } catch (error) {\n",
              "        console.error('Error during call to suggestCharts:', error);\n",
              "      }\n",
              "      quickchartButtonEl.classList.remove('colab-df-spinner');\n",
              "      quickchartButtonEl.classList.add('colab-df-quickchart-complete');\n",
              "    }\n",
              "    (() => {\n",
              "      let quickchartButtonEl =\n",
              "        document.querySelector('#df-54d1c822-e8d9-4faf-859e-76e59a31d032 button');\n",
              "      quickchartButtonEl.style.display =\n",
              "        google.colab.kernel.accessAllowed ? 'block' : 'none';\n",
              "    })();\n",
              "  </script>\n",
              "</div>\n",
              "\n",
              "    </div>\n",
              "  </div>\n"
            ],
            "application/vnd.google.colaboratory.intrinsic+json": {
              "type": "dataframe",
              "variable_name": "df",
              "summary": "{\n  \"name\": \"df\",\n  \"rows\": 14640,\n  \"fields\": [\n    {\n      \"column\": \"tweet_id\",\n      \"properties\": {\n        \"dtype\": \"number\",\n        \"std\": 779111158481835,\n        \"min\": 567588278875213824,\n        \"max\": 570310600460525568,\n        \"num_unique_values\": 14485,\n        \"samples\": [\n          567917894144770049,\n          567813976492417024,\n          569243676594941953\n        ],\n        \"semantic_type\": \"\",\n        \"description\": \"\"\n      }\n    },\n    {\n      \"column\": \"airline_sentiment\",\n      \"properties\": {\n        \"dtype\": \"category\",\n        \"num_unique_values\": 3,\n        \"samples\": [\n          \"neutral\",\n          \"positive\",\n          \"negative\"\n        ],\n        \"semantic_type\": \"\",\n        \"description\": \"\"\n      }\n    },\n    {\n      \"column\": \"airline_sentiment_confidence\",\n      \"properties\": {\n        \"dtype\": \"number\",\n        \"std\": 0.16282995909867212,\n        \"min\": 0.335,\n        \"max\": 1.0,\n        \"num_unique_values\": 1023,\n        \"samples\": [\n          0.6723,\n          0.3551,\n          0.6498\n        ],\n        \"semantic_type\": \"\",\n        \"description\": \"\"\n      }\n    },\n    {\n      \"column\": \"negativereason\",\n      \"properties\": {\n        \"dtype\": \"category\",\n        \"num_unique_values\": 10,\n        \"samples\": [\n          \"Damaged Luggage\",\n          \"Can't Tell\",\n          \"Lost Luggage\"\n        ],\n        \"semantic_type\": \"\",\n        \"description\": \"\"\n      }\n    },\n    {\n      \"column\": \"negativereason_confidence\",\n      \"properties\": {\n        \"dtype\": \"number\",\n        \"std\": 0.3304397596377297,\n        \"min\": 0.0,\n        \"max\": 1.0,\n        \"num_unique_values\": 1410,\n        \"samples\": [\n          0.6677,\n          0.6622,\n          0.6905\n        ],\n        \"semantic_type\": \"\",\n        \"description\": \"\"\n      }\n    },\n    {\n      \"column\": \"airline\",\n      \"properties\": {\n        \"dtype\": \"category\",\n        \"num_unique_values\": 6,\n        \"samples\": [\n          \"Virgin America\",\n          \"United\",\n          \"American\"\n        ],\n        \"semantic_type\": \"\",\n        \"description\": \"\"\n      }\n    },\n    {\n      \"column\": \"airline_sentiment_gold\",\n      \"properties\": {\n        \"dtype\": \"category\",\n        \"num_unique_values\": 3,\n        \"samples\": [\n          \"negative\",\n          \"neutral\",\n          \"positive\"\n        ],\n        \"semantic_type\": \"\",\n        \"description\": \"\"\n      }\n    },\n    {\n      \"column\": \"name\",\n      \"properties\": {\n        \"dtype\": \"string\",\n        \"num_unique_values\": 7701,\n        \"samples\": [\n          \"smckenna719\",\n          \"thisAnneM\",\n          \"jmspool\"\n        ],\n        \"semantic_type\": \"\",\n        \"description\": \"\"\n      }\n    },\n    {\n      \"column\": \"negativereason_gold\",\n      \"properties\": {\n        \"dtype\": \"category\",\n        \"num_unique_values\": 13,\n        \"samples\": [\n          \"Customer Service Issue\\nLost Luggage\",\n          \"Late Flight\\nCancelled Flight\",\n          \"Late Flight\\nFlight Attendant Complaints\"\n        ],\n        \"semantic_type\": \"\",\n        \"description\": \"\"\n      }\n    },\n    {\n      \"column\": \"retweet_count\",\n      \"properties\": {\n        \"dtype\": \"number\",\n        \"std\": 0,\n        \"min\": 0,\n        \"max\": 44,\n        \"num_unique_values\": 18,\n        \"samples\": [\n          0,\n          1,\n          6\n        ],\n        \"semantic_type\": \"\",\n        \"description\": \"\"\n      }\n    },\n    {\n      \"column\": \"text\",\n      \"properties\": {\n        \"dtype\": \"string\",\n        \"num_unique_values\": 14427,\n        \"samples\": [\n          \"@JetBlue so technically I could drive to JFK now and put in. Request for tomorrow's flight?\",\n          \"@united why I won't check my carry on. Watched a handler throw this bag -- miss the conveyer belt -- sat there 10 min http://t.co/lyoocx5mSH\",\n          \"@SouthwestAir you guys are so clever \\ud83d\\ude03 http://t.co/qn5odUGFqK\"\n        ],\n        \"semantic_type\": \"\",\n        \"description\": \"\"\n      }\n    },\n    {\n      \"column\": \"tweet_coord\",\n      \"properties\": {\n        \"dtype\": \"category\",\n        \"num_unique_values\": 832,\n        \"samples\": [\n          \"[40.04915451, -75.10364317]\",\n          \"[32.97609561, -96.53349238]\",\n          \"[26.37852293, -81.78472152]\"\n        ],\n        \"semantic_type\": \"\",\n        \"description\": \"\"\n      }\n    },\n    {\n      \"column\": \"tweet_created\",\n      \"properties\": {\n        \"dtype\": \"object\",\n        \"num_unique_values\": 14247,\n        \"samples\": [\n          \"2015-02-23 07:40:55 -0800\",\n          \"2015-02-21 16:20:09 -0800\",\n          \"2015-02-21 21:33:21 -0800\"\n        ],\n        \"semantic_type\": \"\",\n        \"description\": \"\"\n      }\n    },\n    {\n      \"column\": \"tweet_location\",\n      \"properties\": {\n        \"dtype\": \"category\",\n        \"num_unique_values\": 3081,\n        \"samples\": [\n          \"Oakland, California\",\n          \"Beverly Hills, CA\",\n          \"Austin, TX/NY, NY\"\n        ],\n        \"semantic_type\": \"\",\n        \"description\": \"\"\n      }\n    },\n    {\n      \"column\": \"user_timezone\",\n      \"properties\": {\n        \"dtype\": \"category\",\n        \"num_unique_values\": 85,\n        \"samples\": [\n          \"Helsinki\",\n          \"Eastern Time (US & Canada)\",\n          \"America/Detroit\"\n        ],\n        \"semantic_type\": \"\",\n        \"description\": \"\"\n      }\n    }\n  ]\n}"
            }
          },
          "metadata": {},
          "execution_count": 226
        }
      ]
    },
    {
      "cell_type": "code",
      "source": [
        "# check the shape\n",
        "df.shape"
      ],
      "metadata": {
        "colab": {
          "base_uri": "https://localhost:8080/"
        },
        "id": "_9h20lXs8Fv5",
        "outputId": "d59d8ec4-98a4-4385-c4f2-1b66ef7e017f"
      },
      "execution_count": 227,
      "outputs": [
        {
          "output_type": "execute_result",
          "data": {
            "text/plain": [
              "(14640, 15)"
            ]
          },
          "metadata": {},
          "execution_count": 227
        }
      ]
    },
    {
      "cell_type": "code",
      "source": [
        "# check the data structure and data type\n",
        "df.info()"
      ],
      "metadata": {
        "colab": {
          "base_uri": "https://localhost:8080/"
        },
        "id": "qHAm8zYZ8Km-",
        "outputId": "dd8438a8-0d72-42d1-bace-c48c61aa40dd"
      },
      "execution_count": 228,
      "outputs": [
        {
          "output_type": "stream",
          "name": "stdout",
          "text": [
            "<class 'pandas.core.frame.DataFrame'>\n",
            "RangeIndex: 14640 entries, 0 to 14639\n",
            "Data columns (total 15 columns):\n",
            " #   Column                        Non-Null Count  Dtype  \n",
            "---  ------                        --------------  -----  \n",
            " 0   tweet_id                      14640 non-null  int64  \n",
            " 1   airline_sentiment             14640 non-null  object \n",
            " 2   airline_sentiment_confidence  14640 non-null  float64\n",
            " 3   negativereason                9178 non-null   object \n",
            " 4   negativereason_confidence     10522 non-null  float64\n",
            " 5   airline                       14640 non-null  object \n",
            " 6   airline_sentiment_gold        40 non-null     object \n",
            " 7   name                          14640 non-null  object \n",
            " 8   negativereason_gold           32 non-null     object \n",
            " 9   retweet_count                 14640 non-null  int64  \n",
            " 10  text                          14640 non-null  object \n",
            " 11  tweet_coord                   1019 non-null   object \n",
            " 12  tweet_created                 14640 non-null  object \n",
            " 13  tweet_location                9907 non-null   object \n",
            " 14  user_timezone                 9820 non-null   object \n",
            "dtypes: float64(2), int64(2), object(11)\n",
            "memory usage: 1.7+ MB\n"
          ]
        }
      ]
    },
    {
      "cell_type": "code",
      "source": [
        "# check missing values. for this NLP project, we will focus on two independable variables: airline sentiment and text.\n",
        "# fortunately, these two clumns have no missing values.\n",
        "df.isna().sum()/df.shape[0]"
      ],
      "metadata": {
        "colab": {
          "base_uri": "https://localhost:8080/"
        },
        "id": "vjwDl_u_8OXf",
        "outputId": "281af654-c8dc-4ab1-e6c2-c169ccd415c8"
      },
      "execution_count": 229,
      "outputs": [
        {
          "output_type": "execute_result",
          "data": {
            "text/plain": [
              "tweet_id                        0.000000\n",
              "airline_sentiment               0.000000\n",
              "airline_sentiment_confidence    0.000000\n",
              "negativereason                  0.373087\n",
              "negativereason_confidence       0.281284\n",
              "airline                         0.000000\n",
              "airline_sentiment_gold          0.997268\n",
              "name                            0.000000\n",
              "negativereason_gold             0.997814\n",
              "retweet_count                   0.000000\n",
              "text                            0.000000\n",
              "tweet_coord                     0.930396\n",
              "tweet_created                   0.000000\n",
              "tweet_location                  0.323292\n",
              "user_timezone                   0.329235\n",
              "dtype: float64"
            ]
          },
          "metadata": {},
          "execution_count": 229
        }
      ]
    },
    {
      "cell_type": "markdown",
      "source": [
        "# **Basic EDA and Feature Engineering**\n",
        "\n",
        "\n"
      ],
      "metadata": {
        "id": "294iGeY22JWh"
      }
    },
    {
      "cell_type": "code",
      "source": [
        "# let's look at the distribution of \"airline_sentiment\"\n",
        "values,counts = np.unique(df[\"airline_sentiment\"], return_counts=True)\n",
        "normalized_counts = counts/counts.sum()\n",
        "\n",
        "plt.figure()\n",
        "plt.bar(values,normalized_counts*100)\n",
        "plt.xlabel(\"Airline Sentiment\")\n",
        "plt.ylabel(\"% of Tweets\")\n",
        "plt.title(\"Sentiment by Rating\")\n",
        "plt.show()"
      ],
      "metadata": {
        "colab": {
          "base_uri": "https://localhost:8080/",
          "height": 472
        },
        "id": "lyEL7mZW8TH_",
        "outputId": "edbc8f97-385a-4876-d7aa-aeb6b374db93"
      },
      "execution_count": 230,
      "outputs": [
        {
          "output_type": "display_data",
          "data": {
            "text/plain": [
              "<Figure size 640x480 with 1 Axes>"
            ],
            "image/png": "[encoded data removed]"
          },
          "metadata": {}
        }
      ]
    },
    {
      "cell_type": "code",
      "source": [
        "# check the exact percentage for each category\n",
        "print(normalized_counts.round(2))"
      ],
      "metadata": {
        "colab": {
          "base_uri": "https://localhost:8080/"
        },
        "id": "-qLLocVd8cIT",
        "outputId": "4950f6bf-38e4-4b15-ed74-1432fd3079ab"
      },
      "execution_count": 231,
      "outputs": [
        {
          "output_type": "stream",
          "name": "stdout",
          "text": [
            "[0.63 0.21 0.16]\n"
          ]
        }
      ]
    },
    {
      "cell_type": "markdown",
      "source": [
        "By checking the percentage for each categry, we see that the \"negative\" category takes around 63%.This can be treated as the baseline to evaluate how the models perform we are building."
      ],
      "metadata": {
        "id": "NRMvTQYg20gV"
      }
    },
    {
      "cell_type": "code",
      "source": [
        "# check what is the main reasons that caused negative reviews\n",
        "df.groupby('negativereason')['negativereason'].count().sort_values(ascending=False)"
      ],
      "metadata": {
        "colab": {
          "base_uri": "https://localhost:8080/"
        },
        "id": "C-6D1iPB88fA",
        "outputId": "c514d361-64f5-4567-ec13-92dee1d233f0"
      },
      "execution_count": 232,
      "outputs": [
        {
          "output_type": "execute_result",
          "data": {
            "text/plain": [
              "negativereason\n",
              "Customer Service Issue         2910\n",
              "Late Flight                    1665\n",
              "Can't Tell                     1190\n",
              "Cancelled Flight                847\n",
              "Lost Luggage                    724\n",
              "Bad Flight                      580\n",
              "Flight Booking Problems         529\n",
              "Flight Attendant Complaints     481\n",
              "longlines                       178\n",
              "Damaged Luggage                  74\n",
              "Name: negativereason, dtype: int64"
            ]
          },
          "metadata": {},
          "execution_count": 232
        }
      ]
    },
    {
      "cell_type": "markdown",
      "source": [
        "We see that Customer Service Issue contributes the most to the negative review. Other issues are Late Flight, Cancelled Flight,Lost Luggage."
      ],
      "metadata": {
        "id": "FQMjTNeE4ExL"
      }
    },
    {
      "cell_type": "code",
      "source": [
        "# visualize the Negative Review Reasons\n",
        "df_by_negativereason = df.groupby('negativereason')['negativereason'].count().sort_values(ascending=False)\n",
        "\n",
        "plt.bar(df_by_negativereason.index,df_by_negativereason)\n",
        "plt.title('Tweet Volume Distribution For Negative Sentiment')\n",
        "plt.xticks(rotation=45)"
      ],
      "metadata": {
        "colab": {
          "base_uri": "https://localhost:8080/",
          "height": 777
        },
        "id": "Xj6H4lAS9E8t",
        "outputId": "7f135c13-6c9a-4ea6-fa18-0ca5a92e7851"
      },
      "execution_count": 233,
      "outputs": [
        {
          "output_type": "execute_result",
          "data": {
            "text/plain": [
              "([0, 1, 2, 3, 4, 5, 6, 7, 8, 9],\n",
              " [Text(0, 0, 'Customer Service Issue'),\n",
              "  Text(1, 0, 'Late Flight'),\n",
              "  Text(2, 0, \"Can't Tell\"),\n",
              "  Text(3, 0, 'Cancelled Flight'),\n",
              "  Text(4, 0, 'Lost Luggage'),\n",
              "  Text(5, 0, 'Bad Flight'),\n",
              "  Text(6, 0, 'Flight Booking Problems'),\n",
              "  Text(7, 0, 'Flight Attendant Complaints'),\n",
              "  Text(8, 0, 'longlines'),\n",
              "  Text(9, 0, 'Damaged Luggage')])"
            ]
          },
          "metadata": {},
          "execution_count": 233
        },
        {
          "output_type": "display_data",
          "data": {
            "text/plain": [
              "<Figure size 640x480 with 1 Axes>"
            ],
            "image/png": "[encoded data removed]"
          },
          "metadata": {}
        }
      ]
    },
    {
      "cell_type": "code",
      "source": [
        "# check the how positive/neutral/positive reviews distributed across these six airline companies\n",
        "df_sentiment_by_airline = df.groupby(['airline', 'airline_sentiment'])['airline'].count()/df.groupby(\"airline\")[\"airline\"].count()"
      ],
      "metadata": {
        "id": "ClaRJG0n9J3n"
      },
      "execution_count": 15,
      "outputs": []
    },
    {
      "cell_type": "code",
      "source": [
        "plt.figure()\n",
        "df_sentiment_by_airline.unstack().sort_values(by=\"positive\").plot(kind=\"barh\",stacked=True)\n",
        "plt.legend(bbox_to_anchor=(1.05, 1), loc='upper left')\n",
        "plt.title(\"Sentiment Rating by Airline\")\n",
        "plt.show()"
      ],
      "metadata": {
        "colab": {
          "base_uri": "https://localhost:8080/",
          "height": 469
        },
        "id": "k4EbZ4A69RAf",
        "outputId": "8ab553c1-935d-422a-9757-8fc3253140af"
      },
      "execution_count": 234,
      "outputs": [
        {
          "output_type": "display_data",
          "data": {
            "text/plain": [
              "<Figure size 640x480 with 0 Axes>"
            ]
          },
          "metadata": {}
        },
        {
          "output_type": "display_data",
          "data": {
            "text/plain": [
              "<Figure size 640x480 with 1 Axes>"
            ],
            "image/png": "[encoded data removed]"
          },
          "metadata": {}
        }
      ]
    },
    {
      "cell_type": "markdown",
      "source": [
        "We see Virgin America outperforms other carriers in terms of the percentage of positive reviews."
      ],
      "metadata": {
        "id": "y5lA21uJ5fwx"
      }
    },
    {
      "cell_type": "code",
      "source": [
        "# label encoding on the target feature \"airline_sentiment\"\n",
        "\n",
        "from sklearn.preprocessing import LabelEncoder\n",
        "\n",
        "# Instantiate the label encoder\n",
        "le = LabelEncoder()\n",
        "\n",
        "# Fit and transform the airline_sentiment column\n",
        "df['airline_sentiment'] = le.fit_transform(df['airline_sentiment'])"
      ],
      "metadata": {
        "id": "driXsgt19gB4"
      },
      "execution_count": 235,
      "outputs": []
    },
    {
      "cell_type": "markdown",
      "source": [
        "The target variable has been converted as:  Negative: 0; Neutral 1; Positive 2."
      ],
      "metadata": {
        "id": "-pymEdJAY_vF"
      }
    },
    {
      "cell_type": "code",
      "source": [
        "# spliting the data into training and test set\n",
        "\n",
        "from sklearn.feature_extraction.text import CountVectorizer\n",
        "from sklearn.model_selection import train_test_split\n",
        "X = df[\"text\"]\n",
        "y = df[\"airline_sentiment\"]\n",
        "X_train,X_test,y_train,y_test = train_test_split(X, y, test_size=0.33 ,random_state=42)"
      ],
      "metadata": {
        "id": "3Jip1v8QBs0V"
      },
      "execution_count": 236,
      "outputs": []
    },
    {
      "cell_type": "code",
      "source": [
        "# check these text content to get some idea of how the data looks\n",
        "X_train.values"
      ],
      "metadata": {
        "colab": {
          "base_uri": "https://localhost:8080/"
        },
        "id": "FRW0IQYGB5RI",
        "outputId": "da621533-6520-4305-d855-83140f07b5d1"
      },
      "execution_count": 237,
      "outputs": [
        {
          "output_type": "execute_result",
          "data": {
            "text/plain": [
              "array(['@JetBlue of course I am!!✈️',\n",
              "       '@AmericanAir complt incompetence on flt 295.Lav delay from a pln that lnded last nite, no internet and poor svc. Not what I expect from u.',\n",
              "       '@SouthwestAir Flight 4968 (N8325D) departs @MCO enroute to @NO_Airport http://t.co/fd4SnvKIeM',\n",
              "       ...,\n",
              "       '@SouthwestAir Been on hold for over an hour - any chance someone can help me on here?',\n",
              "       '@united we would...how do I contact you to discuss? A few poor experiences with customer service but would give it a shot!',\n",
              "       \"@JetBlue that's ok! It just sure seemed like it when JetBlue tweeted us back and asked us to send selfies of us watching.. Haha\"],\n",
              "      dtype=object)"
            ]
          },
          "metadata": {},
          "execution_count": 237
        }
      ]
    },
    {
      "cell_type": "code",
      "source": [
        "# size of training set\n",
        "X_train.shape"
      ],
      "metadata": {
        "colab": {
          "base_uri": "https://localhost:8080/"
        },
        "id": "5Bv69NZWB9Am",
        "outputId": "fcfeec47-2a40-4b97-8756-09a996bbed4e"
      },
      "execution_count": 238,
      "outputs": [
        {
          "output_type": "execute_result",
          "data": {
            "text/plain": [
              "(9808,)"
            ]
          },
          "metadata": {},
          "execution_count": 238
        }
      ]
    },
    {
      "cell_type": "markdown",
      "source": [
        "**Average Tweet Length and Frequent Used Words**"
      ],
      "metadata": {
        "id": "QuQysc1x7MmE"
      }
    },
    {
      "cell_type": "code",
      "source": [
        "# making a document-term matrix\n",
        "bagofwords = CountVectorizer()\n",
        "bagofwords.fit(X_train)\n",
        "X_train_transformed = bagofwords.transform(X_train)\n",
        "X_train_transformed"
      ],
      "metadata": {
        "colab": {
          "base_uri": "https://localhost:8080/"
        },
        "id": "pByKag57CD-x",
        "outputId": "b2949c4c-d66b-4bcc-db35-e851bb826c9f"
      },
      "execution_count": 239,
      "outputs": [
        {
          "output_type": "execute_result",
          "data": {
            "text/plain": [
              "<9808x12056 sparse matrix of type '<class 'numpy.int64'>'\n",
              "\twith 156290 stored elements in Compressed Sparse Row format>"
            ]
          },
          "metadata": {},
          "execution_count": 239
        }
      ]
    },
    {
      "cell_type": "code",
      "source": [
        "text_lengths = X.apply(lambda text: len(text.split()))\n",
        "plt.hist(text_lengths)\n",
        "plt.title(\"Tweets Length Distribution\")"
      ],
      "metadata": {
        "colab": {
          "base_uri": "https://localhost:8080/",
          "height": 469
        },
        "id": "xAdjt9udCLiq",
        "outputId": "1793a808-d138-466c-ac5c-1efa335cd7a3"
      },
      "execution_count": 240,
      "outputs": [
        {
          "output_type": "execute_result",
          "data": {
            "text/plain": [
              "Text(0.5, 1.0, 'Tweets Length Distribution')"
            ]
          },
          "metadata": {},
          "execution_count": 240
        },
        {
          "output_type": "display_data",
          "data": {
            "text/plain": [
              "<Figure size 640x480 with 1 Axes>"
            ],
            "image/png": "[encoded data removed]"
          },
          "metadata": {}
        }
      ]
    },
    {
      "cell_type": "markdown",
      "source": [
        "We can see  most tweet are 20-25 word long even this chart is a little positively skewed."
      ],
      "metadata": {
        "id": "gMnJBsu67dNQ"
      }
    },
    {
      "cell_type": "code",
      "source": [
        "# transforming the test set\n",
        "X_test_transformed = bagofwords.transform(X_test)\n",
        "X_test_transformed"
      ],
      "metadata": {
        "colab": {
          "base_uri": "https://localhost:8080/"
        },
        "id": "b4gMPz5ZCVfF",
        "outputId": "3b41574b-da29-4bc6-ae07-09b1bb5db2c7"
      },
      "execution_count": 241,
      "outputs": [
        {
          "output_type": "execute_result",
          "data": {
            "text/plain": [
              "<4832x12056 sparse matrix of type '<class 'numpy.int64'>'\n",
              "\twith 74703 stored elements in Compressed Sparse Row format>"
            ]
          },
          "metadata": {},
          "execution_count": 241
        }
      ]
    },
    {
      "cell_type": "code",
      "source": [
        "# check the total number of transformed tokens\n",
        "len(bagofwords.get_feature_names_out())"
      ],
      "metadata": {
        "colab": {
          "base_uri": "https://localhost:8080/"
        },
        "id": "pvR98NV1Ceug",
        "outputId": "9ab56d6f-b394-4cde-c215-1c159b33ffb0"
      },
      "execution_count": 27,
      "outputs": [
        {
          "output_type": "execute_result",
          "data": {
            "text/plain": [
              "12056"
            ]
          },
          "metadata": {},
          "execution_count": 27
        }
      ]
    },
    {
      "cell_type": "code",
      "source": [
        "# visualize the most frequently occurring words\n",
        "word_counts = pd.DataFrame({\"counts\": X_train_transformed.toarray().sum(axis=0)},\n",
        "                           index = bagofwords.get_feature_names_out()).sort_values(\"counts\", ascending=False)\n",
        "\n",
        "word_counts.head(20).plot(kind=\"bar\",figsize=(15,5),legend=False)\n",
        "plt.title(\"Top 20 most frequently occurring words\")\n",
        "plt.ylabel(\"Count\")\n",
        "plt.xticks(rotation=45)\n",
        "plt.show()"
      ],
      "metadata": {
        "colab": {
          "base_uri": "https://localhost:8080/",
          "height": 472
        },
        "id": "zyjmF0C3Cxk7",
        "outputId": "ce63dd42-cefe-4bd0-9234-0f85fe79b9b8"
      },
      "execution_count": 242,
      "outputs": [
        {
          "output_type": "display_data",
          "data": {
            "text/plain": [
              "<Figure size 1500x500 with 1 Axes>"
            ],
            "image/png": "[encoded data removed]"
          },
          "metadata": {}
        }
      ]
    },
    {
      "cell_type": "code",
      "source": [
        "# Solving Stopwords problem\n",
        "# easiest way to remove stop words\n",
        "bagofwords = CountVectorizer(stop_words=\"english\")\n",
        "bagofwords.fit(X_train)\n",
        "\n",
        "X_train_transformed = bagofwords.transform(X_train)\n",
        "X_test_transformed = bagofwords.transform(X_test)\n",
        "\n",
        "X_train_transformed.shape"
      ],
      "metadata": {
        "colab": {
          "base_uri": "https://localhost:8080/"
        },
        "id": "yfvR1VVIC3ol",
        "outputId": "8a11e464-82b4-4f86-bae4-d353227da4c3"
      },
      "execution_count": 244,
      "outputs": [
        {
          "output_type": "execute_result",
          "data": {
            "text/plain": [
              "(9808, 11777)"
            ]
          },
          "metadata": {},
          "execution_count": 244
        }
      ]
    },
    {
      "cell_type": "code",
      "source": [
        "word_counts = pd.DataFrame(\n",
        "    {\"counts\": X_train_transformed.toarray().sum(axis=0)},\n",
        "    index=bagofwords.get_feature_names_out()\n",
        ").sort_values(\"counts\", ascending=False)\n",
        "\n",
        "word_counts.head(20).plot(kind=\"bar\", figsize=(15, 5), legend=False)\n",
        "plt.title(\"Top 20 most frequently occurring words\")\n",
        "plt.ylabel(\"Count\")\n",
        "plt.xticks(rotation=45)\n",
        "plt.show()"
      ],
      "metadata": {
        "colab": {
          "base_uri": "https://localhost:8080/",
          "height": 472
        },
        "id": "6Eq5HXQAC9rJ",
        "outputId": "6b09b898-e504-427b-e60b-154a913d55a5"
      },
      "execution_count": 245,
      "outputs": [
        {
          "output_type": "display_data",
          "data": {
            "text/plain": [
              "<Figure size 1500x500 with 1 Axes>"
            ],
            "image/png": "[encoded data removed]"
          },
          "metadata": {}
        }
      ]
    },
    {
      "cell_type": "code",
      "source": [
        "# chck the document-term matrix to have an idea about how the transformed data looks\n",
        "term_doc = pd.DataFrame(X_train_transformed.toarray(),\n",
        "                        columns=bagofwords.get_feature_names_out())\n",
        "term_doc.sample(5)"
      ],
      "metadata": {
        "colab": {
          "base_uri": "https://localhost:8080/",
          "height": 255
        },
        "id": "b4la4vOsDB30",
        "outputId": "8055d57f-2c11-46e4-bce2-7992526a149f"
      },
      "execution_count": 246,
      "outputs": [
        {
          "output_type": "execute_result",
          "data": {
            "text/plain": [
              "      00  000  000114  000ft  0011  0016  00a  00am  00p  00pm  ...  zoom  \\\n",
              "1775   0    0       0      0     0     0    0     0    0     0  ...     0   \n",
              "8285   0    0       0      0     0     0    0     0    0     0  ...     0   \n",
              "4780   0    0       0      0     0     0    0     0    0     0  ...     0   \n",
              "8579   0    0       0      0     0     0    0     0    0     0  ...     0   \n",
              "1924   0    0       0      0     0     0    0     0    0     0  ...     0   \n",
              "\n",
              "      zqutus7epw  zrh_airport  zsdgzydnde  zsuztnaijq  ztrdwv0n4l  zurich  \\\n",
              "1775           0            0           0           0           0       0   \n",
              "8285           0            0           0           0           0       0   \n",
              "4780           0            0           0           0           0       0   \n",
              "8579           0            0           0           0           0       0   \n",
              "1924           0            0           0           0           0       0   \n",
              "\n",
              "      zv2pt6trk9  zv6cfpohl5  zvfmxnuelj  \n",
              "1775           0           0           0  \n",
              "8285           0           0           0  \n",
              "4780           0           0           0  \n",
              "8579           0           0           0  \n",
              "1924           0           0           0  \n",
              "\n",
              "[5 rows x 11777 columns]"
            ],
            "text/html": [
              "\n",
              "  <div id=\"df-ebcb8f2c-4305-41cc-af52-6312bcb501fc\" class=\"colab-df-container\">\n",
              "    <div>\n",
              "<style scoped>\n",
              "    .dataframe tbody tr th:only-of-type {\n",
              "        vertical-align: middle;\n",
              "    }\n",
              "\n",
              "    .dataframe tbody tr th {\n",
              "        vertical-align: top;\n",
              "    }\n",
              "\n",
              "    .dataframe thead th {\n",
              "        text-align: right;\n",
              "    }\n",
              "</style>\n",
              "<table border=\"1\" class=\"dataframe\">\n",
              "  <thead>\n",
              "    <tr style=\"text-align: right;\">\n",
              "      <th></th>\n",
              "      <th>00</th>\n",
              "      <th>000</th>\n",
              "      <th>000114</th>\n",
              "      <th>000ft</th>\n",
              "      <th>0011</th>\n",
              "      <th>0016</th>\n",
              "      <th>00a</th>\n",
              "      <th>00am</th>\n",
              "      <th>00p</th>\n",
              "      <th>00pm</th>\n",
              "      <th>...</th>\n",
              "      <th>zoom</th>\n",
              "      <th>zqutus7epw</th>\n",
              "      <th>zrh_airport</th>\n",
              "      <th>zsdgzydnde</th>\n",
              "      <th>zsuztnaijq</th>\n",
              "      <th>ztrdwv0n4l</th>\n",
              "      <th>zurich</th>\n",
              "      <th>zv2pt6trk9</th>\n",
              "      <th>zv6cfpohl5</th>\n",
              "      <th>zvfmxnuelj</th>\n",
              "    </tr>\n",
              "  </thead>\n",
              "  <tbody>\n",
              "    <tr>\n",
              "      <th>1775</th>\n",
              "      <td>0</td>\n",
              "      <td>0</td>\n",
              "      <td>0</td>\n",
              "      <td>0</td>\n",
              "      <td>0</td>\n",
              "      <td>0</td>\n",
              "      <td>0</td>\n",
              "      <td>0</td>\n",
              "      <td>0</td>\n",
              "      <td>0</td>\n",
              "      <td>...</td>\n",
              "      <td>0</td>\n",
              "      <td>0</td>\n",
              "      <td>0</td>\n",
              "      <td>0</td>\n",
              "      <td>0</td>\n",
              "      <td>0</td>\n",
              "      <td>0</td>\n",
              "      <td>0</td>\n",
              "      <td>0</td>\n",
              "      <td>0</td>\n",
              "    </tr>\n",
              "    <tr>\n",
              "      <th>8285</th>\n",
              "      <td>0</td>\n",
              "      <td>0</td>\n",
              "      <td>0</td>\n",
              "      <td>0</td>\n",
              "      <td>0</td>\n",
              "      <td>0</td>\n",
              "      <td>0</td>\n",
              "      <td>0</td>\n",
              "      <td>0</td>\n",
              "      <td>0</td>\n",
              "      <td>...</td>\n",
              "      <td>0</td>\n",
              "      <td>0</td>\n",
              "      <td>0</td>\n",
              "      <td>0</td>\n",
              "      <td>0</td>\n",
              "      <td>0</td>\n",
              "      <td>0</td>\n",
              "      <td>0</td>\n",
              "      <td>0</td>\n",
              "      <td>0</td>\n",
              "    </tr>\n",
              "    <tr>\n",
              "      <th>4780</th>\n",
              "      <td>0</td>\n",
              "      <td>0</td>\n",
              "      <td>0</td>\n",
              "      <td>0</td>\n",
              "      <td>0</td>\n",
              "      <td>0</td>\n",
              "      <td>0</td>\n",
              "      <td>0</td>\n",
              "      <td>0</td>\n",
              "      <td>0</td>\n",
              "      <td>...</td>\n",
              "      <td>0</td>\n",
              "      <td>0</td>\n",
              "      <td>0</td>\n",
              "      <td>0</td>\n",
              "      <td>0</td>\n",
              "      <td>0</td>\n",
              "      <td>0</td>\n",
              "      <td>0</td>\n",
              "      <td>0</td>\n",
              "      <td>0</td>\n",
              "    </tr>\n",
              "    <tr>\n",
              "      <th>8579</th>\n",
              "      <td>0</td>\n",
              "      <td>0</td>\n",
              "      <td>0</td>\n",
              "      <td>0</td>\n",
              "      <td>0</td>\n",
              "      <td>0</td>\n",
              "      <td>0</td>\n",
              "      <td>0</td>\n",
              "      <td>0</td>\n",
              "      <td>0</td>\n",
              "      <td>...</td>\n",
              "      <td>0</td>\n",
              "      <td>0</td>\n",
              "      <td>0</td>\n",
              "      <td>0</td>\n",
              "      <td>0</td>\n",
              "      <td>0</td>\n",
              "      <td>0</td>\n",
              "      <td>0</td>\n",
              "      <td>0</td>\n",
              "      <td>0</td>\n",
              "    </tr>\n",
              "    <tr>\n",
              "      <th>1924</th>\n",
              "      <td>0</td>\n",
              "      <td>0</td>\n",
              "      <td>0</td>\n",
              "      <td>0</td>\n",
              "      <td>0</td>\n",
              "      <td>0</td>\n",
              "      <td>0</td>\n",
              "      <td>0</td>\n",
              "      <td>0</td>\n",
              "      <td>0</td>\n",
              "      <td>...</td>\n",
              "      <td>0</td>\n",
              "      <td>0</td>\n",
              "      <td>0</td>\n",
              "      <td>0</td>\n",
              "      <td>0</td>\n",
              "      <td>0</td>\n",
              "      <td>0</td>\n",
              "      <td>0</td>\n",
              "      <td>0</td>\n",
              "      <td>0</td>\n",
              "    </tr>\n",
              "  </tbody>\n",
              "</table>\n",
              "<p>5 rows × 11777 columns</p>\n",
              "</div>\n",
              "    <div class=\"colab-df-buttons\">\n",
              "\n",
              "  <div class=\"colab-df-container\">\n",
              "    <button class=\"colab-df-convert\" onclick=\"convertToInteractive('df-ebcb8f2c-4305-41cc-af52-6312bcb501fc')\"\n",
              "            title=\"Convert this dataframe to an interactive table.\"\n",
              "            style=\"display:none;\">\n",
              "\n",
              "  <svg xmlns=\"http://www.w3.org/2000/svg\" height=\"24px\" viewBox=\"0 -960 960 960\">\n",
              "    <path d=\"M120-120v-720h720v720H120Zm60-500h600v-160H180v160Zm220 220h160v-160H400v160Zm0 220h160v-160H400v160ZM180-400h160v-160H180v160Zm440 0h160v-160H620v160ZM180-180h160v-160H180v160Zm440 0h160v-160H620v160Z\"/>\n",
              "  </svg>\n",
              "    </button>\n",
              "\n",
              "  <style>\n",
              "    .colab-df-container {\n",
              "      display:flex;\n",
              "      gap: 12px;\n",
              "    }\n",
              "\n",
              "    .colab-df-convert {\n",
              "      background-color: #E8F0FE;\n",
              "      border: none;\n",
              "      border-radius: 50%;\n",
              "      cursor: pointer;\n",
              "      display: none;\n",
              "      fill: #1967D2;\n",
              "      height: 32px;\n",
              "      padding: 0 0 0 0;\n",
              "      width: 32px;\n",
              "    }\n",
              "\n",
              "    .colab-df-convert:hover {\n",
              "      background-color: #E2EBFA;\n",
              "      box-shadow: 0px 1px 2px rgba(60, 64, 67, 0.3), 0px 1px 3px 1px rgba(60, 64, 67, 0.15);\n",
              "      fill: #174EA6;\n",
              "    }\n",
              "\n",
              "    .colab-df-buttons div {\n",
              "      margin-bottom: 4px;\n",
              "    }\n",
              "\n",
              "    [theme=dark] .colab-df-convert {\n",
              "      background-color: #3B4455;\n",
              "      fill: #D2E3FC;\n",
              "    }\n",
              "\n",
              "    [theme=dark] .colab-df-convert:hover {\n",
              "      background-color: #434B5C;\n",
              "      box-shadow: 0px 1px 3px 1px rgba(0, 0, 0, 0.15);\n",
              "      filter: drop-shadow(0px 1px 2px rgba(0, 0, 0, 0.3));\n",
              "      fill: #FFFFFF;\n",
              "    }\n",
              "  </style>\n",
              "\n",
              "    <script>\n",
              "      const buttonEl =\n",
              "        document.querySelector('#df-ebcb8f2c-4305-41cc-af52-6312bcb501fc button.colab-df-convert');\n",
              "      buttonEl.style.display =\n",
              "        google.colab.kernel.accessAllowed ? 'block' : 'none';\n",
              "\n",
              "      async function convertToInteractive(key) {\n",
              "        const element = document.querySelector('#df-ebcb8f2c-4305-41cc-af52-6312bcb501fc');\n",
              "        const dataTable =\n",
              "          await google.colab.kernel.invokeFunction('convertToInteractive',\n",
              "                                                    [key], {});\n",
              "        if (!dataTable) return;\n",
              "\n",
              "        const docLinkHtml = 'Like what you see? Visit the ' +\n",
              "          '<a target=\"_blank\" href=https://colab.research.google.com/notebooks/data_table.ipynb>data table notebook</a>'\n",
              "          + ' to learn more about interactive tables.';\n",
              "        element.innerHTML = '';\n",
              "        dataTable['output_type'] = 'display_data';\n",
              "        await google.colab.output.renderOutput(dataTable, element);\n",
              "        const docLink = document.createElement('div');\n",
              "        docLink.innerHTML = docLinkHtml;\n",
              "        element.appendChild(docLink);\n",
              "      }\n",
              "    </script>\n",
              "  </div>\n",
              "\n",
              "\n",
              "<div id=\"df-93810148-1e70-4731-b227-f2fcb74eb7eb\">\n",
              "  <button class=\"colab-df-quickchart\" onclick=\"quickchart('df-93810148-1e70-4731-b227-f2fcb74eb7eb')\"\n",
              "            title=\"Suggest charts\"\n",
              "            style=\"display:none;\">\n",
              "\n",
              "<svg xmlns=\"http://www.w3.org/2000/svg\" height=\"24px\"viewBox=\"0 0 24 24\"\n",
              "     width=\"24px\">\n",
              "    <g>\n",
              "        <path d=\"M19 3H5c-1.1 0-2 .9-2 2v14c0 1.1.9 2 2 2h14c1.1 0 2-.9 2-2V5c0-1.1-.9-2-2-2zM9 17H7v-7h2v7zm4 0h-2V7h2v10zm4 0h-2v-4h2v4z\"/>\n",
              "    </g>\n",
              "</svg>\n",
              "  </button>\n",
              "\n",
              "<style>\n",
              "  .colab-df-quickchart {\n",
              "      --bg-color: #E8F0FE;\n",
              "      --fill-color: #1967D2;\n",
              "      --hover-bg-color: #E2EBFA;\n",
              "      --hover-fill-color: #174EA6;\n",
              "      --disabled-fill-color: #AAA;\n",
              "      --disabled-bg-color: #DDD;\n",
              "  }\n",
              "\n",
              "  [theme=dark] .colab-df-quickchart {\n",
              "      --bg-color: #3B4455;\n",
              "      --fill-color: #D2E3FC;\n",
              "      --hover-bg-color: #434B5C;\n",
              "      --hover-fill-color: #FFFFFF;\n",
              "      --disabled-bg-color: #3B4455;\n",
              "      --disabled-fill-color: #666;\n",
              "  }\n",
              "\n",
              "  .colab-df-quickchart {\n",
              "    background-color: var(--bg-color);\n",
              "    border: none;\n",
              "    border-radius: 50%;\n",
              "    cursor: pointer;\n",
              "    display: none;\n",
              "    fill: var(--fill-color);\n",
              "    height: 32px;\n",
              "    padding: 0;\n",
              "    width: 32px;\n",
              "  }\n",
              "\n",
              "  .colab-df-quickchart:hover {\n",
              "    background-color: var(--hover-bg-color);\n",
              "    box-shadow: 0 1px 2px rgba(60, 64, 67, 0.3), 0 1px 3px 1px rgba(60, 64, 67, 0.15);\n",
              "    fill: var(--button-hover-fill-color);\n",
              "  }\n",
              "\n",
              "  .colab-df-quickchart-complete:disabled,\n",
              "  .colab-df-quickchart-complete:disabled:hover {\n",
              "    background-color: var(--disabled-bg-color);\n",
              "    fill: var(--disabled-fill-color);\n",
              "    box-shadow: none;\n",
              "  }\n",
              "\n",
              "  .colab-df-spinner {\n",
              "    border: 2px solid var(--fill-color);\n",
              "    border-color: transparent;\n",
              "    border-bottom-color: var(--fill-color);\n",
              "    animation:\n",
              "      spin 1s steps(1) infinite;\n",
              "  }\n",
              "\n",
              "  @keyframes spin {\n",
              "    0% {\n",
              "      border-color: transparent;\n",
              "      border-bottom-color: var(--fill-color);\n",
              "      border-left-color: var(--fill-color);\n",
              "    }\n",
              "    20% {\n",
              "      border-color: transparent;\n",
              "      border-left-color: var(--fill-color);\n",
              "      border-top-color: var(--fill-color);\n",
              "    }\n",
              "    30% {\n",
              "      border-color: transparent;\n",
              "      border-left-color: var(--fill-color);\n",
              "      border-top-color: var(--fill-color);\n",
              "      border-right-color: var(--fill-color);\n",
              "    }\n",
              "    40% {\n",
              "      border-color: transparent;\n",
              "      border-right-color: var(--fill-color);\n",
              "      border-top-color: var(--fill-color);\n",
              "    }\n",
              "    60% {\n",
              "      border-color: transparent;\n",
              "      border-right-color: var(--fill-color);\n",
              "    }\n",
              "    80% {\n",
              "      border-color: transparent;\n",
              "      border-right-color: var(--fill-color);\n",
              "      border-bottom-color: var(--fill-color);\n",
              "    }\n",
              "    90% {\n",
              "      border-color: transparent;\n",
              "      border-bottom-color: var(--fill-color);\n",
              "    }\n",
              "  }\n",
              "</style>\n",
              "\n",
              "  <script>\n",
              "    async function quickchart(key) {\n",
              "      const quickchartButtonEl =\n",
              "        document.querySelector('#' + key + ' button');\n",
              "      quickchartButtonEl.disabled = true;  // To prevent multiple clicks.\n",
              "      quickchartButtonEl.classList.add('colab-df-spinner');\n",
              "      try {\n",
              "        const charts = await google.colab.kernel.invokeFunction(\n",
              "            'suggestCharts', [key], {});\n",
              "      } catch (error) {\n",
              "        console.error('Error during call to suggestCharts:', error);\n",
              "      }\n",
              "      quickchartButtonEl.classList.remove('colab-df-spinner');\n",
              "      quickchartButtonEl.classList.add('colab-df-quickchart-complete');\n",
              "    }\n",
              "    (() => {\n",
              "      let quickchartButtonEl =\n",
              "        document.querySelector('#df-93810148-1e70-4731-b227-f2fcb74eb7eb button');\n",
              "      quickchartButtonEl.style.display =\n",
              "        google.colab.kernel.accessAllowed ? 'block' : 'none';\n",
              "    })();\n",
              "  </script>\n",
              "</div>\n",
              "\n",
              "    </div>\n",
              "  </div>\n"
            ],
            "application/vnd.google.colaboratory.intrinsic+json": {
              "type": "dataframe"
            }
          },
          "metadata": {},
          "execution_count": 246
        }
      ]
    },
    {
      "cell_type": "markdown",
      "source": [
        "# **Model Building**"
      ],
      "metadata": {
        "id": "l3BgnW_SZ4xy"
      }
    },
    {
      "cell_type": "markdown",
      "source": [
        "## The Bag-of-Words model\n"
      ],
      "metadata": {
        "id": "t-3pzUn-yQoA"
      }
    },
    {
      "cell_type": "code",
      "source": [
        "# Vectorization to include stopwords,max_features,min_df,max_df)\n",
        "vect = CountVectorizer(stop_words='english',\n",
        "                       max_features=1000,\n",
        "                       min_df = 5,\n",
        "                       max_df = 0.5)\n",
        "X_train_vect = vect.fit_transform(X_train)\n",
        "X_test_vect = vect.transform(X_test)"
      ],
      "metadata": {
        "id": "XYHYykpIfwyn"
      },
      "execution_count": 249,
      "outputs": []
    },
    {
      "cell_type": "code",
      "source": [
        "# the data is much cleaner now\n",
        "term_doc = pd.DataFrame(X_train_vect.toarray(),\n",
        "                        columns=vect.get_feature_names_out())\n",
        "term_doc.sample(100).T"
      ],
      "metadata": {
        "colab": {
          "base_uri": "https://localhost:8080/",
          "height": 423
        },
        "id": "uEEfOvFI_gqC",
        "outputId": "35d5f839-82eb-49ec-abd0-37e512aceda2"
      },
      "execution_count": 250,
      "outputs": [
        {
          "output_type": "execute_result",
          "data": {
            "text/plain": [
              "           5413  4443  8207  6277  1247  9061  3550  1404  9631  7325  ...  \\\n",
              "000           0     0     0     0     0     0     0     0     0     0  ...   \n",
              "10            0     0     0     0     0     0     0     0     0     0  ...   \n",
              "100           0     0     0     0     0     0     0     0     0     0  ...   \n",
              "11            0     0     0     0     0     0     0     0     0     0  ...   \n",
              "12            0     0     0     0     0     0     0     0     0     0  ...   \n",
              "...         ...   ...   ...   ...   ...   ...   ...   ...   ...   ...  ...   \n",
              "yep           0     0     0     0     0     0     0     0     0     0  ...   \n",
              "yes           0     0     0     0     0     0     0     0     0     0  ...   \n",
              "yesterday     0     0     0     0     0     0     0     0     0     0  ...   \n",
              "yr            0     0     0     0     0     0     0     0     0     0  ...   \n",
              "zero          0     0     0     0     0     0     0     0     0     0  ...   \n",
              "\n",
              "           8409  3152  9108  5244  1400  3968  5914  9262  132   6210  \n",
              "000           0     0     0     0     0     0     0     0     0     0  \n",
              "10            0     0     0     0     0     0     0     0     0     0  \n",
              "100           0     0     0     0     0     0     0     0     0     0  \n",
              "11            0     0     0     0     0     0     0     0     0     0  \n",
              "12            0     0     0     0     0     0     0     0     0     0  \n",
              "...         ...   ...   ...   ...   ...   ...   ...   ...   ...   ...  \n",
              "yep           0     0     0     0     0     0     0     0     0     0  \n",
              "yes           0     0     0     0     0     0     0     0     0     0  \n",
              "yesterday     0     0     0     0     0     0     0     0     0     0  \n",
              "yr            0     0     0     0     0     0     0     0     0     0  \n",
              "zero          0     0     0     0     0     0     0     0     0     0  \n",
              "\n",
              "[1000 rows x 100 columns]"
            ],
            "text/html": [
              "\n",
              "  <div id=\"df-dc82dd52-0cc2-4df3-a0d7-cac77297e016\" class=\"colab-df-container\">\n",
              "    <div>\n",
              "<style scoped>\n",
              "    .dataframe tbody tr th:only-of-type {\n",
              "        vertical-align: middle;\n",
              "    }\n",
              "\n",
              "    .dataframe tbody tr th {\n",
              "        vertical-align: top;\n",
              "    }\n",
              "\n",
              "    .dataframe thead th {\n",
              "        text-align: right;\n",
              "    }\n",
              "</style>\n",
              "<table border=\"1\" class=\"dataframe\">\n",
              "  <thead>\n",
              "    <tr style=\"text-align: right;\">\n",
              "      <th></th>\n",
              "      <th>5413</th>\n",
              "      <th>4443</th>\n",
              "      <th>8207</th>\n",
              "      <th>6277</th>\n",
              "      <th>1247</th>\n",
              "      <th>9061</th>\n",
              "      <th>3550</th>\n",
              "      <th>1404</th>\n",
              "      <th>9631</th>\n",
              "      <th>7325</th>\n",
              "      <th>...</th>\n",
              "      <th>8409</th>\n",
              "      <th>3152</th>\n",
              "      <th>9108</th>\n",
              "      <th>5244</th>\n",
              "      <th>1400</th>\n",
              "      <th>3968</th>\n",
              "      <th>5914</th>\n",
              "      <th>9262</th>\n",
              "      <th>132</th>\n",
              "      <th>6210</th>\n",
              "    </tr>\n",
              "  </thead>\n",
              "  <tbody>\n",
              "    <tr>\n",
              "      <th>000</th>\n",
              "      <td>0</td>\n",
              "      <td>0</td>\n",
              "      <td>0</td>\n",
              "      <td>0</td>\n",
              "      <td>0</td>\n",
              "      <td>0</td>\n",
              "      <td>0</td>\n",
              "      <td>0</td>\n",
              "      <td>0</td>\n",
              "      <td>0</td>\n",
              "      <td>...</td>\n",
              "      <td>0</td>\n",
              "      <td>0</td>\n",
              "      <td>0</td>\n",
              "      <td>0</td>\n",
              "      <td>0</td>\n",
              "      <td>0</td>\n",
              "      <td>0</td>\n",
              "      <td>0</td>\n",
              "      <td>0</td>\n",
              "      <td>0</td>\n",
              "    </tr>\n",
              "    <tr>\n",
              "      <th>10</th>\n",
              "      <td>0</td>\n",
              "      <td>0</td>\n",
              "      <td>0</td>\n",
              "      <td>0</td>\n",
              "      <td>0</td>\n",
              "      <td>0</td>\n",
              "      <td>0</td>\n",
              "      <td>0</td>\n",
              "      <td>0</td>\n",
              "      <td>0</td>\n",
              "      <td>...</td>\n",
              "      <td>0</td>\n",
              "      <td>0</td>\n",
              "      <td>0</td>\n",
              "      <td>0</td>\n",
              "      <td>0</td>\n",
              "      <td>0</td>\n",
              "      <td>0</td>\n",
              "      <td>0</td>\n",
              "      <td>0</td>\n",
              "      <td>0</td>\n",
              "    </tr>\n",
              "    <tr>\n",
              "      <th>100</th>\n",
              "      <td>0</td>\n",
              "      <td>0</td>\n",
              "      <td>0</td>\n",
              "      <td>0</td>\n",
              "      <td>0</td>\n",
              "      <td>0</td>\n",
              "      <td>0</td>\n",
              "      <td>0</td>\n",
              "      <td>0</td>\n",
              "      <td>0</td>\n",
              "      <td>...</td>\n",
              "      <td>0</td>\n",
              "      <td>0</td>\n",
              "      <td>0</td>\n",
              "      <td>0</td>\n",
              "      <td>0</td>\n",
              "      <td>0</td>\n",
              "      <td>0</td>\n",
              "      <td>0</td>\n",
              "      <td>0</td>\n",
              "      <td>0</td>\n",
              "    </tr>\n",
              "    <tr>\n",
              "      <th>11</th>\n",
              "      <td>0</td>\n",
              "      <td>0</td>\n",
              "      <td>0</td>\n",
              "      <td>0</td>\n",
              "      <td>0</td>\n",
              "      <td>0</td>\n",
              "      <td>0</td>\n",
              "      <td>0</td>\n",
              "      <td>0</td>\n",
              "      <td>0</td>\n",
              "      <td>...</td>\n",
              "      <td>0</td>\n",
              "      <td>0</td>\n",
              "      <td>0</td>\n",
              "      <td>0</td>\n",
              "      <td>0</td>\n",
              "      <td>0</td>\n",
              "      <td>0</td>\n",
              "      <td>0</td>\n",
              "      <td>0</td>\n",
              "      <td>0</td>\n",
              "    </tr>\n",
              "    <tr>\n",
              "      <th>12</th>\n",
              "      <td>0</td>\n",
              "      <td>0</td>\n",
              "      <td>0</td>\n",
              "      <td>0</td>\n",
              "      <td>0</td>\n",
              "      <td>0</td>\n",
              "      <td>0</td>\n",
              "      <td>0</td>\n",
              "      <td>0</td>\n",
              "      <td>0</td>\n",
              "      <td>...</td>\n",
              "      <td>0</td>\n",
              "      <td>0</td>\n",
              "      <td>0</td>\n",
              "      <td>0</td>\n",
              "      <td>0</td>\n",
              "      <td>0</td>\n",
              "      <td>0</td>\n",
              "      <td>0</td>\n",
              "      <td>0</td>\n",
              "      <td>0</td>\n",
              "    </tr>\n",
              "    <tr>\n",
              "      <th>...</th>\n",
              "      <td>...</td>\n",
              "      <td>...</td>\n",
              "      <td>...</td>\n",
              "      <td>...</td>\n",
              "      <td>...</td>\n",
              "      <td>...</td>\n",
              "      <td>...</td>\n",
              "      <td>...</td>\n",
              "      <td>...</td>\n",
              "      <td>...</td>\n",
              "      <td>...</td>\n",
              "      <td>...</td>\n",
              "      <td>...</td>\n",
              "      <td>...</td>\n",
              "      <td>...</td>\n",
              "      <td>...</td>\n",
              "      <td>...</td>\n",
              "      <td>...</td>\n",
              "      <td>...</td>\n",
              "      <td>...</td>\n",
              "      <td>...</td>\n",
              "    </tr>\n",
              "    <tr>\n",
              "      <th>yep</th>\n",
              "      <td>0</td>\n",
              "      <td>0</td>\n",
              "      <td>0</td>\n",
              "      <td>0</td>\n",
              "      <td>0</td>\n",
              "      <td>0</td>\n",
              "      <td>0</td>\n",
              "      <td>0</td>\n",
              "      <td>0</td>\n",
              "      <td>0</td>\n",
              "      <td>...</td>\n",
              "      <td>0</td>\n",
              "      <td>0</td>\n",
              "      <td>0</td>\n",
              "      <td>0</td>\n",
              "      <td>0</td>\n",
              "      <td>0</td>\n",
              "      <td>0</td>\n",
              "      <td>0</td>\n",
              "      <td>0</td>\n",
              "      <td>0</td>\n",
              "    </tr>\n",
              "    <tr>\n",
              "      <th>yes</th>\n",
              "      <td>0</td>\n",
              "      <td>0</td>\n",
              "      <td>0</td>\n",
              "      <td>0</td>\n",
              "      <td>0</td>\n",
              "      <td>0</td>\n",
              "      <td>0</td>\n",
              "      <td>0</td>\n",
              "      <td>0</td>\n",
              "      <td>0</td>\n",
              "      <td>...</td>\n",
              "      <td>0</td>\n",
              "      <td>0</td>\n",
              "      <td>0</td>\n",
              "      <td>0</td>\n",
              "      <td>0</td>\n",
              "      <td>0</td>\n",
              "      <td>0</td>\n",
              "      <td>0</td>\n",
              "      <td>0</td>\n",
              "      <td>0</td>\n",
              "    </tr>\n",
              "    <tr>\n",
              "      <th>yesterday</th>\n",
              "      <td>0</td>\n",
              "      <td>0</td>\n",
              "      <td>0</td>\n",
              "      <td>0</td>\n",
              "      <td>0</td>\n",
              "      <td>0</td>\n",
              "      <td>0</td>\n",
              "      <td>0</td>\n",
              "      <td>0</td>\n",
              "      <td>0</td>\n",
              "      <td>...</td>\n",
              "      <td>0</td>\n",
              "      <td>0</td>\n",
              "      <td>0</td>\n",
              "      <td>0</td>\n",
              "      <td>0</td>\n",
              "      <td>0</td>\n",
              "      <td>0</td>\n",
              "      <td>0</td>\n",
              "      <td>0</td>\n",
              "      <td>0</td>\n",
              "    </tr>\n",
              "    <tr>\n",
              "      <th>yr</th>\n",
              "      <td>0</td>\n",
              "      <td>0</td>\n",
              "      <td>0</td>\n",
              "      <td>0</td>\n",
              "      <td>0</td>\n",
              "      <td>0</td>\n",
              "      <td>0</td>\n",
              "      <td>0</td>\n",
              "      <td>0</td>\n",
              "      <td>0</td>\n",
              "      <td>...</td>\n",
              "      <td>0</td>\n",
              "      <td>0</td>\n",
              "      <td>0</td>\n",
              "      <td>0</td>\n",
              "      <td>0</td>\n",
              "      <td>0</td>\n",
              "      <td>0</td>\n",
              "      <td>0</td>\n",
              "      <td>0</td>\n",
              "      <td>0</td>\n",
              "    </tr>\n",
              "    <tr>\n",
              "      <th>zero</th>\n",
              "      <td>0</td>\n",
              "      <td>0</td>\n",
              "      <td>0</td>\n",
              "      <td>0</td>\n",
              "      <td>0</td>\n",
              "      <td>0</td>\n",
              "      <td>0</td>\n",
              "      <td>0</td>\n",
              "      <td>0</td>\n",
              "      <td>0</td>\n",
              "      <td>...</td>\n",
              "      <td>0</td>\n",
              "      <td>0</td>\n",
              "      <td>0</td>\n",
              "      <td>0</td>\n",
              "      <td>0</td>\n",
              "      <td>0</td>\n",
              "      <td>0</td>\n",
              "      <td>0</td>\n",
              "      <td>0</td>\n",
              "      <td>0</td>\n",
              "    </tr>\n",
              "  </tbody>\n",
              "</table>\n",
              "<p>1000 rows × 100 columns</p>\n",
              "</div>\n",
              "    <div class=\"colab-df-buttons\">\n",
              "\n",
              "  <div class=\"colab-df-container\">\n",
              "    <button class=\"colab-df-convert\" onclick=\"convertToInteractive('df-dc82dd52-0cc2-4df3-a0d7-cac77297e016')\"\n",
              "            title=\"Convert this dataframe to an interactive table.\"\n",
              "            style=\"display:none;\">\n",
              "\n",
              "  <svg xmlns=\"http://www.w3.org/2000/svg\" height=\"24px\" viewBox=\"0 -960 960 960\">\n",
              "    <path d=\"M120-120v-720h720v720H120Zm60-500h600v-160H180v160Zm220 220h160v-160H400v160Zm0 220h160v-160H400v160ZM180-400h160v-160H180v160Zm440 0h160v-160H620v160ZM180-180h160v-160H180v160Zm440 0h160v-160H620v160Z\"/>\n",
              "  </svg>\n",
              "    </button>\n",
              "\n",
              "  <style>\n",
              "    .colab-df-container {\n",
              "      display:flex;\n",
              "      gap: 12px;\n",
              "    }\n",
              "\n",
              "    .colab-df-convert {\n",
              "      background-color: #E8F0FE;\n",
              "      border: none;\n",
              "      border-radius: 50%;\n",
              "      cursor: pointer;\n",
              "      display: none;\n",
              "      fill: #1967D2;\n",
              "      height: 32px;\n",
              "      padding: 0 0 0 0;\n",
              "      width: 32px;\n",
              "    }\n",
              "\n",
              "    .colab-df-convert:hover {\n",
              "      background-color: #E2EBFA;\n",
              "      box-shadow: 0px 1px 2px rgba(60, 64, 67, 0.3), 0px 1px 3px 1px rgba(60, 64, 67, 0.15);\n",
              "      fill: #174EA6;\n",
              "    }\n",
              "\n",
              "    .colab-df-buttons div {\n",
              "      margin-bottom: 4px;\n",
              "    }\n",
              "\n",
              "    [theme=dark] .colab-df-convert {\n",
              "      background-color: #3B4455;\n",
              "      fill: #D2E3FC;\n",
              "    }\n",
              "\n",
              "    [theme=dark] .colab-df-convert:hover {\n",
              "      background-color: #434B5C;\n",
              "      box-shadow: 0px 1px 3px 1px rgba(0, 0, 0, 0.15);\n",
              "      filter: drop-shadow(0px 1px 2px rgba(0, 0, 0, 0.3));\n",
              "      fill: #FFFFFF;\n",
              "    }\n",
              "  </style>\n",
              "\n",
              "    <script>\n",
              "      const buttonEl =\n",
              "        document.querySelector('#df-dc82dd52-0cc2-4df3-a0d7-cac77297e016 button.colab-df-convert');\n",
              "      buttonEl.style.display =\n",
              "        google.colab.kernel.accessAllowed ? 'block' : 'none';\n",
              "\n",
              "      async function convertToInteractive(key) {\n",
              "        const element = document.querySelector('#df-dc82dd52-0cc2-4df3-a0d7-cac77297e016');\n",
              "        const dataTable =\n",
              "          await google.colab.kernel.invokeFunction('convertToInteractive',\n",
              "                                                    [key], {});\n",
              "        if (!dataTable) return;\n",
              "\n",
              "        const docLinkHtml = 'Like what you see? Visit the ' +\n",
              "          '<a target=\"_blank\" href=https://colab.research.google.com/notebooks/data_table.ipynb>data table notebook</a>'\n",
              "          + ' to learn more about interactive tables.';\n",
              "        element.innerHTML = '';\n",
              "        dataTable['output_type'] = 'display_data';\n",
              "        await google.colab.output.renderOutput(dataTable, element);\n",
              "        const docLink = document.createElement('div');\n",
              "        docLink.innerHTML = docLinkHtml;\n",
              "        element.appendChild(docLink);\n",
              "      }\n",
              "    </script>\n",
              "  </div>\n",
              "\n",
              "\n",
              "<div id=\"df-36f02038-bd33-4884-a26e-95c4fee28eca\">\n",
              "  <button class=\"colab-df-quickchart\" onclick=\"quickchart('df-36f02038-bd33-4884-a26e-95c4fee28eca')\"\n",
              "            title=\"Suggest charts\"\n",
              "            style=\"display:none;\">\n",
              "\n",
              "<svg xmlns=\"http://www.w3.org/2000/svg\" height=\"24px\"viewBox=\"0 0 24 24\"\n",
              "     width=\"24px\">\n",
              "    <g>\n",
              "        <path d=\"M19 3H5c-1.1 0-2 .9-2 2v14c0 1.1.9 2 2 2h14c1.1 0 2-.9 2-2V5c0-1.1-.9-2-2-2zM9 17H7v-7h2v7zm4 0h-2V7h2v10zm4 0h-2v-4h2v4z\"/>\n",
              "    </g>\n",
              "</svg>\n",
              "  </button>\n",
              "\n",
              "<style>\n",
              "  .colab-df-quickchart {\n",
              "      --bg-color: #E8F0FE;\n",
              "      --fill-color: #1967D2;\n",
              "      --hover-bg-color: #E2EBFA;\n",
              "      --hover-fill-color: #174EA6;\n",
              "      --disabled-fill-color: #AAA;\n",
              "      --disabled-bg-color: #DDD;\n",
              "  }\n",
              "\n",
              "  [theme=dark] .colab-df-quickchart {\n",
              "      --bg-color: #3B4455;\n",
              "      --fill-color: #D2E3FC;\n",
              "      --hover-bg-color: #434B5C;\n",
              "      --hover-fill-color: #FFFFFF;\n",
              "      --disabled-bg-color: #3B4455;\n",
              "      --disabled-fill-color: #666;\n",
              "  }\n",
              "\n",
              "  .colab-df-quickchart {\n",
              "    background-color: var(--bg-color);\n",
              "    border: none;\n",
              "    border-radius: 50%;\n",
              "    cursor: pointer;\n",
              "    display: none;\n",
              "    fill: var(--fill-color);\n",
              "    height: 32px;\n",
              "    padding: 0;\n",
              "    width: 32px;\n",
              "  }\n",
              "\n",
              "  .colab-df-quickchart:hover {\n",
              "    background-color: var(--hover-bg-color);\n",
              "    box-shadow: 0 1px 2px rgba(60, 64, 67, 0.3), 0 1px 3px 1px rgba(60, 64, 67, 0.15);\n",
              "    fill: var(--button-hover-fill-color);\n",
              "  }\n",
              "\n",
              "  .colab-df-quickchart-complete:disabled,\n",
              "  .colab-df-quickchart-complete:disabled:hover {\n",
              "    background-color: var(--disabled-bg-color);\n",
              "    fill: var(--disabled-fill-color);\n",
              "    box-shadow: none;\n",
              "  }\n",
              "\n",
              "  .colab-df-spinner {\n",
              "    border: 2px solid var(--fill-color);\n",
              "    border-color: transparent;\n",
              "    border-bottom-color: var(--fill-color);\n",
              "    animation:\n",
              "      spin 1s steps(1) infinite;\n",
              "  }\n",
              "\n",
              "  @keyframes spin {\n",
              "    0% {\n",
              "      border-color: transparent;\n",
              "      border-bottom-color: var(--fill-color);\n",
              "      border-left-color: var(--fill-color);\n",
              "    }\n",
              "    20% {\n",
              "      border-color: transparent;\n",
              "      border-left-color: var(--fill-color);\n",
              "      border-top-color: var(--fill-color);\n",
              "    }\n",
              "    30% {\n",
              "      border-color: transparent;\n",
              "      border-left-color: var(--fill-color);\n",
              "      border-top-color: var(--fill-color);\n",
              "      border-right-color: var(--fill-color);\n",
              "    }\n",
              "    40% {\n",
              "      border-color: transparent;\n",
              "      border-right-color: var(--fill-color);\n",
              "      border-top-color: var(--fill-color);\n",
              "    }\n",
              "    60% {\n",
              "      border-color: transparent;\n",
              "      border-right-color: var(--fill-color);\n",
              "    }\n",
              "    80% {\n",
              "      border-color: transparent;\n",
              "      border-right-color: var(--fill-color);\n",
              "      border-bottom-color: var(--fill-color);\n",
              "    }\n",
              "    90% {\n",
              "      border-color: transparent;\n",
              "      border-bottom-color: var(--fill-color);\n",
              "    }\n",
              "  }\n",
              "</style>\n",
              "\n",
              "  <script>\n",
              "    async function quickchart(key) {\n",
              "      const quickchartButtonEl =\n",
              "        document.querySelector('#' + key + ' button');\n",
              "      quickchartButtonEl.disabled = true;  // To prevent multiple clicks.\n",
              "      quickchartButtonEl.classList.add('colab-df-spinner');\n",
              "      try {\n",
              "        const charts = await google.colab.kernel.invokeFunction(\n",
              "            'suggestCharts', [key], {});\n",
              "      } catch (error) {\n",
              "        console.error('Error during call to suggestCharts:', error);\n",
              "      }\n",
              "      quickchartButtonEl.classList.remove('colab-df-spinner');\n",
              "      quickchartButtonEl.classList.add('colab-df-quickchart-complete');\n",
              "    }\n",
              "    (() => {\n",
              "      let quickchartButtonEl =\n",
              "        document.querySelector('#df-36f02038-bd33-4884-a26e-95c4fee28eca button');\n",
              "      quickchartButtonEl.style.display =\n",
              "        google.colab.kernel.accessAllowed ? 'block' : 'none';\n",
              "    })();\n",
              "  </script>\n",
              "</div>\n",
              "\n",
              "    </div>\n",
              "  </div>\n"
            ],
            "application/vnd.google.colaboratory.intrinsic+json": {
              "type": "dataframe"
            }
          },
          "metadata": {},
          "execution_count": 250
        }
      ]
    },
    {
      "cell_type": "markdown",
      "source": [
        "**Logistic regression model**"
      ],
      "metadata": {
        "id": "kvuBBBV6A1uO"
      }
    },
    {
      "cell_type": "code",
      "source": [
        "# Classifier Training with proper cross validation\n",
        "best_model = None\n",
        "best_score = -np.inf\n",
        "best_param = 0\n",
        "for cval in np.logspace(-3,3,10):\n",
        "    lr = LogisticRegression(C=cval,max_iter=1000)\n",
        "    lr.fit(X_train_vect,y_train)\n",
        "    score = lr.score(X_test_vect,y_test)\n",
        "    print(\"Accuracy = {:.4f} for C={:.4f}\".format(score,cval))\n",
        "    if score > best_score:\n",
        "        best_score = score\n",
        "        best_model = lr\n",
        "        best_param = cval"
      ],
      "metadata": {
        "colab": {
          "base_uri": "https://localhost:8080/"
        },
        "id": "aTJ8hR5bgYAz",
        "outputId": "9b5597b3-5806-45b3-fa16-80174f702f99"
      },
      "execution_count": 251,
      "outputs": [
        {
          "output_type": "stream",
          "name": "stdout",
          "text": [
            "Accuracy = 0.6389 for C=0.0010\n",
            "Accuracy = 0.6908 for C=0.0046\n",
            "Accuracy = 0.7467 for C=0.0215\n",
            "Accuracy = 0.7686 for C=0.1000\n",
            "Accuracy = 0.7744 for C=0.4642\n",
            "Accuracy = 0.7682 for C=2.1544\n",
            "Accuracy = 0.7608 for C=10.0000\n",
            "Accuracy = 0.7570 for C=46.4159\n",
            "Accuracy = 0.7554 for C=215.4435\n",
            "Accuracy = 0.7554 for C=1000.0000\n"
          ]
        }
      ]
    },
    {
      "cell_type": "code",
      "source": [
        "# check which regularization strength works best.\n",
        "print(f\"C is: {best_param}\")"
      ],
      "metadata": {
        "colab": {
          "base_uri": "https://localhost:8080/"
        },
        "id": "7BkHk2o7B6kh",
        "outputId": "73117025-5ed6-4233-d82f-529fb7fe7f46"
      },
      "execution_count": 252,
      "outputs": [
        {
          "output_type": "stream",
          "name": "stdout",
          "text": [
            "C is: 0.46415888336127775\n"
          ]
        }
      ]
    },
    {
      "cell_type": "code",
      "source": [
        "best_model.fit(X_train_vect,y_train)\n",
        "test_acc = best_model.score(X_test_vect,y_test)\n",
        "print(\"Our classifier test accuracy is {:.4f}\".format(test_acc))"
      ],
      "metadata": {
        "colab": {
          "base_uri": "https://localhost:8080/"
        },
        "id": "PWqYi7x2g2lM",
        "outputId": "5ca78b70-837e-422b-fc35-944ae2468c60"
      },
      "execution_count": 253,
      "outputs": [
        {
          "output_type": "stream",
          "name": "stdout",
          "text": [
            "Our classifier test accuracy is 0.7744\n"
          ]
        }
      ]
    },
    {
      "cell_type": "code",
      "source": [
        "# Vectorization by including both  unigrams and bigrams\n",
        "vect = CountVectorizer(stop_words='english',\n",
        "                       max_features=1000,\n",
        "                       min_df = 5,\n",
        "                       max_df = 0.5,ngram_range=(1,2))\n",
        "X_train_vect = vect.fit_transform(X_train)\n",
        "X_test_vect = vect.transform(X_test)"
      ],
      "metadata": {
        "id": "GEIlaPbsg2x8"
      },
      "execution_count": 254,
      "outputs": []
    },
    {
      "cell_type": "code",
      "source": [
        "# Classifier Training with proper cross validation\n",
        "best_model = None\n",
        "best_score = -np.inf\n",
        "best_param = 0\n",
        "for cval in np.logspace(-3,3,10):\n",
        "    lr = LogisticRegression(C=cval,max_iter=1000)\n",
        "    lr.fit(X_train_vect,y_train)\n",
        "    score = lr.score(X_test_vect,y_test)\n",
        "    print(\"Accuracy = {:.4f} for C={:.4f}\".format(score,cval))\n",
        "    if score > best_score:\n",
        "        best_score = score\n",
        "        best_model = lr\n",
        "        best_param = cval"
      ],
      "metadata": {
        "colab": {
          "base_uri": "https://localhost:8080/"
        },
        "id": "Ez7vgg7vg2-k",
        "outputId": "81f4108f-6e83-4c51-ff1e-96255735c1d7"
      },
      "execution_count": 255,
      "outputs": [
        {
          "output_type": "stream",
          "name": "stdout",
          "text": [
            "Accuracy = 0.6389 for C=0.0010\n",
            "Accuracy = 0.6916 for C=0.0046\n",
            "Accuracy = 0.7471 for C=0.0215\n",
            "Accuracy = 0.7647 for C=0.1000\n",
            "Accuracy = 0.7684 for C=0.4642\n",
            "Accuracy = 0.7637 for C=2.1544\n",
            "Accuracy = 0.7529 for C=10.0000\n",
            "Accuracy = 0.7488 for C=46.4159\n",
            "Accuracy = 0.7475 for C=215.4435\n",
            "Accuracy = 0.7477 for C=1000.0000\n"
          ]
        }
      ]
    },
    {
      "cell_type": "code",
      "source": [
        "best_model.fit(X_train_vect,y_train)\n",
        "test_acc = best_model.score(X_test_vect,y_test)\n",
        "print(\"Our classifier test accuracy is {:.4f}\".format(test_acc))"
      ],
      "metadata": {
        "colab": {
          "base_uri": "https://localhost:8080/"
        },
        "id": "EwSdhIKSg3Bw",
        "outputId": "f7a6efb5-0ba6-403b-92ea-74b26cdb6709"
      },
      "execution_count": 256,
      "outputs": [
        {
          "output_type": "stream",
          "name": "stdout",
          "text": [
            "Our classifier test accuracy is 0.7684\n"
          ]
        }
      ]
    },
    {
      "cell_type": "markdown",
      "source": [
        "We can see there is no impromnet by adding bigrams.\n",
        "\n",
        "Now Let's how logistic regression model performs on train and test set also considering different regulization method:"
      ],
      "metadata": {
        "id": "to2sD_1RDMYn"
      }
    },
    {
      "cell_type": "code",
      "source": [
        "best_acc = -np.inf\n",
        "best_model = None\n",
        "cvals = np.logspace(-4,4,20)\n",
        "trains,tests = [],[]\n",
        "for cv in cvals:\n",
        "    for penalty in (\"l1\",\"l2\"):\n",
        "        lr = LogisticRegression(C=cv,max_iter=1000,penalty=penalty,solver='liblinear')\n",
        "        lr.fit(X_train_vect,y_train)\n",
        "        train_score = lr.score(X_train_vect,y_train)\n",
        "        test_score = lr.score(X_test_vect,y_test)\n",
        "        print(\"Eval: C={:.6f} pen={} train={:.3f} test={:.3f}\".format(cv,penalty,train_score,test_score))\n",
        "        trains.append(train_score)\n",
        "        tests.append(test_score)\n",
        "        if test_score > best_acc:\n",
        "            best_acc = test_score\n",
        "            best_model = lr"
      ],
      "metadata": {
        "colab": {
          "base_uri": "https://localhost:8080/"
        },
        "id": "uB52MiG2h-Gj",
        "outputId": "630fac19-d1d0-422e-8dfb-f450755ce666"
      },
      "execution_count": 257,
      "outputs": [
        {
          "output_type": "stream",
          "name": "stdout",
          "text": [
            "Eval: C=0.000100 pen=l1 train=0.621 test=0.638\n",
            "Eval: C=0.000100 pen=l2 train=0.621 test=0.638\n",
            "Eval: C=0.000264 pen=l1 train=0.621 test=0.638\n",
            "Eval: C=0.000264 pen=l2 train=0.621 test=0.638\n",
            "Eval: C=0.000695 pen=l1 train=0.621 test=0.638\n",
            "Eval: C=0.000695 pen=l2 train=0.621 test=0.638\n",
            "Eval: C=0.001833 pen=l1 train=0.621 test=0.638\n",
            "Eval: C=0.001833 pen=l2 train=0.629 test=0.646\n",
            "Eval: C=0.004833 pen=l1 train=0.621 test=0.638\n",
            "Eval: C=0.004833 pen=l2 train=0.668 test=0.685\n",
            "Eval: C=0.012743 pen=l1 train=0.668 test=0.686\n",
            "Eval: C=0.012743 pen=l2 train=0.709 test=0.722\n",
            "Eval: C=0.033598 pen=l1 train=0.694 test=0.706\n",
            "Eval: C=0.033598 pen=l2 train=0.742 test=0.748\n",
            "Eval: C=0.088587 pen=l1 train=0.720 test=0.733\n",
            "Eval: C=0.088587 pen=l2 train=0.774 test=0.763\n",
            "Eval: C=0.233572 pen=l1 train=0.763 test=0.762\n",
            "Eval: C=0.233572 pen=l2 train=0.798 test=0.772\n",
            "Eval: C=0.615848 pen=l1 train=0.800 test=0.769\n",
            "Eval: C=0.615848 pen=l2 train=0.812 test=0.770\n",
            "Eval: C=1.623777 pen=l1 train=0.819 test=0.769\n",
            "Eval: C=1.623777 pen=l2 train=0.820 test=0.771\n",
            "Eval: C=4.281332 pen=l1 train=0.826 test=0.764\n",
            "Eval: C=4.281332 pen=l2 train=0.825 test=0.767\n",
            "Eval: C=11.288379 pen=l1 train=0.829 test=0.759\n",
            "Eval: C=11.288379 pen=l2 train=0.827 test=0.762\n",
            "Eval: C=29.763514 pen=l1 train=0.830 test=0.755\n",
            "Eval: C=29.763514 pen=l2 train=0.828 test=0.758\n",
            "Eval: C=78.475997 pen=l1 train=0.830 test=0.753\n",
            "Eval: C=78.475997 pen=l2 train=0.830 test=0.755\n",
            "Eval: C=206.913808 pen=l1 train=0.830 test=0.753\n",
            "Eval: C=206.913808 pen=l2 train=0.830 test=0.753\n",
            "Eval: C=545.559478 pen=l1 train=0.830 test=0.751\n",
            "Eval: C=545.559478 pen=l2 train=0.830 test=0.752\n",
            "Eval: C=1438.449888 pen=l1 train=0.830 test=0.751\n",
            "Eval: C=1438.449888 pen=l2 train=0.830 test=0.751\n",
            "Eval: C=3792.690191 pen=l1 train=0.830 test=0.752\n",
            "Eval: C=3792.690191 pen=l2 train=0.830 test=0.751\n",
            "Eval: C=10000.000000 pen=l1 train=0.830 test=0.751\n",
            "Eval: C=10000.000000 pen=l2 train=0.830 test=0.751\n"
          ]
        }
      ]
    },
    {
      "cell_type": "code",
      "source": [
        "best_penalty = best_model.get_params()['penalty']\n",
        "best_weight = best_model.get_params()['C']\n",
        "print(\"Classifier: penalty={} C={:.3f} Test Acc = {:.3f}\".format(best_penalty,best_weight,best_acc))"
      ],
      "metadata": {
        "colab": {
          "base_uri": "https://localhost:8080/"
        },
        "id": "Gkqh0arwh-Th",
        "outputId": "402e0366-2610-4db7-b83f-b4fb9ec3fc87"
      },
      "execution_count": 258,
      "outputs": [
        {
          "output_type": "stream",
          "name": "stdout",
          "text": [
            "Classifier: penalty=l2 C=0.234 Test Acc = 0.772\n"
          ]
        }
      ]
    },
    {
      "cell_type": "code",
      "source": [
        "plt.figure()\n",
        "plt.plot(cvals,trains[::2],color='blue',label=\"TRAIN_L1\")\n",
        "plt.plot(cvals,tests[::2],color='red',label=\"TEST_L1\")\n",
        "plt.plot(cvals,trains[1::2],color='blue',label=\"TRAIN_L2\",ls=\"--\")\n",
        "plt.plot(cvals,tests[1::2],color='red',label=\"TEST_L2\",ls=\"--\")\n",
        "plt.xscale('log')\n",
        "plt.legend()\n",
        "plt.xlabel(\"Regularization Weight\")\n",
        "plt.ylabel(\"Accuracies\")\n",
        "plt.title(\"Sentiment Classifier Evaluation\")\n",
        "plt.axvline(best_weight)\n",
        "plt.grid()"
      ],
      "metadata": {
        "colab": {
          "base_uri": "https://localhost:8080/",
          "height": 476
        },
        "id": "wiMggRqhh-Wu",
        "outputId": "2aff8ae0-94ea-497e-ea78-e5c581c70267"
      },
      "execution_count": 259,
      "outputs": [
        {
          "output_type": "display_data",
          "data": {
            "text/plain": [
              "<Figure size 640x480 with 1 Axes>"
            ],
            "image/png": "[encoded data removed]"
          },
          "metadata": {}
        }
      ]
    },
    {
      "cell_type": "markdown",
      "source": [
        "We can achieve the accuracy of 77.2% by using logistic regression model."
      ],
      "metadata": {
        "id": "mUVe9raWIHeG"
      }
    },
    {
      "cell_type": "markdown",
      "source": [
        "**Decision Tree model**"
      ],
      "metadata": {
        "id": "K4qDT_MvFrXX"
      }
    },
    {
      "cell_type": "code",
      "source": [
        "from sklearn.tree import DecisionTreeClassifier\n",
        "\n",
        "dt_model = DecisionTreeClassifier(max_depth=6)\n",
        "dt_model.fit(X_train_vect, y_train)\n",
        "\n",
        "train_predictions = dt_model.predict(X_train_vect)\n",
        "test_predictions = dt_model.predict(X_test_vect)\n",
        "train_accuracy = accuracy_score(train_predictions,y_train)\n",
        "test_accuracy = accuracy_score(test_predictions,y_test)\n",
        "\n",
        "print(f\"Train accuracy: {train_accuracy}\")\n",
        "print(f\"Test accuracy: {test_accuracy}\")"
      ],
      "metadata": {
        "colab": {
          "base_uri": "https://localhost:8080/"
        },
        "id": "DydDfdTVDlZL",
        "outputId": "f2c9191a-97c1-44b1-ea3f-c2d0b5062a0f"
      },
      "execution_count": 260,
      "outputs": [
        {
          "output_type": "stream",
          "name": "stdout",
          "text": [
            "Train accuracy: 0.6887234910277324\n",
            "Test accuracy: 0.6924668874172185\n"
          ]
        }
      ]
    },
    {
      "cell_type": "code",
      "source": [
        "# create pipeling and specify selection of hyperparameters\n",
        "from sklearn.model_selection import GridSearchCV\n",
        "from sklearn.tree import DecisionTreeClassifier\n",
        "\n",
        "dtree = DecisionTreeClassifier()\n",
        "\n",
        "params = {'max_depth': list(np.arange(1,20,2)),\n",
        "          'criterion':   [\"gini\", \"entropy\", \"log_loss\"],\n",
        "          'min_samples_leaf': list(np.arange(1,40,2))}\n",
        "\n",
        "grid_search = GridSearchCV(dtree, param_grid=params,cv=5)\n",
        "\n",
        "grid_search.fit(X_train_vect, y_train)\n",
        "print(f\"Train score: {grid_search.score(X_train_vect, y_train)}\")\n",
        "print(f\"Test score: {grid_search.score(X_test_vect, y_test)}\")"
      ],
      "metadata": {
        "colab": {
          "base_uri": "https://localhost:8080/"
        },
        "id": "6byXAcBH4l78",
        "outputId": "6717c4a0-42c0-4854-ca98-04d6f3ac73c7"
      },
      "execution_count": 261,
      "outputs": [
        {
          "output_type": "stream",
          "name": "stdout",
          "text": [
            "Train score: 0.7119698205546493\n",
            "Test score: 0.7071605960264901\n"
          ]
        }
      ]
    },
    {
      "cell_type": "code",
      "source": [
        "print(grid_search.best_estimator_)"
      ],
      "metadata": {
        "colab": {
          "base_uri": "https://localhost:8080/"
        },
        "id": "RXbC5BoZ8ACf",
        "outputId": "1959d44f-a384-4f47-db22-6c5cdb38fa20"
      },
      "execution_count": 262,
      "outputs": [
        {
          "output_type": "stream",
          "name": "stdout",
          "text": [
            "DecisionTreeClassifier(criterion='log_loss', max_depth=17, min_samples_leaf=7)\n"
          ]
        }
      ]
    },
    {
      "cell_type": "markdown",
      "source": [
        "We can achieve the accuracy of 70% by using decision tree model."
      ],
      "metadata": {
        "id": "vIaCa3IyIjvp"
      }
    },
    {
      "cell_type": "markdown",
      "source": [
        "**Random Forest Classifier**"
      ],
      "metadata": {
        "id": "iWDLrKeoIw6L"
      }
    },
    {
      "cell_type": "code",
      "source": [
        "# test random forest model using 50 estimators  max_depth=10\n",
        "from sklearn.ensemble import RandomForestClassifier\n",
        "\n",
        "random_forest_model = RandomForestClassifier(n_estimators=50,max_depth=10 )\n",
        "random_forest_model.fit(X_train_vect, y_train)\n",
        "random_forest_model.score(X_train_vect,y_train)"
      ],
      "metadata": {
        "colab": {
          "base_uri": "https://localhost:8080/"
        },
        "id": "Mheg_gbR4mBZ",
        "outputId": "d4dda5b4-37f3-4472-c38f-df8ab24afd17"
      },
      "execution_count": 263,
      "outputs": [
        {
          "output_type": "execute_result",
          "data": {
            "text/plain": [
              "0.6434543230016313"
            ]
          },
          "metadata": {},
          "execution_count": 263
        }
      ]
    },
    {
      "cell_type": "code",
      "source": [
        "random_forest_model.score(X_test_vect,y_test)"
      ],
      "metadata": {
        "colab": {
          "base_uri": "https://localhost:8080/"
        },
        "id": "JQDT3LY7IHBY",
        "outputId": "6a13bb0c-33a1-498f-ec5c-40e7e16a9978"
      },
      "execution_count": 264,
      "outputs": [
        {
          "output_type": "execute_result",
          "data": {
            "text/plain": [
              "0.6545943708609272"
            ]
          },
          "metadata": {},
          "execution_count": 264
        }
      ]
    },
    {
      "cell_type": "code",
      "source": [
        "# let's try different number of estimators\n",
        "best_model = None\n",
        "best_score = -np.inf\n",
        "trains,tests = [],[]\n",
        "best_est = 1\n",
        "n_est = [1,2,5,10,20,50,100]\n",
        "for ne in n_est:\n",
        "    model = RandomForestClassifier(n_estimators=ne)\n",
        "    model.fit(X_train_vect,y_train)\n",
        "    train_score = model.score(X_train_vect,y_train)\n",
        "    test_score = model.score(X_test_vect,y_test)\n",
        "    trains.append(train_score)\n",
        "    tests.append(test_score)\n",
        "    if test_score > best_score:\n",
        "        best_model = model\n",
        "        best_score = test_score\n",
        "        best_est = ne"
      ],
      "metadata": {
        "id": "htQe9gQWGp8B"
      },
      "execution_count": 265,
      "outputs": []
    },
    {
      "cell_type": "code",
      "source": [
        "print(trains)"
      ],
      "metadata": {
        "colab": {
          "base_uri": "https://localhost:8080/"
        },
        "id": "Y6B0cU84L5wj",
        "outputId": "0cab3a13-1d93-4d6d-ffb1-12943e76e9d2"
      },
      "execution_count": 266,
      "outputs": [
        {
          "output_type": "stream",
          "name": "stdout",
          "text": [
            "[0.8567495921696574, 0.8833605220228385, 0.9450448613376835, 0.9703303425774877, 0.9796084828711256, 0.9833809135399674, 0.9833809135399674]\n"
          ]
        }
      ]
    },
    {
      "cell_type": "code",
      "source": [
        "print(tests)"
      ],
      "metadata": {
        "colab": {
          "base_uri": "https://localhost:8080/"
        },
        "id": "gU2xFxHJKA9I",
        "outputId": "fd067391-99cc-4149-c779-b85db0d4aea0"
      },
      "execution_count": 267,
      "outputs": [
        {
          "output_type": "stream",
          "name": "stdout",
          "text": [
            "[0.6415562913907285, 0.6955711920529801, 0.7067466887417219, 0.7259933774834437, 0.730546357615894, 0.7390314569536424, 0.7452400662251656]\n"
          ]
        }
      ]
    },
    {
      "cell_type": "code",
      "source": [
        "print(best_score)"
      ],
      "metadata": {
        "colab": {
          "base_uri": "https://localhost:8080/"
        },
        "id": "y91gQeb9Kl-0",
        "outputId": "b64d0c1d-1134-432c-94d1-e69138b899d6"
      },
      "execution_count": 268,
      "outputs": [
        {
          "output_type": "stream",
          "name": "stdout",
          "text": [
            "0.7452400662251656\n"
          ]
        }
      ]
    },
    {
      "cell_type": "markdown",
      "source": [
        "If we don't limit the max_depth, the decision tree classifier always goes deeper to fit the training dataset, making the power of genenalization very weak on unseen data. Let's use cross_val_score method to verify this."
      ],
      "metadata": {
        "id": "Xs0eKljKPtmx"
      }
    },
    {
      "cell_type": "code",
      "source": [
        "# using cross_vall_score method\n",
        "\n",
        "from sklearn.model_selection import cross_val_score\n",
        "\n",
        "best_model = None\n",
        "best_score = -np.inf\n",
        "depths = [1,2,3,4,5,6,7,8,9,None]\n",
        "for depth in depths:\n",
        "    model = RandomForestClassifier(n_estimators=100,max_depth=depth)\n",
        "    cv_scores = cross_val_score(model,X_train_vect,y_train,cv=5)\n",
        "    val_score = cv_scores.mean()\n",
        "    if val_score > best_score:\n",
        "        best_model = model\n",
        "        best_score = val_score"
      ],
      "metadata": {
        "id": "qjrqmwFhRerz"
      },
      "execution_count": 269,
      "outputs": []
    },
    {
      "cell_type": "code",
      "source": [
        "best_model.fit(X_train_vect,y_train)\n",
        "best_model.score(X_train_vect,y_train)"
      ],
      "metadata": {
        "id": "1O9uCduUGqEz",
        "colab": {
          "base_uri": "https://localhost:8080/"
        },
        "outputId": "71b9f363-f234-4ebb-c041-81d8138c875c"
      },
      "execution_count": 270,
      "outputs": [
        {
          "output_type": "execute_result",
          "data": {
            "text/plain": [
              "0.9834828711256117"
            ]
          },
          "metadata": {},
          "execution_count": 270
        }
      ]
    },
    {
      "cell_type": "code",
      "source": [
        "best_model.score(X_test_vect,y_test)"
      ],
      "metadata": {
        "id": "QPy1D8_-GqHQ",
        "colab": {
          "base_uri": "https://localhost:8080/"
        },
        "outputId": "3a965e41-fc70-43c8-a412-4a442e50b188"
      },
      "execution_count": 271,
      "outputs": [
        {
          "output_type": "execute_result",
          "data": {
            "text/plain": [
              "0.7404801324503312"
            ]
          },
          "metadata": {},
          "execution_count": 271
        }
      ]
    },
    {
      "cell_type": "markdown",
      "source": [
        "using GridSeachCV and Random Forest Classifier"
      ],
      "metadata": {
        "id": "sRxWdWh-NpqD"
      }
    },
    {
      "cell_type": "code",
      "source": [
        "# define the model\n",
        "from sklearn.model_selection import GridSearchCV\n",
        "from sklearn.ensemble import RandomForestClassifier\n",
        "\n",
        "random_grid_test = {'n_estimators': [1,2,5,10,20,50,100],\n",
        "               'max_depth': [1,5,10,30,60,80,100]}\n",
        "\n",
        "\n",
        "grid = GridSearchCV(estimator = RandomForestClassifier(),\n",
        "                    param_grid = random_grid_test,\n",
        "                    cv = 5)\n",
        "\n",
        "# fit the model\n",
        "grid.fit(X_train_vect,y_train)\n",
        "\n",
        "print(f\"Train score: {grid.score(X_train_vect, y_train)}\")\n",
        "print(f\"Test score: {grid.score(X_test_vect, y_test)}\")"
      ],
      "metadata": {
        "id": "bQU5OAUy-GKJ",
        "colab": {
          "base_uri": "https://localhost:8080/"
        },
        "outputId": "fba8215d-8db2-4a4d-e3c2-26e36193402e"
      },
      "execution_count": 272,
      "outputs": [
        {
          "output_type": "stream",
          "name": "stdout",
          "text": [
            "Train score: 0.8927406199021207\n",
            "Test score: 0.7489652317880795\n"
          ]
        }
      ]
    },
    {
      "cell_type": "code",
      "source": [
        "grid.best_estimator_.get_params()"
      ],
      "metadata": {
        "id": "_zQwbtmc-G85",
        "colab": {
          "base_uri": "https://localhost:8080/"
        },
        "outputId": "20f86a62-85ec-4433-b51a-b32ce0912f37"
      },
      "execution_count": 273,
      "outputs": [
        {
          "output_type": "execute_result",
          "data": {
            "text/plain": [
              "{'bootstrap': True,\n",
              " 'ccp_alpha': 0.0,\n",
              " 'class_weight': None,\n",
              " 'criterion': 'gini',\n",
              " 'max_depth': 60,\n",
              " 'max_features': 'sqrt',\n",
              " 'max_leaf_nodes': None,\n",
              " 'max_samples': None,\n",
              " 'min_impurity_decrease': 0.0,\n",
              " 'min_samples_leaf': 1,\n",
              " 'min_samples_split': 2,\n",
              " 'min_weight_fraction_leaf': 0.0,\n",
              " 'n_estimators': 100,\n",
              " 'n_jobs': None,\n",
              " 'oob_score': False,\n",
              " 'random_state': None,\n",
              " 'verbose': 0,\n",
              " 'warm_start': False}"
            ]
          },
          "metadata": {},
          "execution_count": 273
        }
      ]
    },
    {
      "cell_type": "markdown",
      "source": [
        "**Adaboot Classfier**"
      ],
      "metadata": {
        "id": "IiH462lHZSMx"
      }
    },
    {
      "cell_type": "code",
      "source": [
        "from sklearn.ensemble import AdaBoostClassifier\n",
        "from sklearn.metrics import classification_report\n",
        "\n",
        "abc_1 = AdaBoostClassifier(n_estimators=20)\n",
        "abc_1.fit(X_train_vect, y_train)\n",
        "\n",
        "y_pred = abc_1.predict(X_test_vect)\n",
        "\n",
        "print(classification_report(y_test, y_pred))"
      ],
      "metadata": {
        "colab": {
          "base_uri": "https://localhost:8080/"
        },
        "id": "gp9ew9IRV_aA",
        "outputId": "1944ad29-1680-4e9d-8dc3-c16b174d2c39"
      },
      "execution_count": 274,
      "outputs": [
        {
          "output_type": "stream",
          "name": "stdout",
          "text": [
            "              precision    recall  f1-score   support\n",
            "\n",
            "           0       0.71      0.95      0.82      3085\n",
            "           1       0.44      0.02      0.03       984\n",
            "           2       0.67      0.59      0.63       763\n",
            "\n",
            "    accuracy                           0.70      4832\n",
            "   macro avg       0.61      0.52      0.49      4832\n",
            "weighted avg       0.65      0.70      0.63      4832\n",
            "\n"
          ]
        }
      ]
    },
    {
      "cell_type": "code",
      "source": [
        "# let's Adaboost Claissifier on different number of estimator with max_depth 2\n",
        "\n",
        "base_tree = DecisionTreeClassifier(max_depth=2, random_state = 42)\n",
        "estimators = list(range(1, 50, 3))\n",
        "\n",
        "abc_scores = []\n",
        "for n_est in estimators:\n",
        "    abc = AdaBoostClassifier(\n",
        "        base_estimator=base_tree,\n",
        "        n_estimators = n_est)\n",
        "\n",
        "    abc.fit(X_train_vect, y_train)\n",
        "    y_pred = abc.predict(X_test_vect)\n",
        "    abc_scores.append(accuracy_score(y_test, y_pred))\n",
        "\n",
        "# plot test scores and n_estimators\n",
        "plt.plot(estimators, abc_scores)\n",
        "plt.xlabel('n_estimators')\n",
        "plt.ylabel('accuracy')\n",
        "plt.ylim([0, 1])\n",
        "plt.show()\n",
        "\n",
        "print(classification_report(y_test, y_pred))"
      ],
      "metadata": {
        "colab": {
          "base_uri": "https://localhost:8080/",
          "height": 629
        },
        "id": "RR5GrDkAa8MV",
        "outputId": "b01ec758-5065-4760-e5c8-7a2e726af9e7"
      },
      "execution_count": 275,
      "outputs": [
        {
          "output_type": "display_data",
          "data": {
            "text/plain": [
              "<Figure size 640x480 with 1 Axes>"
            ],
            "image/png": "[encoded data removed]"
          },
          "metadata": {}
        },
        {
          "output_type": "stream",
          "name": "stdout",
          "text": [
            "              precision    recall  f1-score   support\n",
            "\n",
            "           0       0.80      0.87      0.83      3085\n",
            "           1       0.51      0.42      0.46       984\n",
            "           2       0.68      0.59      0.63       763\n",
            "\n",
            "    accuracy                           0.73      4832\n",
            "   macro avg       0.66      0.63      0.64      4832\n",
            "weighted avg       0.72      0.73      0.72      4832\n",
            "\n"
          ]
        }
      ]
    },
    {
      "cell_type": "markdown",
      "source": [
        "**Gradient Boostig Classifier**"
      ],
      "metadata": {
        "id": "rBmvKWigaZ6h"
      }
    },
    {
      "cell_type": "code",
      "source": [
        "from sklearn.ensemble import GradientBoostingClassifier\n",
        "\n",
        "gbc_2 = GradientBoostingClassifier()\n",
        "gbc_2.fit(X_train_vect, y_train)\n",
        "\n",
        "y_pred = gbc_2.predict(X_test_vect)\n",
        "print(classification_report(y_test, y_pred))"
      ],
      "metadata": {
        "colab": {
          "base_uri": "https://localhost:8080/"
        },
        "id": "fWuZ_eRbV_fu",
        "outputId": "def233e2-9750-4f24-d4fe-ca571b7ae8cd"
      },
      "execution_count": 276,
      "outputs": [
        {
          "output_type": "stream",
          "name": "stdout",
          "text": [
            "              precision    recall  f1-score   support\n",
            "\n",
            "           0       0.74      0.95      0.83      3085\n",
            "           1       0.69      0.19      0.30       984\n",
            "           2       0.72      0.56      0.63       763\n",
            "\n",
            "    accuracy                           0.73      4832\n",
            "   macro avg       0.72      0.56      0.58      4832\n",
            "weighted avg       0.73      0.73      0.69      4832\n",
            "\n"
          ]
        }
      ]
    },
    {
      "cell_type": "markdown",
      "source": [
        "## TF-IDF Vectorization"
      ],
      "metadata": {
        "id": "ueljjSlVbqwx"
      }
    },
    {
      "cell_type": "code",
      "source": [
        "from sklearn.feature_extraction.text import TfidfVectorizer\n",
        "\n",
        "stemmer = nltk.stem.PorterStemmer()\n",
        "import string"
      ],
      "metadata": {
        "id": "irBYlAckdNJ3"
      },
      "execution_count": 279,
      "outputs": []
    },
    {
      "cell_type": "code",
      "source": [
        "# import the nltk stopwords\n",
        "nltk.download('stopwords')\n",
        "from nltk.corpus import stopwords\n",
        "\n",
        "ENGLISH_STOP_WORDS = stopwords.words('english')\n",
        "\n",
        "def my_tokenizer(sentence):\n",
        "    # remove punctuation and set to lower case\n",
        "    for punctuation_mark in string.punctuation:\n",
        "        sentence = sentence.replace(punctuation_mark,'').lower()\n",
        "\n",
        "    # split sentence into words\n",
        "    listofwords = sentence.split(' ')\n",
        "    listofstemmed_words = []\n",
        "\n",
        "    # remove stopwords and any tokens that are just empty strings\n",
        "    for word in listofwords:\n",
        "        if (not word in ENGLISH_STOP_WORDS) and (word!=''):\n",
        "            # Stem words\n",
        "            stemmed_word = stemmer.stem(word)\n",
        "            listofstemmed_words.append(stemmed_word)\n",
        "\n",
        "    return listofstemmed_words"
      ],
      "metadata": {
        "colab": {
          "base_uri": "https://localhost:8080/"
        },
        "id": "9d9162ixbfMB",
        "outputId": "fcc0aaef-3ea9-49e1-8537-4b3802bc5560"
      },
      "execution_count": 280,
      "outputs": [
        {
          "output_type": "stream",
          "name": "stderr",
          "text": [
            "[nltk_data] Downloading package stopwords to /root/nltk_data...\n",
            "[nltk_data]   Package stopwords is already up-to-date!\n"
          ]
        }
      ]
    },
    {
      "cell_type": "code",
      "source": [
        "# vectorization using TFODF\n",
        "tfidf = TfidfVectorizer(min_df=5,\n",
        "                        tokenizer=my_tokenizer)\n",
        "tfidf.fit(X_train)\n",
        "\n",
        "X_train_tfidf = tfidf.transform(X_train)\n",
        "X_test_tfidf = tfidf.transform(X_test)\n",
        "\n",
        "X_train_tfidf.shape"
      ],
      "metadata": {
        "colab": {
          "base_uri": "https://localhost:8080/"
        },
        "id": "22nJES_XbfPg",
        "outputId": "821cc8d7-8e48-441e-cd31-a1847262e0f2"
      },
      "execution_count": 282,
      "outputs": [
        {
          "output_type": "execute_result",
          "data": {
            "text/plain": [
              "(9808, 1970)"
            ]
          },
          "metadata": {},
          "execution_count": 282
        }
      ]
    },
    {
      "cell_type": "code",
      "source": [
        "X_train_tfidf.toarray()"
      ],
      "metadata": {
        "colab": {
          "base_uri": "https://localhost:8080/"
        },
        "id": "TtA5XrQNbfSi",
        "outputId": "defb473a-7379-4744-e9bc-f75d2be98b97"
      },
      "execution_count": 283,
      "outputs": [
        {
          "output_type": "execute_result",
          "data": {
            "text/plain": [
              "array([[0., 0., 0., ..., 0., 0., 0.],\n",
              "       [0., 0., 0., ..., 0., 0., 0.],\n",
              "       [0., 0., 0., ..., 0., 0., 0.],\n",
              "       ...,\n",
              "       [0., 0., 0., ..., 0., 0., 0.],\n",
              "       [0., 0., 0., ..., 0., 0., 0.],\n",
              "       [0., 0., 0., ..., 0., 0., 0.]])"
            ]
          },
          "metadata": {},
          "execution_count": 283
        }
      ]
    },
    {
      "cell_type": "code",
      "source": [
        "# build Logistic regression model on TFIDF\n",
        "best_acc = -np.inf\n",
        "best_model = None\n",
        "cvals = np.logspace(-4,4,20)\n",
        "trains,tests = [],[]\n",
        "for cv in cvals:\n",
        "    for penalty in (\"l1\",\"l2\"):\n",
        "        lr = LogisticRegression(C=cv,max_iter=1000,penalty=penalty,solver='liblinear')\n",
        "        lr.fit(X_train_tfidf,y_train)\n",
        "        train_score = lr.score(X_train_tfidf,y_train)\n",
        "        test_score = lr.score(X_test_tfidf,y_test)\n",
        "        print(\"Eval: C={:.6f} pen={} train={:.3f} test={:.3f}\".format(cv,penalty,train_score,test_score))\n",
        "        trains.append(train_score)\n",
        "        tests.append(test_score)\n",
        "        if test_score > best_acc:\n",
        "            best_acc = test_score\n",
        "            best_model = lr"
      ],
      "metadata": {
        "colab": {
          "base_uri": "https://localhost:8080/"
        },
        "id": "7ZF6LuPvbfZu",
        "outputId": "5a04374b-d8e9-45d8-b2e9-b973646ecfde"
      },
      "execution_count": 284,
      "outputs": [
        {
          "output_type": "stream",
          "name": "stdout",
          "text": [
            "Eval: C=0.000100 pen=l1 train=0.621 test=0.638\n",
            "Eval: C=0.000100 pen=l2 train=0.621 test=0.638\n",
            "Eval: C=0.000264 pen=l1 train=0.621 test=0.638\n",
            "Eval: C=0.000264 pen=l2 train=0.621 test=0.638\n",
            "Eval: C=0.000695 pen=l1 train=0.621 test=0.638\n",
            "Eval: C=0.000695 pen=l2 train=0.621 test=0.638\n",
            "Eval: C=0.001833 pen=l1 train=0.621 test=0.638\n",
            "Eval: C=0.001833 pen=l2 train=0.621 test=0.638\n",
            "Eval: C=0.004833 pen=l1 train=0.621 test=0.638\n",
            "Eval: C=0.004833 pen=l2 train=0.621 test=0.638\n",
            "Eval: C=0.012743 pen=l1 train=0.642 test=0.659\n",
            "Eval: C=0.012743 pen=l2 train=0.630 test=0.648\n",
            "Eval: C=0.033598 pen=l1 train=0.667 test=0.682\n",
            "Eval: C=0.033598 pen=l2 train=0.653 test=0.671\n",
            "Eval: C=0.088587 pen=l1 train=0.692 test=0.704\n",
            "Eval: C=0.088587 pen=l2 train=0.695 test=0.704\n",
            "Eval: C=0.233572 pen=l1 train=0.729 test=0.739\n",
            "Eval: C=0.233572 pen=l2 train=0.753 test=0.752\n",
            "Eval: C=0.615848 pen=l1 train=0.778 test=0.776\n",
            "Eval: C=0.615848 pen=l2 train=0.807 test=0.783\n",
            "Eval: C=1.623777 pen=l1 train=0.839 test=0.795\n",
            "Eval: C=1.623777 pen=l2 train=0.843 test=0.793\n",
            "Eval: C=4.281332 pen=l1 train=0.878 test=0.791\n",
            "Eval: C=4.281332 pen=l2 train=0.866 test=0.800\n",
            "Eval: C=11.288379 pen=l1 train=0.898 test=0.776\n",
            "Eval: C=11.288379 pen=l2 train=0.883 test=0.789\n",
            "Eval: C=29.763514 pen=l1 train=0.906 test=0.761\n",
            "Eval: C=29.763514 pen=l2 train=0.893 test=0.786\n",
            "Eval: C=78.475997 pen=l1 train=0.910 test=0.752\n",
            "Eval: C=78.475997 pen=l2 train=0.901 test=0.777\n",
            "Eval: C=206.913808 pen=l1 train=0.911 test=0.746\n",
            "Eval: C=206.913808 pen=l2 train=0.906 test=0.764\n",
            "Eval: C=545.559478 pen=l1 train=0.912 test=0.744\n",
            "Eval: C=545.559478 pen=l2 train=0.909 test=0.756\n",
            "Eval: C=1438.449888 pen=l1 train=0.913 test=0.741\n",
            "Eval: C=1438.449888 pen=l2 train=0.911 test=0.751\n",
            "Eval: C=3792.690191 pen=l1 train=0.913 test=0.740\n",
            "Eval: C=3792.690191 pen=l2 train=0.912 test=0.746\n",
            "Eval: C=10000.000000 pen=l1 train=0.913 test=0.739\n",
            "Eval: C=10000.000000 pen=l2 train=0.912 test=0.745\n"
          ]
        }
      ]
    },
    {
      "cell_type": "code",
      "source": [
        "best_penalty = best_model.get_params()['penalty']\n",
        "best_weight = best_model.get_params()['C']\n",
        "print(\"Classifier: penalty={} C={:.3f} Test Acc = {:.3f}\".format(best_penalty,best_weight,best_acc))"
      ],
      "metadata": {
        "colab": {
          "base_uri": "https://localhost:8080/"
        },
        "id": "ojiYjghybfcD",
        "outputId": "897985a6-bafc-4e27-b9db-1e133ef09e7d"
      },
      "execution_count": 285,
      "outputs": [
        {
          "output_type": "stream",
          "name": "stdout",
          "text": [
            "Classifier: penalty=l2 C=4.281 Test Acc = 0.800\n"
          ]
        }
      ]
    },
    {
      "cell_type": "code",
      "source": [
        "plt.figure()\n",
        "plt.plot(cvals,trains[::2],color='blue',label=\"TRAIN_L1\")\n",
        "plt.plot(cvals,tests[::2],color='red',label=\"TEST_L1\")\n",
        "plt.plot(cvals,trains[1::2],color='blue',label=\"TRAIN_L2\",ls=\"--\")\n",
        "plt.plot(cvals,tests[1::2],color='red',label=\"TEST_L2\",ls=\"--\")\n",
        "plt.xscale('log')\n",
        "plt.legend()\n",
        "plt.xlabel(\"Regularization Weight\")\n",
        "plt.ylabel(\"Accuracies\")\n",
        "plt.title(\"Sentiment Classifier Evaluation\")\n",
        "plt.axvline(best_weight)\n",
        "plt.grid()"
      ],
      "metadata": {
        "colab": {
          "base_uri": "https://localhost:8080/",
          "height": 476
        },
        "id": "zDoP1QgygW_D",
        "outputId": "7136352d-2195-4363-f08c-0ebbd7625411"
      },
      "execution_count": 129,
      "outputs": [
        {
          "output_type": "display_data",
          "data": {
            "text/plain": [
              "<Figure size 640x480 with 1 Axes>"
            ],
            "image/png": "[encoded data removed]"
          },
          "metadata": {}
        }
      ]
    },
    {
      "cell_type": "markdown",
      "source": [
        "Using TFIDF and customized tokeners, we can achieve the accuracy of 80%,\n",
        "(3% higher than bag of words)."
      ],
      "metadata": {
        "id": "p7wHQrZkfZQZ"
      }
    },
    {
      "cell_type": "code",
      "source": [
        "# run Decision tree on TFIDF\n",
        "from sklearn.model_selection import GridSearchCV\n",
        "from sklearn.tree import DecisionTreeClassifier\n",
        "\n",
        "dtree = DecisionTreeClassifier()\n",
        "\n",
        "params = {'max_depth': list(np.arange(1,20,2)),\n",
        "          'criterion':   [\"gini\", \"entropy\", \"log_loss\"],\n",
        "          'min_samples_leaf': list(np.arange(1,40,2))}\n",
        "\n",
        "grid_search = GridSearchCV(dtree, param_grid=params,cv=5)\n",
        "\n",
        "grid_search.fit(X_train_tfidf, y_train)\n",
        "print(f\"Train score: {grid_search.score(X_train_tfidf, y_train)}\")\n",
        "print(f\"Test score: {grid_search.score(X_test_tfidf, y_test)}\")"
      ],
      "metadata": {
        "colab": {
          "base_uri": "https://localhost:8080/"
        },
        "id": "f-oENPaKbfej",
        "outputId": "bd083d78-5298-4e7f-d7d6-ecd1c77bcfac"
      },
      "execution_count": 286,
      "outputs": [
        {
          "output_type": "stream",
          "name": "stdout",
          "text": [
            "Train score: 0.7759991843393148\n",
            "Test score: 0.7158526490066225\n"
          ]
        }
      ]
    },
    {
      "cell_type": "code",
      "source": [
        "from sklearn.ensemble import AdaBoostClassifier\n",
        "from sklearn.metrics import classification_report\n",
        "\n",
        "abc_1 = AdaBoostClassifier(n_estimators=20)\n",
        "abc_1.fit(X_train_tfidf, y_train)\n",
        "\n",
        "y_pred = abc_1.predict(X_test_tfidf)\n",
        "\n",
        "print(classification_report(y_test, y_pred))"
      ],
      "metadata": {
        "colab": {
          "base_uri": "https://localhost:8080/"
        },
        "id": "KejXFEhMbfg8",
        "outputId": "43ddc1ed-2b39-4b91-86d7-76dd6463a539"
      },
      "execution_count": 287,
      "outputs": [
        {
          "output_type": "stream",
          "name": "stdout",
          "text": [
            "              precision    recall  f1-score   support\n",
            "\n",
            "           0       0.71      0.95      0.82      3085\n",
            "           1       0.56      0.02      0.04       984\n",
            "           2       0.67      0.59      0.63       763\n",
            "\n",
            "    accuracy                           0.71      4832\n",
            "   macro avg       0.65      0.52      0.50      4832\n",
            "weighted avg       0.68      0.71      0.63      4832\n",
            "\n"
          ]
        }
      ]
    },
    {
      "cell_type": "code",
      "source": [
        "from sklearn.ensemble import GradientBoostingClassifier\n",
        "\n",
        "gbc_2 = GradientBoostingClassifier()\n",
        "gbc_2.fit(X_train_tfidf, y_train)\n",
        "\n",
        "y_pred = gbc_2.predict(X_test_tfidf)\n",
        "print(classification_report(y_test, y_pred))"
      ],
      "metadata": {
        "colab": {
          "base_uri": "https://localhost:8080/"
        },
        "id": "yAWJcRG3bfkC",
        "outputId": "035b0ede-3a76-4eca-e92d-1fc20ae4a9bc"
      },
      "execution_count": 288,
      "outputs": [
        {
          "output_type": "stream",
          "name": "stdout",
          "text": [
            "              precision    recall  f1-score   support\n",
            "\n",
            "           0       0.76      0.95      0.85      3085\n",
            "           1       0.68      0.26      0.37       984\n",
            "           2       0.76      0.58      0.65       763\n",
            "\n",
            "    accuracy                           0.75      4832\n",
            "   macro avg       0.73      0.60      0.62      4832\n",
            "weighted avg       0.74      0.75      0.72      4832\n",
            "\n"
          ]
        }
      ]
    },
    {
      "cell_type": "markdown",
      "source": [
        "# **Word Embedding**"
      ],
      "metadata": {
        "id": "FZTb4PJQatQD"
      }
    },
    {
      "cell_type": "code",
      "source": [
        "import gensim\n",
        "from gensim.utils import simple_preprocess"
      ],
      "metadata": {
        "id": "mf3VbRPM-HDJ"
      },
      "execution_count": 289,
      "outputs": []
    },
    {
      "cell_type": "code",
      "source": [
        "model = gensim.models.KeyedVectors.load_word2vec_format(\n",
        "    'https://www.dropbox.com/s/kguufyc2xcdi8yk/lexvec.enwiki%2Bnewscrawl.300d.W.pos.vectors.gz?dl=1', binary=False\n",
        ")"
      ],
      "metadata": {
        "id": "dSId5a3o-HGk"
      },
      "execution_count": 290,
      "outputs": []
    },
    {
      "cell_type": "code",
      "source": [
        "def sentence2vec(text):\n",
        "    \"\"\"\n",
        "    Embed a sentence by averaging the word vectors of the tokenized text. Out-of-vocabulary words are replaced by the zero-vector.\n",
        "    -----\n",
        "\n",
        "    Input: text (string)\n",
        "    Output: embedding vector (np.array)\n",
        "    \"\"\"\n",
        "    tokenized = simple_preprocess(text)\n",
        "\n",
        "    word_embeddings = [np.zeros(300)]\n",
        "    for word in tokenized:\n",
        "        # if the word is in the model then embed\n",
        "        if word in model:\n",
        "            vector = model[word]\n",
        "        # add zeros for out-of-vocab words\n",
        "        else:\n",
        "            vector = np.zeros(300)\n",
        "\n",
        "        word_embeddings.append(vector)\n",
        "\n",
        "    # average the word vectors\n",
        "    sentence_embedding = np.stack(word_embeddings).mean(axis=0)\n",
        "\n",
        "    return sentence_embedding"
      ],
      "metadata": {
        "id": "wLsv_QXV-HJO"
      },
      "execution_count": 291,
      "outputs": []
    },
    {
      "cell_type": "code",
      "source": [
        "X_train_emb = X_train.apply(sentence2vec)\n",
        "X_train_emb = np.array(X_train_emb.tolist())"
      ],
      "metadata": {
        "id": "0XUJkBC34mE6"
      },
      "execution_count": 292,
      "outputs": []
    },
    {
      "cell_type": "code",
      "source": [
        "X_test_emb = X_test.apply(sentence2vec)\n",
        "X_test_emb = np.array(X_test_emb.tolist())"
      ],
      "metadata": {
        "id": "i3Kx7gEj_KgZ"
      },
      "execution_count": 293,
      "outputs": []
    },
    {
      "cell_type": "code",
      "source": [
        "X_train_emb.shape"
      ],
      "metadata": {
        "colab": {
          "base_uri": "https://localhost:8080/"
        },
        "id": "kNBbTq7tjYA0",
        "outputId": "6ad920e7-c8de-4c53-c8a4-2627dba8702e"
      },
      "execution_count": 138,
      "outputs": [
        {
          "output_type": "execute_result",
          "data": {
            "text/plain": [
              "(9808, 300)"
            ]
          },
          "metadata": {},
          "execution_count": 138
        }
      ]
    },
    {
      "cell_type": "markdown",
      "source": [
        "**Logistic Regression**"
      ],
      "metadata": {
        "id": "D2AN43j5iKn1"
      }
    },
    {
      "cell_type": "code",
      "source": [
        "logreg = LogisticRegression(max_iter=1000,solver='liblinear')\n",
        "grid_search = GridSearchCV(logreg, {\"C\": np.logspace(-4,4,20),\n",
        "                                    \"penalty\":[\"l1\",\"l2\"]})\n",
        "grid_search.fit(X_train_emb, y_train)\n",
        "print(\"Best parameters: \", grid_search.best_params_)\n",
        "grid_search.best_score_"
      ],
      "metadata": {
        "colab": {
          "base_uri": "https://localhost:8080/"
        },
        "id": "lNJN6huMkd86",
        "outputId": "d4f6191b-2d40-40cb-c1d6-344d5b378b57"
      },
      "execution_count": 294,
      "outputs": [
        {
          "output_type": "stream",
          "name": "stdout",
          "text": [
            "Best parameters:  {'C': 11.288378916846883, 'penalty': 'l2'}\n"
          ]
        },
        {
          "output_type": "execute_result",
          "data": {
            "text/plain": [
              "0.7785475279676423"
            ]
          },
          "metadata": {},
          "execution_count": 294
        }
      ]
    },
    {
      "cell_type": "code",
      "source": [
        "best_lr = grid_search.best_estimator_"
      ],
      "metadata": {
        "id": "ELT9ibma169D"
      },
      "execution_count": 295,
      "outputs": []
    },
    {
      "cell_type": "code",
      "source": [
        "from sklearn.ensemble import RandomForestClassifier\n",
        "rf = RandomForestClassifier(n_jobs=-1)\n",
        "grid_search = GridSearchCV(rf, {\"max_depth\": np.arange(3,50,2)})\n",
        "grid_search.fit(X_train_emb, y_train)\n",
        "print(\"Best parameters: \", grid_search.best_params_)\n",
        "grid_search.best_score_"
      ],
      "metadata": {
        "id": "SADmVWNREp4t",
        "colab": {
          "base_uri": "https://localhost:8080/"
        },
        "outputId": "6f8da0df-f086-42be-a9d6-f0d9569bb6c0"
      },
      "execution_count": 296,
      "outputs": [
        {
          "output_type": "stream",
          "name": "stdout",
          "text": [
            "Best parameters:  {'max_depth': 37}\n"
          ]
        },
        {
          "output_type": "execute_result",
          "data": {
            "text/plain": [
              "0.7202275150345082"
            ]
          },
          "metadata": {},
          "execution_count": 296
        }
      ]
    },
    {
      "cell_type": "code",
      "source": [
        "best_rf = grid_search.best_estimator_"
      ],
      "metadata": {
        "id": "iSYWdBDu1_P6"
      },
      "execution_count": 297,
      "outputs": []
    },
    {
      "cell_type": "markdown",
      "source": [
        "**Neural Network on Word Embedding**"
      ],
      "metadata": {
        "id": "HnvgAilkqq75"
      }
    },
    {
      "cell_type": "code",
      "source": [
        "import tensorflow as tf\n",
        "from tensorflow import keras\n",
        "from tensorflow.keras import layers"
      ],
      "metadata": {
        "id": "uCsUB4wGoftm"
      },
      "execution_count": 299,
      "outputs": []
    },
    {
      "cell_type": "code",
      "source": [
        "from tensorflow.keras import regularizers\n",
        "reg = regularizers.L1L2(l1=1e-5, l2=1e-4)\n",
        "\n",
        "nn_model = keras.Sequential()\n",
        "nn_model.add(layers.Dense(128, activation=\"relu\",kernel_regularizer=reg))\n",
        "nn_model.add(layers.Dense(128, activation=\"relu\",kernel_regularizer=reg))\n",
        "nn_model.add(layers.Dense(64, activation=\"relu\",kernel_regularizer=reg))\n",
        "nn_model.add(layers.Dense(32, activation=\"relu\",kernel_regularizer=reg))\n",
        "nn_model.add(layers.Dense(8, activation=\"relu\",kernel_regularizer=reg))\n",
        "nn_model.add(layers.Dense(3, activation=\"softmax\")) # output layer\n",
        "\n",
        "nn_model.compile(\n",
        "    optimizer=keras.optimizers.Adam(),\n",
        "    loss=keras.losses.SparseCategoricalCrossentropy(),\n",
        "    metrics=keras.metrics.SparseCategoricalAccuracy()\n",
        ")\n",
        "\n",
        "# train the model\n",
        "history = nn_model.fit(X_train_emb.astype(np.float32), y_train,\n",
        "                    validation_split=0.2,\n",
        "                    epochs=20,\n",
        "                    verbose=1)"
      ],
      "metadata": {
        "colab": {
          "base_uri": "https://localhost:8080/"
        },
        "id": "N6BZ7Szomn_5",
        "outputId": "0a0cfa2b-a594-4f3b-aae4-089486fb537c"
      },
      "execution_count": 300,
      "outputs": [
        {
          "output_type": "stream",
          "name": "stdout",
          "text": [
            "Epoch 1/20\n",
            "246/246 [==============================] - 4s 7ms/step - loss: 0.7996 - sparse_categorical_accuracy: 0.6922 - val_loss: 0.6871 - val_sparse_categorical_accuracy: 0.7436\n",
            "Epoch 2/20\n",
            "246/246 [==============================] - 1s 4ms/step - loss: 0.6279 - sparse_categorical_accuracy: 0.7713 - val_loss: 0.6607 - val_sparse_categorical_accuracy: 0.7543\n",
            "Epoch 3/20\n",
            "246/246 [==============================] - 1s 4ms/step - loss: 0.6056 - sparse_categorical_accuracy: 0.7818 - val_loss: 0.6270 - val_sparse_categorical_accuracy: 0.7778\n",
            "Epoch 4/20\n",
            "246/246 [==============================] - 1s 4ms/step - loss: 0.5901 - sparse_categorical_accuracy: 0.7863 - val_loss: 0.6426 - val_sparse_categorical_accuracy: 0.7630\n",
            "Epoch 5/20\n",
            "246/246 [==============================] - 1s 4ms/step - loss: 0.5722 - sparse_categorical_accuracy: 0.7939 - val_loss: 0.6226 - val_sparse_categorical_accuracy: 0.7798\n",
            "Epoch 6/20\n",
            "246/246 [==============================] - 1s 4ms/step - loss: 0.5539 - sparse_categorical_accuracy: 0.8013 - val_loss: 0.6146 - val_sparse_categorical_accuracy: 0.7778\n",
            "Epoch 7/20\n",
            "246/246 [==============================] - 1s 4ms/step - loss: 0.5443 - sparse_categorical_accuracy: 0.8092 - val_loss: 0.6466 - val_sparse_categorical_accuracy: 0.7778\n",
            "Epoch 8/20\n",
            "246/246 [==============================] - 1s 4ms/step - loss: 0.5363 - sparse_categorical_accuracy: 0.8120 - val_loss: 0.6379 - val_sparse_categorical_accuracy: 0.7819\n",
            "Epoch 9/20\n",
            "246/246 [==============================] - 1s 4ms/step - loss: 0.5205 - sparse_categorical_accuracy: 0.8186 - val_loss: 0.6265 - val_sparse_categorical_accuracy: 0.7747\n",
            "Epoch 10/20\n",
            "246/246 [==============================] - 1s 4ms/step - loss: 0.5132 - sparse_categorical_accuracy: 0.8194 - val_loss: 0.6534 - val_sparse_categorical_accuracy: 0.7768\n",
            "Epoch 11/20\n",
            "246/246 [==============================] - 1s 4ms/step - loss: 0.4960 - sparse_categorical_accuracy: 0.8293 - val_loss: 0.6668 - val_sparse_categorical_accuracy: 0.7691\n",
            "Epoch 12/20\n",
            "246/246 [==============================] - 2s 7ms/step - loss: 0.4682 - sparse_categorical_accuracy: 0.8440 - val_loss: 0.6550 - val_sparse_categorical_accuracy: 0.7747\n",
            "Epoch 13/20\n",
            "246/246 [==============================] - 2s 7ms/step - loss: 0.4507 - sparse_categorical_accuracy: 0.8505 - val_loss: 0.6725 - val_sparse_categorical_accuracy: 0.7757\n",
            "Epoch 14/20\n",
            "246/246 [==============================] - 1s 4ms/step - loss: 0.4426 - sparse_categorical_accuracy: 0.8527 - val_loss: 0.6880 - val_sparse_categorical_accuracy: 0.7793\n",
            "Epoch 15/20\n",
            "246/246 [==============================] - 1s 4ms/step - loss: 0.4213 - sparse_categorical_accuracy: 0.8655 - val_loss: 0.7202 - val_sparse_categorical_accuracy: 0.7655\n",
            "Epoch 16/20\n",
            "246/246 [==============================] - 1s 4ms/step - loss: 0.4003 - sparse_categorical_accuracy: 0.8771 - val_loss: 0.7464 - val_sparse_categorical_accuracy: 0.7559\n",
            "Epoch 17/20\n",
            "246/246 [==============================] - 1s 4ms/step - loss: 0.3781 - sparse_categorical_accuracy: 0.8876 - val_loss: 0.7992 - val_sparse_categorical_accuracy: 0.7538\n",
            "Epoch 18/20\n",
            "246/246 [==============================] - 1s 4ms/step - loss: 0.3691 - sparse_categorical_accuracy: 0.8875 - val_loss: 0.8457 - val_sparse_categorical_accuracy: 0.7462\n",
            "Epoch 19/20\n",
            "246/246 [==============================] - 1s 4ms/step - loss: 0.3447 - sparse_categorical_accuracy: 0.8994 - val_loss: 0.8372 - val_sparse_categorical_accuracy: 0.7436\n",
            "Epoch 20/20\n",
            "246/246 [==============================] - 1s 4ms/step - loss: 0.3276 - sparse_categorical_accuracy: 0.9081 - val_loss: 0.8491 - val_sparse_categorical_accuracy: 0.7452\n"
          ]
        }
      ]
    },
    {
      "cell_type": "code",
      "source": [
        "nn_model.summary()"
      ],
      "metadata": {
        "colab": {
          "base_uri": "https://localhost:8080/"
        },
        "id": "GTEPCPvYLirH",
        "outputId": "7702ad5a-7a65-4aba-9da4-9f8595c697c6"
      },
      "execution_count": 321,
      "outputs": [
        {
          "output_type": "stream",
          "name": "stdout",
          "text": [
            "Model: \"sequential_12\"\n",
            "_________________________________________________________________\n",
            " Layer (type)                Output Shape              Param #   \n",
            "=================================================================\n",
            " dense_72 (Dense)            (None, 128)               38528     \n",
            "                                                                 \n",
            " dense_73 (Dense)            (None, 128)               16512     \n",
            "                                                                 \n",
            " dense_74 (Dense)            (None, 64)                8256      \n",
            "                                                                 \n",
            " dense_75 (Dense)            (None, 32)                2080      \n",
            "                                                                 \n",
            " dense_76 (Dense)            (None, 8)                 264       \n",
            "                                                                 \n",
            " dense_77 (Dense)            (None, 3)                 27        \n",
            "                                                                 \n",
            "=================================================================\n",
            "Total params: 65667 (256.51 KB)\n",
            "Trainable params: 65667 (256.51 KB)\n",
            "Non-trainable params: 0 (0.00 Byte)\n",
            "_________________________________________________________________\n"
          ]
        }
      ]
    },
    {
      "cell_type": "code",
      "source": [
        "# Get probabilities  of each catogory for  each obervations\n",
        "predictions = nn_model.predict(X_train_emb)"
      ],
      "metadata": {
        "colab": {
          "base_uri": "https://localhost:8080/"
        },
        "id": "qExJCJcDq78N",
        "outputId": "18bceb3b-4545-40f7-f107-3dbae1d0bee7"
      },
      "execution_count": 302,
      "outputs": [
        {
          "output_type": "stream",
          "name": "stdout",
          "text": [
            "307/307 [==============================] - 1s 2ms/step\n"
          ]
        }
      ]
    },
    {
      "cell_type": "code",
      "source": [
        "# find the highest probality for the prodicted catogory\n",
        "predictions_df = pd.DataFrame(predictions)\n",
        "predictions_df[\"predictions\"] = predictions_df.idxmax(axis=1)\n",
        "\n",
        "print(classification_report(y_train,predictions_df[\"predictions\"]))"
      ],
      "metadata": {
        "colab": {
          "base_uri": "https://localhost:8080/"
        },
        "id": "c6Yuy50xsQcp",
        "outputId": "74a1914b-2f93-49d9-9b77-d3d10dcd52f0"
      },
      "execution_count": 303,
      "outputs": [
        {
          "output_type": "stream",
          "name": "stdout",
          "text": [
            "              precision    recall  f1-score   support\n",
            "\n",
            "           0       0.94      0.91      0.92      6093\n",
            "           1       0.84      0.76      0.80      2115\n",
            "           2       0.74      0.91      0.82      1600\n",
            "\n",
            "    accuracy                           0.88      9808\n",
            "   macro avg       0.84      0.86      0.85      9808\n",
            "weighted avg       0.89      0.88      0.88      9808\n",
            "\n"
          ]
        }
      ]
    },
    {
      "cell_type": "code",
      "source": [
        "# find the number of epoches to prevent overfitting\n",
        "from tensorflow.keras import regularizers\n",
        "reg = regularizers.L1L2(l1=1e-5, l2=1e-4)\n",
        "\n",
        "model = keras.Sequential()\n",
        "model.add(layers.Dense(128, activation=\"relu\",kernel_regularizer=reg))\n",
        "model.add(layers.Dense(128, activation=\"relu\",kernel_regularizer=reg))\n",
        "model.add(layers.Dense(64, activation=\"relu\",kernel_regularizer=reg))\n",
        "model.add(layers.Dense(32, activation=\"relu\",kernel_regularizer=reg))\n",
        "model.add(layers.Dense(8, activation=\"relu\",kernel_regularizer=reg))\n",
        "model.add(layers.Dense(3, activation=\"softmax\")) # output layer\n",
        "\n",
        "model.compile(\n",
        "    optimizer=keras.optimizers.Adam(),\n",
        "    loss=keras.losses.SparseCategoricalCrossentropy(),\n",
        "    metrics=keras.metrics.SparseCategoricalAccuracy()\n",
        ")\n",
        "\n",
        "# train our model\n",
        "history = model.fit(X_train_emb.astype(np.float32), y_train,\n",
        "                    validation_data=(X_test_emb,y_test),\n",
        "                    epochs=50,\n",
        "                    verbose=1)"
      ],
      "metadata": {
        "colab": {
          "base_uri": "https://localhost:8080/"
        },
        "id": "K5YMk2MSnEBk",
        "outputId": "ee50ffcb-c1da-47e3-837a-3e37e7ea49a2"
      },
      "execution_count": 222,
      "outputs": [
        {
          "output_type": "stream",
          "name": "stdout",
          "text": [
            "Epoch 1/100\n",
            "307/307 [==============================] - 4s 8ms/step - loss: 0.8227 - sparse_categorical_accuracy: 0.6758 - val_loss: 0.6624 - val_sparse_categorical_accuracy: 0.7514\n",
            "Epoch 2/100\n",
            "307/307 [==============================] - 1s 4ms/step - loss: 0.6586 - sparse_categorical_accuracy: 0.7552 - val_loss: 0.5937 - val_sparse_categorical_accuracy: 0.7823\n",
            "Epoch 3/100\n",
            "307/307 [==============================] - 1s 4ms/step - loss: 0.6065 - sparse_categorical_accuracy: 0.7767 - val_loss: 0.5781 - val_sparse_categorical_accuracy: 0.7875\n",
            "Epoch 4/100\n",
            "307/307 [==============================] - 1s 4ms/step - loss: 0.5826 - sparse_categorical_accuracy: 0.7888 - val_loss: 0.6084 - val_sparse_categorical_accuracy: 0.7744\n",
            "Epoch 5/100\n",
            "307/307 [==============================] - 1s 4ms/step - loss: 0.5711 - sparse_categorical_accuracy: 0.7929 - val_loss: 0.5850 - val_sparse_categorical_accuracy: 0.7868\n",
            "Epoch 6/100\n",
            "307/307 [==============================] - 1s 4ms/step - loss: 0.5582 - sparse_categorical_accuracy: 0.8003 - val_loss: 0.5895 - val_sparse_categorical_accuracy: 0.7841\n",
            "Epoch 7/100\n",
            "307/307 [==============================] - 1s 4ms/step - loss: 0.5444 - sparse_categorical_accuracy: 0.8051 - val_loss: 0.5689 - val_sparse_categorical_accuracy: 0.7889\n",
            "Epoch 8/100\n",
            "307/307 [==============================] - 1s 4ms/step - loss: 0.5380 - sparse_categorical_accuracy: 0.8061 - val_loss: 0.5786 - val_sparse_categorical_accuracy: 0.7912\n",
            "Epoch 9/100\n",
            "307/307 [==============================] - 1s 4ms/step - loss: 0.5239 - sparse_categorical_accuracy: 0.8178 - val_loss: 0.5753 - val_sparse_categorical_accuracy: 0.7926\n",
            "Epoch 10/100\n",
            "307/307 [==============================] - 2s 6ms/step - loss: 0.5150 - sparse_categorical_accuracy: 0.8213 - val_loss: 0.5715 - val_sparse_categorical_accuracy: 0.7939\n",
            "Epoch 11/100\n",
            "307/307 [==============================] - 2s 6ms/step - loss: 0.5049 - sparse_categorical_accuracy: 0.8264 - val_loss: 0.6336 - val_sparse_categorical_accuracy: 0.7637\n",
            "Epoch 12/100\n",
            "307/307 [==============================] - 1s 4ms/step - loss: 0.4849 - sparse_categorical_accuracy: 0.8339 - val_loss: 0.5717 - val_sparse_categorical_accuracy: 0.7953\n",
            "Epoch 13/100\n",
            "307/307 [==============================] - 1s 4ms/step - loss: 0.4755 - sparse_categorical_accuracy: 0.8374 - val_loss: 0.6493 - val_sparse_categorical_accuracy: 0.7635\n",
            "Epoch 14/100\n",
            "307/307 [==============================] - 1s 4ms/step - loss: 0.4549 - sparse_categorical_accuracy: 0.8491 - val_loss: 0.5977 - val_sparse_categorical_accuracy: 0.7930\n",
            "Epoch 15/100\n",
            "307/307 [==============================] - 1s 4ms/step - loss: 0.4398 - sparse_categorical_accuracy: 0.8542 - val_loss: 0.6200 - val_sparse_categorical_accuracy: 0.7858\n",
            "Epoch 16/100\n",
            "307/307 [==============================] - 1s 4ms/step - loss: 0.4269 - sparse_categorical_accuracy: 0.8622 - val_loss: 0.6667 - val_sparse_categorical_accuracy: 0.7920\n",
            "Epoch 17/100\n",
            "307/307 [==============================] - 1s 4ms/step - loss: 0.4134 - sparse_categorical_accuracy: 0.8665 - val_loss: 0.6312 - val_sparse_categorical_accuracy: 0.7870\n",
            "Epoch 18/100\n",
            "307/307 [==============================] - 1s 4ms/step - loss: 0.3845 - sparse_categorical_accuracy: 0.8771 - val_loss: 0.6576 - val_sparse_categorical_accuracy: 0.7848\n",
            "Epoch 19/100\n",
            "307/307 [==============================] - 2s 5ms/step - loss: 0.3761 - sparse_categorical_accuracy: 0.8787 - val_loss: 0.6744 - val_sparse_categorical_accuracy: 0.7914\n",
            "Epoch 20/100\n",
            "307/307 [==============================] - 2s 6ms/step - loss: 0.3595 - sparse_categorical_accuracy: 0.8883 - val_loss: 0.7444 - val_sparse_categorical_accuracy: 0.7856\n",
            "Epoch 21/100\n",
            "307/307 [==============================] - 2s 5ms/step - loss: 0.3415 - sparse_categorical_accuracy: 0.8973 - val_loss: 0.7909 - val_sparse_categorical_accuracy: 0.7579\n",
            "Epoch 22/100\n",
            "307/307 [==============================] - 1s 4ms/step - loss: 0.3376 - sparse_categorical_accuracy: 0.8948 - val_loss: 0.6736 - val_sparse_categorical_accuracy: 0.7800\n",
            "Epoch 23/100\n",
            "307/307 [==============================] - 1s 4ms/step - loss: 0.3181 - sparse_categorical_accuracy: 0.9080 - val_loss: 0.7704 - val_sparse_categorical_accuracy: 0.7637\n",
            "Epoch 24/100\n",
            "307/307 [==============================] - 1s 4ms/step - loss: 0.3023 - sparse_categorical_accuracy: 0.9164 - val_loss: 0.7782 - val_sparse_categorical_accuracy: 0.7839\n",
            "Epoch 25/100\n",
            "307/307 [==============================] - 1s 4ms/step - loss: 0.2934 - sparse_categorical_accuracy: 0.9173 - val_loss: 0.7798 - val_sparse_categorical_accuracy: 0.7653\n",
            "Epoch 26/100\n",
            "307/307 [==============================] - 1s 4ms/step - loss: 0.2781 - sparse_categorical_accuracy: 0.9276 - val_loss: 0.8237 - val_sparse_categorical_accuracy: 0.7810\n",
            "Epoch 27/100\n",
            "307/307 [==============================] - 1s 4ms/step - loss: 0.2722 - sparse_categorical_accuracy: 0.9263 - val_loss: 0.8386 - val_sparse_categorical_accuracy: 0.7763\n",
            "Epoch 28/100\n",
            "307/307 [==============================] - 1s 4ms/step - loss: 0.2581 - sparse_categorical_accuracy: 0.9350 - val_loss: 0.8819 - val_sparse_categorical_accuracy: 0.7831\n",
            "Epoch 29/100\n",
            "307/307 [==============================] - 2s 6ms/step - loss: 0.2508 - sparse_categorical_accuracy: 0.9355 - val_loss: 0.8998 - val_sparse_categorical_accuracy: 0.7579\n",
            "Epoch 30/100\n",
            "307/307 [==============================] - 2s 7ms/step - loss: 0.2376 - sparse_categorical_accuracy: 0.9429 - val_loss: 0.8459 - val_sparse_categorical_accuracy: 0.7705\n",
            "Epoch 31/100\n",
            "307/307 [==============================] - 1s 4ms/step - loss: 0.2368 - sparse_categorical_accuracy: 0.9399 - val_loss: 0.9653 - val_sparse_categorical_accuracy: 0.7697\n",
            "Epoch 32/100\n",
            "307/307 [==============================] - 1s 4ms/step - loss: 0.2268 - sparse_categorical_accuracy: 0.9449 - val_loss: 0.9550 - val_sparse_categorical_accuracy: 0.7721\n",
            "Epoch 33/100\n",
            "307/307 [==============================] - 1s 4ms/step - loss: 0.2127 - sparse_categorical_accuracy: 0.9510 - val_loss: 1.0126 - val_sparse_categorical_accuracy: 0.7744\n",
            "Epoch 34/100\n",
            "307/307 [==============================] - 1s 4ms/step - loss: 0.2106 - sparse_categorical_accuracy: 0.9536 - val_loss: 0.9459 - val_sparse_categorical_accuracy: 0.7680\n",
            "Epoch 35/100\n",
            "307/307 [==============================] - 1s 4ms/step - loss: 0.2058 - sparse_categorical_accuracy: 0.9550 - val_loss: 1.1668 - val_sparse_categorical_accuracy: 0.7666\n",
            "Epoch 36/100\n",
            "307/307 [==============================] - 1s 4ms/step - loss: 0.1966 - sparse_categorical_accuracy: 0.9576 - val_loss: 1.0598 - val_sparse_categorical_accuracy: 0.7483\n",
            "Epoch 37/100\n",
            "307/307 [==============================] - 1s 4ms/step - loss: 0.2034 - sparse_categorical_accuracy: 0.9540 - val_loss: 1.0403 - val_sparse_categorical_accuracy: 0.7763\n",
            "Epoch 38/100\n",
            "307/307 [==============================] - 2s 7ms/step - loss: 0.1841 - sparse_categorical_accuracy: 0.9632 - val_loss: 1.0804 - val_sparse_categorical_accuracy: 0.7639\n",
            "Epoch 39/100\n",
            "307/307 [==============================] - 2s 6ms/step - loss: 0.2013 - sparse_categorical_accuracy: 0.9559 - val_loss: 0.9960 - val_sparse_categorical_accuracy: 0.7692\n",
            "Epoch 40/100\n",
            "307/307 [==============================] - 1s 4ms/step - loss: 0.1858 - sparse_categorical_accuracy: 0.9631 - val_loss: 1.1115 - val_sparse_categorical_accuracy: 0.7641\n",
            "Epoch 41/100\n",
            "307/307 [==============================] - 1s 4ms/step - loss: 0.1831 - sparse_categorical_accuracy: 0.9646 - val_loss: 1.1603 - val_sparse_categorical_accuracy: 0.7374\n",
            "Epoch 42/100\n",
            "307/307 [==============================] - 1s 4ms/step - loss: 0.1810 - sparse_categorical_accuracy: 0.9658 - val_loss: 1.1727 - val_sparse_categorical_accuracy: 0.7575\n",
            "Epoch 43/100\n",
            "307/307 [==============================] - 1s 4ms/step - loss: 0.1819 - sparse_categorical_accuracy: 0.9633 - val_loss: 1.1537 - val_sparse_categorical_accuracy: 0.7730\n",
            "Epoch 44/100\n",
            "307/307 [==============================] - 1s 4ms/step - loss: 0.1607 - sparse_categorical_accuracy: 0.9744 - val_loss: 1.2469 - val_sparse_categorical_accuracy: 0.7535\n",
            "Epoch 45/100\n",
            "307/307 [==============================] - 1s 4ms/step - loss: 0.1831 - sparse_categorical_accuracy: 0.9627 - val_loss: 1.1742 - val_sparse_categorical_accuracy: 0.7637\n",
            "Epoch 46/100\n",
            "307/307 [==============================] - 1s 4ms/step - loss: 0.1642 - sparse_categorical_accuracy: 0.9718 - val_loss: 1.2168 - val_sparse_categorical_accuracy: 0.7562\n",
            "Epoch 47/100\n",
            "307/307 [==============================] - 2s 7ms/step - loss: 0.1731 - sparse_categorical_accuracy: 0.9679 - val_loss: 1.2083 - val_sparse_categorical_accuracy: 0.7494\n",
            "Epoch 48/100\n",
            "307/307 [==============================] - 2s 8ms/step - loss: 0.1649 - sparse_categorical_accuracy: 0.9702 - val_loss: 1.1897 - val_sparse_categorical_accuracy: 0.7457\n",
            "Epoch 49/100\n",
            "307/307 [==============================] - 1s 4ms/step - loss: 0.1714 - sparse_categorical_accuracy: 0.9685 - val_loss: 1.2933 - val_sparse_categorical_accuracy: 0.7585\n",
            "Epoch 50/100\n",
            "307/307 [==============================] - 1s 4ms/step - loss: 0.1613 - sparse_categorical_accuracy: 0.9724 - val_loss: 1.3028 - val_sparse_categorical_accuracy: 0.7711\n",
            "Epoch 51/100\n",
            "307/307 [==============================] - 1s 4ms/step - loss: 0.1538 - sparse_categorical_accuracy: 0.9757 - val_loss: 1.2941 - val_sparse_categorical_accuracy: 0.7701\n",
            "Epoch 52/100\n",
            "307/307 [==============================] - 1s 4ms/step - loss: 0.1656 - sparse_categorical_accuracy: 0.9716 - val_loss: 1.2151 - val_sparse_categorical_accuracy: 0.7612\n",
            "Epoch 53/100\n",
            "307/307 [==============================] - 1s 4ms/step - loss: 0.1566 - sparse_categorical_accuracy: 0.9743 - val_loss: 1.3238 - val_sparse_categorical_accuracy: 0.7475\n",
            "Epoch 54/100\n",
            "307/307 [==============================] - 1s 4ms/step - loss: 0.1837 - sparse_categorical_accuracy: 0.9650 - val_loss: 1.2816 - val_sparse_categorical_accuracy: 0.7661\n",
            "Epoch 55/100\n",
            "307/307 [==============================] - 1s 4ms/step - loss: 0.1520 - sparse_categorical_accuracy: 0.9777 - val_loss: 1.1966 - val_sparse_categorical_accuracy: 0.7647\n",
            "Epoch 56/100\n",
            "307/307 [==============================] - 2s 6ms/step - loss: 0.1448 - sparse_categorical_accuracy: 0.9799 - val_loss: 1.4281 - val_sparse_categorical_accuracy: 0.7701\n",
            "Epoch 57/100\n",
            "307/307 [==============================] - 2s 8ms/step - loss: 0.1676 - sparse_categorical_accuracy: 0.9708 - val_loss: 1.2659 - val_sparse_categorical_accuracy: 0.7612\n",
            "Epoch 58/100\n",
            "307/307 [==============================] - 1s 4ms/step - loss: 0.1626 - sparse_categorical_accuracy: 0.9732 - val_loss: 1.2874 - val_sparse_categorical_accuracy: 0.7730\n",
            "Epoch 59/100\n",
            "307/307 [==============================] - 1s 4ms/step - loss: 0.1308 - sparse_categorical_accuracy: 0.9850 - val_loss: 1.3842 - val_sparse_categorical_accuracy: 0.7483\n",
            "Epoch 60/100\n",
            "307/307 [==============================] - 1s 4ms/step - loss: 0.1647 - sparse_categorical_accuracy: 0.9730 - val_loss: 1.2395 - val_sparse_categorical_accuracy: 0.7657\n",
            "Epoch 61/100\n",
            "307/307 [==============================] - 1s 4ms/step - loss: 0.1355 - sparse_categorical_accuracy: 0.9837 - val_loss: 1.4058 - val_sparse_categorical_accuracy: 0.7566\n",
            "Epoch 62/100\n",
            "307/307 [==============================] - 1s 4ms/step - loss: 0.1635 - sparse_categorical_accuracy: 0.9731 - val_loss: 1.2327 - val_sparse_categorical_accuracy: 0.7459\n",
            "Epoch 63/100\n",
            "307/307 [==============================] - 1s 4ms/step - loss: 0.1490 - sparse_categorical_accuracy: 0.9775 - val_loss: 1.3326 - val_sparse_categorical_accuracy: 0.7618\n",
            "Epoch 64/100\n",
            "307/307 [==============================] - 1s 4ms/step - loss: 0.1521 - sparse_categorical_accuracy: 0.9753 - val_loss: 1.3167 - val_sparse_categorical_accuracy: 0.7626\n",
            "Epoch 65/100\n",
            "307/307 [==============================] - 1s 4ms/step - loss: 0.1591 - sparse_categorical_accuracy: 0.9724 - val_loss: 1.3395 - val_sparse_categorical_accuracy: 0.7645\n",
            "Epoch 66/100\n",
            "307/307 [==============================] - 2s 7ms/step - loss: 0.1336 - sparse_categorical_accuracy: 0.9833 - val_loss: 1.4170 - val_sparse_categorical_accuracy: 0.7415\n",
            "Epoch 67/100\n",
            "307/307 [==============================] - 1s 4ms/step - loss: 0.1590 - sparse_categorical_accuracy: 0.9739 - val_loss: 1.3217 - val_sparse_categorical_accuracy: 0.7734\n",
            "Epoch 68/100\n",
            "307/307 [==============================] - 1s 4ms/step - loss: 0.1302 - sparse_categorical_accuracy: 0.9861 - val_loss: 1.3910 - val_sparse_categorical_accuracy: 0.7653\n",
            "Epoch 69/100\n",
            "307/307 [==============================] - 1s 4ms/step - loss: 0.1449 - sparse_categorical_accuracy: 0.9796 - val_loss: 1.3121 - val_sparse_categorical_accuracy: 0.7525\n",
            "Epoch 70/100\n",
            "307/307 [==============================] - 1s 4ms/step - loss: 0.1521 - sparse_categorical_accuracy: 0.9770 - val_loss: 1.2398 - val_sparse_categorical_accuracy: 0.7635\n",
            "Epoch 71/100\n",
            "307/307 [==============================] - 1s 4ms/step - loss: 0.1543 - sparse_categorical_accuracy: 0.9764 - val_loss: 1.3629 - val_sparse_categorical_accuracy: 0.7661\n",
            "Epoch 72/100\n",
            "307/307 [==============================] - 1s 4ms/step - loss: 0.1404 - sparse_categorical_accuracy: 0.9806 - val_loss: 1.3348 - val_sparse_categorical_accuracy: 0.7577\n",
            "Epoch 73/100\n",
            "307/307 [==============================] - 1s 4ms/step - loss: 0.1282 - sparse_categorical_accuracy: 0.9863 - val_loss: 1.4244 - val_sparse_categorical_accuracy: 0.7452\n",
            "Epoch 74/100\n",
            "307/307 [==============================] - 1s 4ms/step - loss: 0.1569 - sparse_categorical_accuracy: 0.9749 - val_loss: 1.3390 - val_sparse_categorical_accuracy: 0.7568\n",
            "Epoch 75/100\n",
            "307/307 [==============================] - 2s 7ms/step - loss: 0.1580 - sparse_categorical_accuracy: 0.9740 - val_loss: 1.2811 - val_sparse_categorical_accuracy: 0.7517\n",
            "Epoch 76/100\n",
            "307/307 [==============================] - 1s 5ms/step - loss: 0.1350 - sparse_categorical_accuracy: 0.9853 - val_loss: 1.3892 - val_sparse_categorical_accuracy: 0.7568\n",
            "Epoch 77/100\n",
            "307/307 [==============================] - 1s 4ms/step - loss: 0.1280 - sparse_categorical_accuracy: 0.9868 - val_loss: 1.3767 - val_sparse_categorical_accuracy: 0.7610\n",
            "Epoch 78/100\n",
            "307/307 [==============================] - 1s 4ms/step - loss: 0.1559 - sparse_categorical_accuracy: 0.9748 - val_loss: 1.2616 - val_sparse_categorical_accuracy: 0.7639\n",
            "Epoch 79/100\n",
            "307/307 [==============================] - 1s 4ms/step - loss: 0.1393 - sparse_categorical_accuracy: 0.9824 - val_loss: 1.3643 - val_sparse_categorical_accuracy: 0.7529\n",
            "Epoch 80/100\n",
            "307/307 [==============================] - 1s 4ms/step - loss: 0.1278 - sparse_categorical_accuracy: 0.9869 - val_loss: 1.4312 - val_sparse_categorical_accuracy: 0.7637\n",
            "Epoch 81/100\n",
            "307/307 [==============================] - 1s 4ms/step - loss: 0.1521 - sparse_categorical_accuracy: 0.9777 - val_loss: 1.3438 - val_sparse_categorical_accuracy: 0.7570\n",
            "Epoch 82/100\n",
            "307/307 [==============================] - 1s 4ms/step - loss: 0.1422 - sparse_categorical_accuracy: 0.9805 - val_loss: 1.4375 - val_sparse_categorical_accuracy: 0.7541\n",
            "Epoch 83/100\n",
            "307/307 [==============================] - 1s 4ms/step - loss: 0.1371 - sparse_categorical_accuracy: 0.9837 - val_loss: 1.4233 - val_sparse_categorical_accuracy: 0.7647\n",
            "Epoch 84/100\n",
            "307/307 [==============================] - 2s 6ms/step - loss: 0.1421 - sparse_categorical_accuracy: 0.9812 - val_loss: 1.2907 - val_sparse_categorical_accuracy: 0.7519\n",
            "Epoch 85/100\n",
            "307/307 [==============================] - 2s 7ms/step - loss: 0.1457 - sparse_categorical_accuracy: 0.9795 - val_loss: 1.3404 - val_sparse_categorical_accuracy: 0.7645\n",
            "Epoch 86/100\n",
            "307/307 [==============================] - 1s 4ms/step - loss: 0.1245 - sparse_categorical_accuracy: 0.9878 - val_loss: 1.4966 - val_sparse_categorical_accuracy: 0.7682\n",
            "Epoch 87/100\n",
            "307/307 [==============================] - 1s 4ms/step - loss: 0.1516 - sparse_categorical_accuracy: 0.9782 - val_loss: 1.3526 - val_sparse_categorical_accuracy: 0.7514\n",
            "Epoch 88/100\n",
            "307/307 [==============================] - 1s 4ms/step - loss: 0.1295 - sparse_categorical_accuracy: 0.9873 - val_loss: 1.4565 - val_sparse_categorical_accuracy: 0.7512\n",
            "Epoch 89/100\n",
            "307/307 [==============================] - 1s 4ms/step - loss: 0.1440 - sparse_categorical_accuracy: 0.9799 - val_loss: 1.3987 - val_sparse_categorical_accuracy: 0.7566\n",
            "Epoch 90/100\n",
            "307/307 [==============================] - 1s 4ms/step - loss: 0.1342 - sparse_categorical_accuracy: 0.9844 - val_loss: 1.4659 - val_sparse_categorical_accuracy: 0.7411\n",
            "Epoch 91/100\n",
            "307/307 [==============================] - 1s 4ms/step - loss: 0.1329 - sparse_categorical_accuracy: 0.9850 - val_loss: 1.4768 - val_sparse_categorical_accuracy: 0.7703\n",
            "Epoch 92/100\n",
            "307/307 [==============================] - 1s 4ms/step - loss: 0.1466 - sparse_categorical_accuracy: 0.9795 - val_loss: 1.3774 - val_sparse_categorical_accuracy: 0.7715\n",
            "Epoch 93/100\n",
            "307/307 [==============================] - 2s 6ms/step - loss: 0.1187 - sparse_categorical_accuracy: 0.9908 - val_loss: 1.4844 - val_sparse_categorical_accuracy: 0.7686\n",
            "Epoch 94/100\n",
            "307/307 [==============================] - 2s 7ms/step - loss: 0.1231 - sparse_categorical_accuracy: 0.9886 - val_loss: 1.4821 - val_sparse_categorical_accuracy: 0.7552\n",
            "Epoch 95/100\n",
            "307/307 [==============================] - 1s 4ms/step - loss: 0.1528 - sparse_categorical_accuracy: 0.9772 - val_loss: 1.3931 - val_sparse_categorical_accuracy: 0.7643\n",
            "Epoch 96/100\n",
            "307/307 [==============================] - 1s 4ms/step - loss: 0.1234 - sparse_categorical_accuracy: 0.9884 - val_loss: 1.4194 - val_sparse_categorical_accuracy: 0.7643\n",
            "Epoch 97/100\n",
            "307/307 [==============================] - 1s 4ms/step - loss: 0.1505 - sparse_categorical_accuracy: 0.9779 - val_loss: 1.3226 - val_sparse_categorical_accuracy: 0.7616\n",
            "Epoch 98/100\n",
            "307/307 [==============================] - 1s 4ms/step - loss: 0.1231 - sparse_categorical_accuracy: 0.9878 - val_loss: 1.4359 - val_sparse_categorical_accuracy: 0.7546\n",
            "Epoch 99/100\n",
            "307/307 [==============================] - 1s 4ms/step - loss: 0.1460 - sparse_categorical_accuracy: 0.9807 - val_loss: 1.3546 - val_sparse_categorical_accuracy: 0.7610\n",
            "Epoch 100/100\n",
            "307/307 [==============================] - 1s 4ms/step - loss: 0.1278 - sparse_categorical_accuracy: 0.9866 - val_loss: 1.4366 - val_sparse_categorical_accuracy: 0.7543\n"
          ]
        }
      ]
    },
    {
      "cell_type": "code",
      "source": [
        "plt.plot(history.history['loss'][:500])\n",
        "plt.plot(history.history['val_loss'][:500])\n",
        "plt.title('Model Loss for first 100 epochs')\n",
        "plt.ylabel('Loss')\n",
        "plt.xlabel('Epoch')\n",
        "plt.legend(['Train', 'Validation'])\n",
        "plt.show()"
      ],
      "metadata": {
        "colab": {
          "base_uri": "https://localhost:8080/",
          "height": 472
        },
        "id": "s3uo9eFbnEE3",
        "outputId": "aec61d4b-a5b7-4c0c-e05f-e125b1eb3e53"
      },
      "execution_count": 223,
      "outputs": [
        {
          "output_type": "display_data",
          "data": {
            "text/plain": [
              "<Figure size 640x480 with 1 Axes>"
            ],
            "image/png": "[encoded data removed]"
          },
          "metadata": {}
        }
      ]
    }
  ]
}
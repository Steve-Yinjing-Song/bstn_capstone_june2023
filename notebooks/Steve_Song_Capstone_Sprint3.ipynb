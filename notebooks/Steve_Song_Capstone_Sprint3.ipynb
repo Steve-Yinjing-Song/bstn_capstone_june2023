{
  "nbformat": 4,
  "nbformat_minor": 0,
  "metadata": {
    "colab": {
      "provenance": []
    },
    "kernelspec": {
      "name": "python3",
      "display_name": "Python 3"
    },
    "language_info": {
      "name": "python"
    }
  },
  "cells": [
    {
      "cell_type": "markdown",
      "source": [
        "# **Sentiment Analysis on Airline Tweets Dataset**\n",
        "\n",
        "The dataset we used fot this sentiment analysis contains tweets on US Airlines of 2015. We applied some data preprocessing or wrangling techniques to remove unnecessary characters,symbols and tokens.Different machine learningalgorithms are used to bulild the models, evaluate the performance and make the predictions.\n",
        "\n",
        "\n",
        " **Data dictionary**\n",
        "\n",
        "  tweet_id\n",
        "  airline_sentiment\n",
        "  airline_sentiment_confidence\n",
        "  negativereason\n",
        "  negativereason_confidence\n",
        "  airline\n",
        "  airline_sentiment_gold\n",
        "  name\n",
        "  negativereason_gold\n",
        "  retweet_count\ttext\n",
        "  tweet_coord\n",
        "  tweet_created\n",
        "  tweet_location\n",
        "  user_timezone\n",
        "\n",
        "    "
      ],
      "metadata": {
        "id": "OI8ScRKDwrpL"
      }
    },
    {
      "cell_type": "code",
      "source": [
        "# import basic libraries\n",
        "import pandas as pd\n",
        "import numpy as np\n",
        "import matplotlib.pyplot as plt\n",
        "\n",
        "from sklearn.linear_model import LogisticRegression\n",
        "\n",
        "from sklearn.metrics import accuracy_score\n",
        "\n",
        "import string\n",
        "import re\n",
        "import nltk\n",
        "\n",
        "import warnings\n",
        "warnings.filterwarnings('ignore')"
      ],
      "metadata": {
        "id": "zMZMKip658c7"
      },
      "execution_count": 136,
      "outputs": []
    },
    {
      "cell_type": "code",
      "source": [
        "# read csv dataset\n",
        "df = pd.read_csv(\"/content/Tweets.csv\")"
      ],
      "metadata": {
        "id": "l2keY5TR637B"
      },
      "execution_count": 137,
      "outputs": []
    },
    {
      "cell_type": "code",
      "source": [
        "# check the first 3 date points\n",
        "df.head()"
      ],
      "metadata": {
        "colab": {
          "base_uri": "https://localhost:8080/",
          "height": 451
        },
        "id": "XJZrIiBz7926",
        "outputId": "641f18d2-26c1-4595-e939-9b3ee5b88a89"
      },
      "execution_count": 138,
      "outputs": [
        {
          "output_type": "execute_result",
          "data": {
            "text/plain": [
              "             tweet_id airline_sentiment  airline_sentiment_confidence  \\\n",
              "0  570306133677760513           neutral                        1.0000   \n",
              "1  570301130888122368          positive                        0.3486   \n",
              "2  570301083672813571           neutral                        0.6837   \n",
              "3  570301031407624196          negative                        1.0000   \n",
              "4  570300817074462722          negative                        1.0000   \n",
              "\n",
              "  negativereason  negativereason_confidence         airline  \\\n",
              "0            NaN                        NaN  Virgin America   \n",
              "1            NaN                     0.0000  Virgin America   \n",
              "2            NaN                        NaN  Virgin America   \n",
              "3     Bad Flight                     0.7033  Virgin America   \n",
              "4     Can't Tell                     1.0000  Virgin America   \n",
              "\n",
              "  airline_sentiment_gold        name negativereason_gold  retweet_count  \\\n",
              "0                    NaN     cairdin                 NaN              0   \n",
              "1                    NaN    jnardino                 NaN              0   \n",
              "2                    NaN  yvonnalynn                 NaN              0   \n",
              "3                    NaN    jnardino                 NaN              0   \n",
              "4                    NaN    jnardino                 NaN              0   \n",
              "\n",
              "                                                text tweet_coord  \\\n",
              "0                @VirginAmerica What @dhepburn said.         NaN   \n",
              "1  @VirginAmerica plus you've added commercials t...         NaN   \n",
              "2  @VirginAmerica I didn't today... Must mean I n...         NaN   \n",
              "3  @VirginAmerica it's really aggressive to blast...         NaN   \n",
              "4  @VirginAmerica and it's a really big bad thing...         NaN   \n",
              "\n",
              "               tweet_created tweet_location               user_timezone  \n",
              "0  2015-02-24 11:35:52 -0800            NaN  Eastern Time (US & Canada)  \n",
              "1  2015-02-24 11:15:59 -0800            NaN  Pacific Time (US & Canada)  \n",
              "2  2015-02-24 11:15:48 -0800      Lets Play  Central Time (US & Canada)  \n",
              "3  2015-02-24 11:15:36 -0800            NaN  Pacific Time (US & Canada)  \n",
              "4  2015-02-24 11:14:45 -0800            NaN  Pacific Time (US & Canada)  "
            ],
            "text/html": [
              "\n",
              "  <div id=\"df-d984c794-79e4-44e4-af47-1b75cee74860\" class=\"colab-df-container\">\n",
              "    <div>\n",
              "<style scoped>\n",
              "    .dataframe tbody tr th:only-of-type {\n",
              "        vertical-align: middle;\n",
              "    }\n",
              "\n",
              "    .dataframe tbody tr th {\n",
              "        vertical-align: top;\n",
              "    }\n",
              "\n",
              "    .dataframe thead th {\n",
              "        text-align: right;\n",
              "    }\n",
              "</style>\n",
              "<table border=\"1\" class=\"dataframe\">\n",
              "  <thead>\n",
              "    <tr style=\"text-align: right;\">\n",
              "      <th></th>\n",
              "      <th>tweet_id</th>\n",
              "      <th>airline_sentiment</th>\n",
              "      <th>airline_sentiment_confidence</th>\n",
              "      <th>negativereason</th>\n",
              "      <th>negativereason_confidence</th>\n",
              "      <th>airline</th>\n",
              "      <th>airline_sentiment_gold</th>\n",
              "      <th>name</th>\n",
              "      <th>negativereason_gold</th>\n",
              "      <th>retweet_count</th>\n",
              "      <th>text</th>\n",
              "      <th>tweet_coord</th>\n",
              "      <th>tweet_created</th>\n",
              "      <th>tweet_location</th>\n",
              "      <th>user_timezone</th>\n",
              "    </tr>\n",
              "  </thead>\n",
              "  <tbody>\n",
              "    <tr>\n",
              "      <th>0</th>\n",
              "      <td>570306133677760513</td>\n",
              "      <td>neutral</td>\n",
              "      <td>1.0000</td>\n",
              "      <td>NaN</td>\n",
              "      <td>NaN</td>\n",
              "      <td>Virgin America</td>\n",
              "      <td>NaN</td>\n",
              "      <td>cairdin</td>\n",
              "      <td>NaN</td>\n",
              "      <td>0</td>\n",
              "      <td>@VirginAmerica What @dhepburn said.</td>\n",
              "      <td>NaN</td>\n",
              "      <td>2015-02-24 11:35:52 -0800</td>\n",
              "      <td>NaN</td>\n",
              "      <td>Eastern Time (US &amp; Canada)</td>\n",
              "    </tr>\n",
              "    <tr>\n",
              "      <th>1</th>\n",
              "      <td>570301130888122368</td>\n",
              "      <td>positive</td>\n",
              "      <td>0.3486</td>\n",
              "      <td>NaN</td>\n",
              "      <td>0.0000</td>\n",
              "      <td>Virgin America</td>\n",
              "      <td>NaN</td>\n",
              "      <td>jnardino</td>\n",
              "      <td>NaN</td>\n",
              "      <td>0</td>\n",
              "      <td>@VirginAmerica plus you've added commercials t...</td>\n",
              "      <td>NaN</td>\n",
              "      <td>2015-02-24 11:15:59 -0800</td>\n",
              "      <td>NaN</td>\n",
              "      <td>Pacific Time (US &amp; Canada)</td>\n",
              "    </tr>\n",
              "    <tr>\n",
              "      <th>2</th>\n",
              "      <td>570301083672813571</td>\n",
              "      <td>neutral</td>\n",
              "      <td>0.6837</td>\n",
              "      <td>NaN</td>\n",
              "      <td>NaN</td>\n",
              "      <td>Virgin America</td>\n",
              "      <td>NaN</td>\n",
              "      <td>yvonnalynn</td>\n",
              "      <td>NaN</td>\n",
              "      <td>0</td>\n",
              "      <td>@VirginAmerica I didn't today... Must mean I n...</td>\n",
              "      <td>NaN</td>\n",
              "      <td>2015-02-24 11:15:48 -0800</td>\n",
              "      <td>Lets Play</td>\n",
              "      <td>Central Time (US &amp; Canada)</td>\n",
              "    </tr>\n",
              "    <tr>\n",
              "      <th>3</th>\n",
              "      <td>570301031407624196</td>\n",
              "      <td>negative</td>\n",
              "      <td>1.0000</td>\n",
              "      <td>Bad Flight</td>\n",
              "      <td>0.7033</td>\n",
              "      <td>Virgin America</td>\n",
              "      <td>NaN</td>\n",
              "      <td>jnardino</td>\n",
              "      <td>NaN</td>\n",
              "      <td>0</td>\n",
              "      <td>@VirginAmerica it's really aggressive to blast...</td>\n",
              "      <td>NaN</td>\n",
              "      <td>2015-02-24 11:15:36 -0800</td>\n",
              "      <td>NaN</td>\n",
              "      <td>Pacific Time (US &amp; Canada)</td>\n",
              "    </tr>\n",
              "    <tr>\n",
              "      <th>4</th>\n",
              "      <td>570300817074462722</td>\n",
              "      <td>negative</td>\n",
              "      <td>1.0000</td>\n",
              "      <td>Can't Tell</td>\n",
              "      <td>1.0000</td>\n",
              "      <td>Virgin America</td>\n",
              "      <td>NaN</td>\n",
              "      <td>jnardino</td>\n",
              "      <td>NaN</td>\n",
              "      <td>0</td>\n",
              "      <td>@VirginAmerica and it's a really big bad thing...</td>\n",
              "      <td>NaN</td>\n",
              "      <td>2015-02-24 11:14:45 -0800</td>\n",
              "      <td>NaN</td>\n",
              "      <td>Pacific Time (US &amp; Canada)</td>\n",
              "    </tr>\n",
              "  </tbody>\n",
              "</table>\n",
              "</div>\n",
              "    <div class=\"colab-df-buttons\">\n",
              "\n",
              "  <div class=\"colab-df-container\">\n",
              "    <button class=\"colab-df-convert\" onclick=\"convertToInteractive('df-d984c794-79e4-44e4-af47-1b75cee74860')\"\n",
              "            title=\"Convert this dataframe to an interactive table.\"\n",
              "            style=\"display:none;\">\n",
              "\n",
              "  <svg xmlns=\"http://www.w3.org/2000/svg\" height=\"24px\" viewBox=\"0 -960 960 960\">\n",
              "    <path d=\"M120-120v-720h720v720H120Zm60-500h600v-160H180v160Zm220 220h160v-160H400v160Zm0 220h160v-160H400v160ZM180-400h160v-160H180v160Zm440 0h160v-160H620v160ZM180-180h160v-160H180v160Zm440 0h160v-160H620v160Z\"/>\n",
              "  </svg>\n",
              "    </button>\n",
              "\n",
              "  <style>\n",
              "    .colab-df-container {\n",
              "      display:flex;\n",
              "      gap: 12px;\n",
              "    }\n",
              "\n",
              "    .colab-df-convert {\n",
              "      background-color: #E8F0FE;\n",
              "      border: none;\n",
              "      border-radius: 50%;\n",
              "      cursor: pointer;\n",
              "      display: none;\n",
              "      fill: #1967D2;\n",
              "      height: 32px;\n",
              "      padding: 0 0 0 0;\n",
              "      width: 32px;\n",
              "    }\n",
              "\n",
              "    .colab-df-convert:hover {\n",
              "      background-color: #E2EBFA;\n",
              "      box-shadow: 0px 1px 2px rgba(60, 64, 67, 0.3), 0px 1px 3px 1px rgba(60, 64, 67, 0.15);\n",
              "      fill: #174EA6;\n",
              "    }\n",
              "\n",
              "    .colab-df-buttons div {\n",
              "      margin-bottom: 4px;\n",
              "    }\n",
              "\n",
              "    [theme=dark] .colab-df-convert {\n",
              "      background-color: #3B4455;\n",
              "      fill: #D2E3FC;\n",
              "    }\n",
              "\n",
              "    [theme=dark] .colab-df-convert:hover {\n",
              "      background-color: #434B5C;\n",
              "      box-shadow: 0px 1px 3px 1px rgba(0, 0, 0, 0.15);\n",
              "      filter: drop-shadow(0px 1px 2px rgba(0, 0, 0, 0.3));\n",
              "      fill: #FFFFFF;\n",
              "    }\n",
              "  </style>\n",
              "\n",
              "    <script>\n",
              "      const buttonEl =\n",
              "        document.querySelector('#df-d984c794-79e4-44e4-af47-1b75cee74860 button.colab-df-convert');\n",
              "      buttonEl.style.display =\n",
              "        google.colab.kernel.accessAllowed ? 'block' : 'none';\n",
              "\n",
              "      async function convertToInteractive(key) {\n",
              "        const element = document.querySelector('#df-d984c794-79e4-44e4-af47-1b75cee74860');\n",
              "        const dataTable =\n",
              "          await google.colab.kernel.invokeFunction('convertToInteractive',\n",
              "                                                    [key], {});\n",
              "        if (!dataTable) return;\n",
              "\n",
              "        const docLinkHtml = 'Like what you see? Visit the ' +\n",
              "          '<a target=\"_blank\" href=https://colab.research.google.com/notebooks/data_table.ipynb>data table notebook</a>'\n",
              "          + ' to learn more about interactive tables.';\n",
              "        element.innerHTML = '';\n",
              "        dataTable['output_type'] = 'display_data';\n",
              "        await google.colab.output.renderOutput(dataTable, element);\n",
              "        const docLink = document.createElement('div');\n",
              "        docLink.innerHTML = docLinkHtml;\n",
              "        element.appendChild(docLink);\n",
              "      }\n",
              "    </script>\n",
              "  </div>\n",
              "\n",
              "\n",
              "<div id=\"df-2097a16e-2b0f-4b75-902b-9229e534727c\">\n",
              "  <button class=\"colab-df-quickchart\" onclick=\"quickchart('df-2097a16e-2b0f-4b75-902b-9229e534727c')\"\n",
              "            title=\"Suggest charts\"\n",
              "            style=\"display:none;\">\n",
              "\n",
              "<svg xmlns=\"http://www.w3.org/2000/svg\" height=\"24px\"viewBox=\"0 0 24 24\"\n",
              "     width=\"24px\">\n",
              "    <g>\n",
              "        <path d=\"M19 3H5c-1.1 0-2 .9-2 2v14c0 1.1.9 2 2 2h14c1.1 0 2-.9 2-2V5c0-1.1-.9-2-2-2zM9 17H7v-7h2v7zm4 0h-2V7h2v10zm4 0h-2v-4h2v4z\"/>\n",
              "    </g>\n",
              "</svg>\n",
              "  </button>\n",
              "\n",
              "<style>\n",
              "  .colab-df-quickchart {\n",
              "      --bg-color: #E8F0FE;\n",
              "      --fill-color: #1967D2;\n",
              "      --hover-bg-color: #E2EBFA;\n",
              "      --hover-fill-color: #174EA6;\n",
              "      --disabled-fill-color: #AAA;\n",
              "      --disabled-bg-color: #DDD;\n",
              "  }\n",
              "\n",
              "  [theme=dark] .colab-df-quickchart {\n",
              "      --bg-color: #3B4455;\n",
              "      --fill-color: #D2E3FC;\n",
              "      --hover-bg-color: #434B5C;\n",
              "      --hover-fill-color: #FFFFFF;\n",
              "      --disabled-bg-color: #3B4455;\n",
              "      --disabled-fill-color: #666;\n",
              "  }\n",
              "\n",
              "  .colab-df-quickchart {\n",
              "    background-color: var(--bg-color);\n",
              "    border: none;\n",
              "    border-radius: 50%;\n",
              "    cursor: pointer;\n",
              "    display: none;\n",
              "    fill: var(--fill-color);\n",
              "    height: 32px;\n",
              "    padding: 0;\n",
              "    width: 32px;\n",
              "  }\n",
              "\n",
              "  .colab-df-quickchart:hover {\n",
              "    background-color: var(--hover-bg-color);\n",
              "    box-shadow: 0 1px 2px rgba(60, 64, 67, 0.3), 0 1px 3px 1px rgba(60, 64, 67, 0.15);\n",
              "    fill: var(--button-hover-fill-color);\n",
              "  }\n",
              "\n",
              "  .colab-df-quickchart-complete:disabled,\n",
              "  .colab-df-quickchart-complete:disabled:hover {\n",
              "    background-color: var(--disabled-bg-color);\n",
              "    fill: var(--disabled-fill-color);\n",
              "    box-shadow: none;\n",
              "  }\n",
              "\n",
              "  .colab-df-spinner {\n",
              "    border: 2px solid var(--fill-color);\n",
              "    border-color: transparent;\n",
              "    border-bottom-color: var(--fill-color);\n",
              "    animation:\n",
              "      spin 1s steps(1) infinite;\n",
              "  }\n",
              "\n",
              "  @keyframes spin {\n",
              "    0% {\n",
              "      border-color: transparent;\n",
              "      border-bottom-color: var(--fill-color);\n",
              "      border-left-color: var(--fill-color);\n",
              "    }\n",
              "    20% {\n",
              "      border-color: transparent;\n",
              "      border-left-color: var(--fill-color);\n",
              "      border-top-color: var(--fill-color);\n",
              "    }\n",
              "    30% {\n",
              "      border-color: transparent;\n",
              "      border-left-color: var(--fill-color);\n",
              "      border-top-color: var(--fill-color);\n",
              "      border-right-color: var(--fill-color);\n",
              "    }\n",
              "    40% {\n",
              "      border-color: transparent;\n",
              "      border-right-color: var(--fill-color);\n",
              "      border-top-color: var(--fill-color);\n",
              "    }\n",
              "    60% {\n",
              "      border-color: transparent;\n",
              "      border-right-color: var(--fill-color);\n",
              "    }\n",
              "    80% {\n",
              "      border-color: transparent;\n",
              "      border-right-color: var(--fill-color);\n",
              "      border-bottom-color: var(--fill-color);\n",
              "    }\n",
              "    90% {\n",
              "      border-color: transparent;\n",
              "      border-bottom-color: var(--fill-color);\n",
              "    }\n",
              "  }\n",
              "</style>\n",
              "\n",
              "  <script>\n",
              "    async function quickchart(key) {\n",
              "      const quickchartButtonEl =\n",
              "        document.querySelector('#' + key + ' button');\n",
              "      quickchartButtonEl.disabled = true;  // To prevent multiple clicks.\n",
              "      quickchartButtonEl.classList.add('colab-df-spinner');\n",
              "      try {\n",
              "        const charts = await google.colab.kernel.invokeFunction(\n",
              "            'suggestCharts', [key], {});\n",
              "      } catch (error) {\n",
              "        console.error('Error during call to suggestCharts:', error);\n",
              "      }\n",
              "      quickchartButtonEl.classList.remove('colab-df-spinner');\n",
              "      quickchartButtonEl.classList.add('colab-df-quickchart-complete');\n",
              "    }\n",
              "    (() => {\n",
              "      let quickchartButtonEl =\n",
              "        document.querySelector('#df-2097a16e-2b0f-4b75-902b-9229e534727c button');\n",
              "      quickchartButtonEl.style.display =\n",
              "        google.colab.kernel.accessAllowed ? 'block' : 'none';\n",
              "    })();\n",
              "  </script>\n",
              "</div>\n",
              "\n",
              "    </div>\n",
              "  </div>\n"
            ],
            "application/vnd.google.colaboratory.intrinsic+json": {
              "type": "dataframe",
              "variable_name": "df",
              "summary": "{\n  \"name\": \"df\",\n  \"rows\": 14640,\n  \"fields\": [\n    {\n      \"column\": \"tweet_id\",\n      \"properties\": {\n        \"dtype\": \"number\",\n        \"std\": 779111158481835,\n        \"min\": 567588278875213824,\n        \"max\": 570310600460525568,\n        \"num_unique_values\": 14485,\n        \"samples\": [\n          567917894144770049,\n          567813976492417024,\n          569243676594941953\n        ],\n        \"semantic_type\": \"\",\n        \"description\": \"\"\n      }\n    },\n    {\n      \"column\": \"airline_sentiment\",\n      \"properties\": {\n        \"dtype\": \"category\",\n        \"num_unique_values\": 3,\n        \"samples\": [\n          \"neutral\",\n          \"positive\",\n          \"negative\"\n        ],\n        \"semantic_type\": \"\",\n        \"description\": \"\"\n      }\n    },\n    {\n      \"column\": \"airline_sentiment_confidence\",\n      \"properties\": {\n        \"dtype\": \"number\",\n        \"std\": 0.16282995909867212,\n        \"min\": 0.335,\n        \"max\": 1.0,\n        \"num_unique_values\": 1023,\n        \"samples\": [\n          0.6723,\n          0.3551,\n          0.6498\n        ],\n        \"semantic_type\": \"\",\n        \"description\": \"\"\n      }\n    },\n    {\n      \"column\": \"negativereason\",\n      \"properties\": {\n        \"dtype\": \"category\",\n        \"num_unique_values\": 10,\n        \"samples\": [\n          \"Damaged Luggage\",\n          \"Can't Tell\",\n          \"Lost Luggage\"\n        ],\n        \"semantic_type\": \"\",\n        \"description\": \"\"\n      }\n    },\n    {\n      \"column\": \"negativereason_confidence\",\n      \"properties\": {\n        \"dtype\": \"number\",\n        \"std\": 0.3304397596377297,\n        \"min\": 0.0,\n        \"max\": 1.0,\n        \"num_unique_values\": 1410,\n        \"samples\": [\n          0.6677,\n          0.6622,\n          0.6905\n        ],\n        \"semantic_type\": \"\",\n        \"description\": \"\"\n      }\n    },\n    {\n      \"column\": \"airline\",\n      \"properties\": {\n        \"dtype\": \"category\",\n        \"num_unique_values\": 6,\n        \"samples\": [\n          \"Virgin America\",\n          \"United\",\n          \"American\"\n        ],\n        \"semantic_type\": \"\",\n        \"description\": \"\"\n      }\n    },\n    {\n      \"column\": \"airline_sentiment_gold\",\n      \"properties\": {\n        \"dtype\": \"category\",\n        \"num_unique_values\": 3,\n        \"samples\": [\n          \"negative\",\n          \"neutral\",\n          \"positive\"\n        ],\n        \"semantic_type\": \"\",\n        \"description\": \"\"\n      }\n    },\n    {\n      \"column\": \"name\",\n      \"properties\": {\n        \"dtype\": \"string\",\n        \"num_unique_values\": 7701,\n        \"samples\": [\n          \"smckenna719\",\n          \"thisAnneM\",\n          \"jmspool\"\n        ],\n        \"semantic_type\": \"\",\n        \"description\": \"\"\n      }\n    },\n    {\n      \"column\": \"negativereason_gold\",\n      \"properties\": {\n        \"dtype\": \"category\",\n        \"num_unique_values\": 13,\n        \"samples\": [\n          \"Customer Service Issue\\nLost Luggage\",\n          \"Late Flight\\nCancelled Flight\",\n          \"Late Flight\\nFlight Attendant Complaints\"\n        ],\n        \"semantic_type\": \"\",\n        \"description\": \"\"\n      }\n    },\n    {\n      \"column\": \"retweet_count\",\n      \"properties\": {\n        \"dtype\": \"number\",\n        \"std\": 0,\n        \"min\": 0,\n        \"max\": 44,\n        \"num_unique_values\": 18,\n        \"samples\": [\n          0,\n          1,\n          6\n        ],\n        \"semantic_type\": \"\",\n        \"description\": \"\"\n      }\n    },\n    {\n      \"column\": \"text\",\n      \"properties\": {\n        \"dtype\": \"string\",\n        \"num_unique_values\": 14427,\n        \"samples\": [\n          \"@JetBlue so technically I could drive to JFK now and put in. Request for tomorrow's flight?\",\n          \"@united why I won't check my carry on. Watched a handler throw this bag -- miss the conveyer belt -- sat there 10 min http://t.co/lyoocx5mSH\",\n          \"@SouthwestAir you guys are so clever \\ud83d\\ude03 http://t.co/qn5odUGFqK\"\n        ],\n        \"semantic_type\": \"\",\n        \"description\": \"\"\n      }\n    },\n    {\n      \"column\": \"tweet_coord\",\n      \"properties\": {\n        \"dtype\": \"category\",\n        \"num_unique_values\": 832,\n        \"samples\": [\n          \"[40.04915451, -75.10364317]\",\n          \"[32.97609561, -96.53349238]\",\n          \"[26.37852293, -81.78472152]\"\n        ],\n        \"semantic_type\": \"\",\n        \"description\": \"\"\n      }\n    },\n    {\n      \"column\": \"tweet_created\",\n      \"properties\": {\n        \"dtype\": \"object\",\n        \"num_unique_values\": 14247,\n        \"samples\": [\n          \"2015-02-23 07:40:55 -0800\",\n          \"2015-02-21 16:20:09 -0800\",\n          \"2015-02-21 21:33:21 -0800\"\n        ],\n        \"semantic_type\": \"\",\n        \"description\": \"\"\n      }\n    },\n    {\n      \"column\": \"tweet_location\",\n      \"properties\": {\n        \"dtype\": \"category\",\n        \"num_unique_values\": 3081,\n        \"samples\": [\n          \"Oakland, California\",\n          \"Beverly Hills, CA\",\n          \"Austin, TX/NY, NY\"\n        ],\n        \"semantic_type\": \"\",\n        \"description\": \"\"\n      }\n    },\n    {\n      \"column\": \"user_timezone\",\n      \"properties\": {\n        \"dtype\": \"category\",\n        \"num_unique_values\": 85,\n        \"samples\": [\n          \"Helsinki\",\n          \"Eastern Time (US & Canada)\",\n          \"America/Detroit\"\n        ],\n        \"semantic_type\": \"\",\n        \"description\": \"\"\n      }\n    }\n  ]\n}"
            }
          },
          "metadata": {},
          "execution_count": 138
        }
      ]
    },
    {
      "cell_type": "code",
      "source": [
        "# check the shape\n",
        "df.shape"
      ],
      "metadata": {
        "colab": {
          "base_uri": "https://localhost:8080/"
        },
        "id": "_9h20lXs8Fv5",
        "outputId": "b60ed2c4-af46-4d00-99c1-d7cb9ecd4ffc"
      },
      "execution_count": 27,
      "outputs": [
        {
          "output_type": "execute_result",
          "data": {
            "text/plain": [
              "(14640, 15)"
            ]
          },
          "metadata": {},
          "execution_count": 27
        }
      ]
    },
    {
      "cell_type": "code",
      "source": [
        "# check the data structure and data type\n",
        "df.info()"
      ],
      "metadata": {
        "colab": {
          "base_uri": "https://localhost:8080/"
        },
        "id": "qHAm8zYZ8Km-",
        "outputId": "82c5360c-1e31-44c7-d3ec-4be654b1434f"
      },
      "execution_count": 28,
      "outputs": [
        {
          "output_type": "stream",
          "name": "stdout",
          "text": [
            "<class 'pandas.core.frame.DataFrame'>\n",
            "RangeIndex: 14640 entries, 0 to 14639\n",
            "Data columns (total 15 columns):\n",
            " #   Column                        Non-Null Count  Dtype  \n",
            "---  ------                        --------------  -----  \n",
            " 0   tweet_id                      14640 non-null  int64  \n",
            " 1   airline_sentiment             14640 non-null  object \n",
            " 2   airline_sentiment_confidence  14640 non-null  float64\n",
            " 3   negativereason                9178 non-null   object \n",
            " 4   negativereason_confidence     10522 non-null  float64\n",
            " 5   airline                       14640 non-null  object \n",
            " 6   airline_sentiment_gold        40 non-null     object \n",
            " 7   name                          14640 non-null  object \n",
            " 8   negativereason_gold           32 non-null     object \n",
            " 9   retweet_count                 14640 non-null  int64  \n",
            " 10  text                          14640 non-null  object \n",
            " 11  tweet_coord                   1019 non-null   object \n",
            " 12  tweet_created                 14640 non-null  object \n",
            " 13  tweet_location                9907 non-null   object \n",
            " 14  user_timezone                 9820 non-null   object \n",
            "dtypes: float64(2), int64(2), object(11)\n",
            "memory usage: 1.7+ MB\n"
          ]
        }
      ]
    },
    {
      "cell_type": "code",
      "source": [
        "# check missing values. for this NLP project, we will focus on two independable variables: airline sentiment and text.\n",
        "# fortunately, these two clumns have no missing values.\n",
        "df.isna().sum()/df.shape[0]"
      ],
      "metadata": {
        "colab": {
          "base_uri": "https://localhost:8080/"
        },
        "id": "vjwDl_u_8OXf",
        "outputId": "48016fb1-6e3b-4ae8-d21a-428160fff98f"
      },
      "execution_count": 29,
      "outputs": [
        {
          "output_type": "execute_result",
          "data": {
            "text/plain": [
              "tweet_id                        0.000000\n",
              "airline_sentiment               0.000000\n",
              "airline_sentiment_confidence    0.000000\n",
              "negativereason                  0.373087\n",
              "negativereason_confidence       0.281284\n",
              "airline                         0.000000\n",
              "airline_sentiment_gold          0.997268\n",
              "name                            0.000000\n",
              "negativereason_gold             0.997814\n",
              "retweet_count                   0.000000\n",
              "text                            0.000000\n",
              "tweet_coord                     0.930396\n",
              "tweet_created                   0.000000\n",
              "tweet_location                  0.323292\n",
              "user_timezone                   0.329235\n",
              "dtype: float64"
            ]
          },
          "metadata": {},
          "execution_count": 29
        }
      ]
    },
    {
      "cell_type": "markdown",
      "source": [
        "# **Basic EDA and Feature Engineering**\n",
        "\n",
        "\n"
      ],
      "metadata": {
        "id": "294iGeY22JWh"
      }
    },
    {
      "cell_type": "code",
      "source": [
        "# let's look at the distribution of \"airline_sentiment\"\n",
        "values,counts = np.unique(df[\"airline_sentiment\"], return_counts=True)\n",
        "normalized_counts = counts/counts.sum()\n",
        "\n",
        "plt.figure()\n",
        "plt.bar(values,normalized_counts*100)\n",
        "plt.xlabel(\"Airline Sentiment\")\n",
        "plt.ylabel(\"% of Tweets\")\n",
        "plt.title(\"Sentiment by Rating\")\n",
        "plt.show()"
      ],
      "metadata": {
        "colab": {
          "base_uri": "https://localhost:8080/",
          "height": 472
        },
        "id": "lyEL7mZW8TH_",
        "outputId": "86a98c64-0913-4be9-f833-8b0275b7922d"
      },
      "execution_count": 30,
      "outputs": [
        {
          "output_type": "display_data",
          "data": {
            "text/plain": [
              "<Figure size 640x480 with 1 Axes>"
            ],
            "image/png": "[encoded data removed]"
          },
          "metadata": {}
        }
      ]
    },
    {
      "cell_type": "code",
      "source": [
        "# check the exact percentage for each category\n",
        "print(normalized_counts.round(2))"
      ],
      "metadata": {
        "colab": {
          "base_uri": "https://localhost:8080/"
        },
        "id": "-qLLocVd8cIT",
        "outputId": "d044c11d-3cf6-4901-9829-b091fabeb6a1"
      },
      "execution_count": 31,
      "outputs": [
        {
          "output_type": "stream",
          "name": "stdout",
          "text": [
            "[0.63 0.21 0.16]\n"
          ]
        }
      ]
    },
    {
      "cell_type": "markdown",
      "source": [
        "By checking the percentage for each categry, we see that the \"negative\" category takes around 63%.This can be treated as the baseline to evaluate how the models perform we are building."
      ],
      "metadata": {
        "id": "NRMvTQYg20gV"
      }
    },
    {
      "cell_type": "code",
      "source": [
        "# check what is the main reasons that caused negative reviews\n",
        "df.groupby('negativereason')['negativereason'].count().sort_values(ascending=False)"
      ],
      "metadata": {
        "colab": {
          "base_uri": "https://localhost:8080/"
        },
        "id": "C-6D1iPB88fA",
        "outputId": "15a35e72-e750-4419-a8df-90bd5dec5b17"
      },
      "execution_count": 32,
      "outputs": [
        {
          "output_type": "execute_result",
          "data": {
            "text/plain": [
              "negativereason\n",
              "Customer Service Issue         2910\n",
              "Late Flight                    1665\n",
              "Can't Tell                     1190\n",
              "Cancelled Flight                847\n",
              "Lost Luggage                    724\n",
              "Bad Flight                      580\n",
              "Flight Booking Problems         529\n",
              "Flight Attendant Complaints     481\n",
              "longlines                       178\n",
              "Damaged Luggage                  74\n",
              "Name: negativereason, dtype: int64"
            ]
          },
          "metadata": {},
          "execution_count": 32
        }
      ]
    },
    {
      "cell_type": "markdown",
      "source": [
        "We see that Customer Service Issue contributes the most to the negative review. Other issues are Late Flight, Cancelled Flight,Lost Luggage."
      ],
      "metadata": {
        "id": "FQMjTNeE4ExL"
      }
    },
    {
      "cell_type": "code",
      "source": [
        "# visualize the Negative Review Reasons\n",
        "df_by_negativereason = df.groupby('negativereason')['negativereason'].count().sort_values(ascending=False)\n",
        "\n",
        "plt.bar(df_by_negativereason.index,df_by_negativereason)\n",
        "plt.title('Tweet Volume Distribution For Negative Sentiment')\n",
        "plt.xticks(rotation=90)"
      ],
      "metadata": {
        "colab": {
          "base_uri": "https://localhost:8080/",
          "height": 824
        },
        "id": "Xj6H4lAS9E8t",
        "outputId": "760cb211-2ec3-45d7-e675-53c07f9dae85"
      },
      "execution_count": 33,
      "outputs": [
        {
          "output_type": "execute_result",
          "data": {
            "text/plain": [
              "([0, 1, 2, 3, 4, 5, 6, 7, 8, 9],\n",
              " [Text(0, 0, 'Customer Service Issue'),\n",
              "  Text(1, 0, 'Late Flight'),\n",
              "  Text(2, 0, \"Can't Tell\"),\n",
              "  Text(3, 0, 'Cancelled Flight'),\n",
              "  Text(4, 0, 'Lost Luggage'),\n",
              "  Text(5, 0, 'Bad Flight'),\n",
              "  Text(6, 0, 'Flight Booking Problems'),\n",
              "  Text(7, 0, 'Flight Attendant Complaints'),\n",
              "  Text(8, 0, 'longlines'),\n",
              "  Text(9, 0, 'Damaged Luggage')])"
            ]
          },
          "metadata": {},
          "execution_count": 33
        },
        {
          "output_type": "display_data",
          "data": {
            "text/plain": [
              "<Figure size 640x480 with 1 Axes>"
            ],
            "image/png": "[encoded data removed]"
          },
          "metadata": {}
        }
      ]
    },
    {
      "cell_type": "code",
      "source": [
        "# check the how positive/neutral/positive reviews distributed across these six airline companies\n",
        "df_sentiment_by_airline = df.groupby(['airline', 'airline_sentiment'])['airline'].count()/df.groupby(\"airline\")[\"airline\"].count()"
      ],
      "metadata": {
        "id": "ClaRJG0n9J3n"
      },
      "execution_count": 34,
      "outputs": []
    },
    {
      "cell_type": "code",
      "source": [
        "plt.figure()\n",
        "df_sentiment_by_airline.unstack().sort_values(by=\"positive\").plot(kind=\"barh\",stacked=True)\n",
        "plt.legend(bbox_to_anchor=(1.05, 1), loc='upper left')\n",
        "plt.title(\"Sentiment Rating by Airline\")\n",
        "plt.show()"
      ],
      "metadata": {
        "colab": {
          "base_uri": "https://localhost:8080/",
          "height": 469
        },
        "id": "k4EbZ4A69RAf",
        "outputId": "279c6b82-9d4e-4d3e-aaab-ab1a0b6a7a13"
      },
      "execution_count": 35,
      "outputs": [
        {
          "output_type": "display_data",
          "data": {
            "text/plain": [
              "<Figure size 640x480 with 0 Axes>"
            ]
          },
          "metadata": {}
        },
        {
          "output_type": "display_data",
          "data": {
            "text/plain": [
              "<Figure size 640x480 with 1 Axes>"
            ],
            "image/png": "[encoded data removed]"
          },
          "metadata": {}
        }
      ]
    },
    {
      "cell_type": "markdown",
      "source": [
        "We see Virgin America outperforms other carriers in terms of the percentage of positive reviews."
      ],
      "metadata": {
        "id": "y5lA21uJ5fwx"
      }
    },
    {
      "cell_type": "code",
      "source": [
        "# label encoding on the target feature \"airline_sentiment\"\n",
        "\n",
        "from sklearn.preprocessing import LabelEncoder\n",
        "\n",
        "# Instantiate the label encoder\n",
        "le = LabelEncoder()\n",
        "\n",
        "# Fit and transform the airline_sentiment column\n",
        "df['airline_sentiment'] = le.fit_transform(df['airline_sentiment'])"
      ],
      "metadata": {
        "id": "driXsgt19gB4"
      },
      "execution_count": 139,
      "outputs": []
    },
    {
      "cell_type": "markdown",
      "source": [
        "The target variable has been converted as:  Negative: 0; Neutral 1; Positive 2."
      ],
      "metadata": {
        "id": "-pymEdJAY_vF"
      }
    },
    {
      "cell_type": "code",
      "source": [
        "# spliting the data into training and test set\n",
        "\n",
        "from sklearn.feature_extraction.text import CountVectorizer\n",
        "from sklearn.model_selection import train_test_split\n",
        "X = df[\"text\"]\n",
        "y = df[\"airline_sentiment\"]\n",
        "X_train,X_test,y_train,y_test = train_test_split(X, y, test_size=0.33 ,random_state=42)"
      ],
      "metadata": {
        "id": "3Jip1v8QBs0V"
      },
      "execution_count": 140,
      "outputs": []
    },
    {
      "cell_type": "code",
      "source": [
        "# check these text content to get some idea of how the data looks\n",
        "X_train.values"
      ],
      "metadata": {
        "colab": {
          "base_uri": "https://localhost:8080/"
        },
        "id": "FRW0IQYGB5RI",
        "outputId": "feb30146-39d1-4dba-fc4d-60d843b1c657"
      },
      "execution_count": 38,
      "outputs": [
        {
          "output_type": "execute_result",
          "data": {
            "text/plain": [
              "array(['@JetBlue of course I am!!✈️',\n",
              "       '@AmericanAir complt incompetence on flt 295.Lav delay from a pln that lnded last nite, no internet and poor svc. Not what I expect from u.',\n",
              "       '@SouthwestAir Flight 4968 (N8325D) departs @MCO enroute to @NO_Airport http://t.co/fd4SnvKIeM',\n",
              "       ...,\n",
              "       '@SouthwestAir Been on hold for over an hour - any chance someone can help me on here?',\n",
              "       '@united we would...how do I contact you to discuss? A few poor experiences with customer service but would give it a shot!',\n",
              "       \"@JetBlue that's ok! It just sure seemed like it when JetBlue tweeted us back and asked us to send selfies of us watching.. Haha\"],\n",
              "      dtype=object)"
            ]
          },
          "metadata": {},
          "execution_count": 38
        }
      ]
    },
    {
      "cell_type": "code",
      "source": [
        "# size of training set\n",
        "X_train.shape"
      ],
      "metadata": {
        "colab": {
          "base_uri": "https://localhost:8080/"
        },
        "id": "5Bv69NZWB9Am",
        "outputId": "3e945300-2bd2-48f5-cb0a-2faabf5b2bbe"
      },
      "execution_count": 39,
      "outputs": [
        {
          "output_type": "execute_result",
          "data": {
            "text/plain": [
              "(9808,)"
            ]
          },
          "metadata": {},
          "execution_count": 39
        }
      ]
    },
    {
      "cell_type": "markdown",
      "source": [
        "**Average Tweet Length and Frequent Used Words**"
      ],
      "metadata": {
        "id": "QuQysc1x7MmE"
      }
    },
    {
      "cell_type": "code",
      "source": [
        "# making a document-term matrix\n",
        "bagofwords = CountVectorizer()\n",
        "bagofwords.fit(X_train)\n",
        "X_train_transformed = bagofwords.transform(X_train)\n",
        "X_train_transformed"
      ],
      "metadata": {
        "colab": {
          "base_uri": "https://localhost:8080/"
        },
        "id": "pByKag57CD-x",
        "outputId": "51e035a0-c0e5-4a95-9554-1c3f1f910c9f"
      },
      "execution_count": 40,
      "outputs": [
        {
          "output_type": "execute_result",
          "data": {
            "text/plain": [
              "<9808x12056 sparse matrix of type '<class 'numpy.int64'>'\n",
              "\twith 156290 stored elements in Compressed Sparse Row format>"
            ]
          },
          "metadata": {},
          "execution_count": 40
        }
      ]
    },
    {
      "cell_type": "code",
      "source": [
        "text_lengths = X.apply(lambda text: len(text.split()))\n",
        "plt.hist(text_lengths)\n",
        "plt.title(\"Tweets Length Distribution\")"
      ],
      "metadata": {
        "colab": {
          "base_uri": "https://localhost:8080/",
          "height": 469
        },
        "id": "xAdjt9udCLiq",
        "outputId": "b6e42240-796e-48d7-a026-c74578caa7e9"
      },
      "execution_count": 41,
      "outputs": [
        {
          "output_type": "execute_result",
          "data": {
            "text/plain": [
              "Text(0.5, 1.0, 'Tweets Length Distribution')"
            ]
          },
          "metadata": {},
          "execution_count": 41
        },
        {
          "output_type": "display_data",
          "data": {
            "text/plain": [
              "<Figure size 640x480 with 1 Axes>"
            ],
            "image/png": "[encoded data removed]"
          },
          "metadata": {}
        }
      ]
    },
    {
      "cell_type": "markdown",
      "source": [
        "We can see  most tweet are 20-25 word long even this chart is a little positively skewed."
      ],
      "metadata": {
        "id": "gMnJBsu67dNQ"
      }
    },
    {
      "cell_type": "code",
      "source": [
        "# transforming the test set\n",
        "X_test_transformed = bagofwords.transform(X_test)\n",
        "X_test_transformed"
      ],
      "metadata": {
        "colab": {
          "base_uri": "https://localhost:8080/"
        },
        "id": "b4gMPz5ZCVfF",
        "outputId": "54b0e3ca-7357-4e1d-9441-eb7cb79645e7"
      },
      "execution_count": 42,
      "outputs": [
        {
          "output_type": "execute_result",
          "data": {
            "text/plain": [
              "<4832x12056 sparse matrix of type '<class 'numpy.int64'>'\n",
              "\twith 74703 stored elements in Compressed Sparse Row format>"
            ]
          },
          "metadata": {},
          "execution_count": 42
        }
      ]
    },
    {
      "cell_type": "code",
      "source": [
        "# check the total number of transformed tokens\n",
        "len(bagofwords.get_feature_names_out())"
      ],
      "metadata": {
        "colab": {
          "base_uri": "https://localhost:8080/"
        },
        "id": "pvR98NV1Ceug",
        "outputId": "8b6c67a2-51ae-469b-e4cc-044344d95cda"
      },
      "execution_count": 43,
      "outputs": [
        {
          "output_type": "execute_result",
          "data": {
            "text/plain": [
              "12056"
            ]
          },
          "metadata": {},
          "execution_count": 43
        }
      ]
    },
    {
      "cell_type": "code",
      "source": [
        "# visualize the most frequently occurring words\n",
        "word_counts = pd.DataFrame({\"counts\": X_train_transformed.toarray().sum(axis=0)},\n",
        "                           index = bagofwords.get_feature_names_out()).sort_values(\"counts\", ascending=False)\n",
        "\n",
        "word_counts.head(20).plot(kind=\"bar\",figsize=(15,5),legend=False)\n",
        "plt.title(\"Top 20 most frequently occurring words\")\n",
        "plt.ylabel(\"Count\")\n",
        "plt.xticks(rotation=45)\n",
        "plt.show()"
      ],
      "metadata": {
        "colab": {
          "base_uri": "https://localhost:8080/",
          "height": 472
        },
        "id": "zyjmF0C3Cxk7",
        "outputId": "906dffe9-4e24-422d-a2d8-2a3d06c2005b"
      },
      "execution_count": 44,
      "outputs": [
        {
          "output_type": "display_data",
          "data": {
            "text/plain": [
              "<Figure size 1500x500 with 1 Axes>"
            ],
            "image/png": "[encoded data removed]"
          },
          "metadata": {}
        }
      ]
    },
    {
      "cell_type": "code",
      "source": [
        "# Solving Stopwords problem\n",
        "# easiest way to remove stop words\n",
        "bagofwords = CountVectorizer(stop_words=\"english\")\n",
        "bagofwords.fit(X_train)\n",
        "\n",
        "X_train_transformed = bagofwords.transform(X_train)\n",
        "X_test_transformed = bagofwords.transform(X_test)\n",
        "\n",
        "X_train_transformed.shape"
      ],
      "metadata": {
        "colab": {
          "base_uri": "https://localhost:8080/"
        },
        "id": "yfvR1VVIC3ol",
        "outputId": "a38291f4-b0a8-4ac1-c410-d97eb17301fb"
      },
      "execution_count": 45,
      "outputs": [
        {
          "output_type": "execute_result",
          "data": {
            "text/plain": [
              "(9808, 11777)"
            ]
          },
          "metadata": {},
          "execution_count": 45
        }
      ]
    },
    {
      "cell_type": "code",
      "source": [
        "word_counts = pd.DataFrame(\n",
        "    {\"counts\": X_train_transformed.toarray().sum(axis=0)},\n",
        "    index=bagofwords.get_feature_names_out()\n",
        ").sort_values(\"counts\", ascending=False)\n",
        "\n",
        "word_counts.head(20).plot(kind=\"bar\", figsize=(15, 5), legend=False)\n",
        "plt.title(\"Top 20 most frequently occurring words\")\n",
        "plt.ylabel(\"Count\")\n",
        "plt.xticks(rotation=45)\n",
        "plt.show()"
      ],
      "metadata": {
        "colab": {
          "base_uri": "https://localhost:8080/",
          "height": 472
        },
        "id": "6Eq5HXQAC9rJ",
        "outputId": "8424c421-f0e0-4ef4-a176-e469f767cb2b"
      },
      "execution_count": 46,
      "outputs": [
        {
          "output_type": "display_data",
          "data": {
            "text/plain": [
              "<Figure size 1500x500 with 1 Axes>"
            ],
            "image/png": "[encoded data removed]"
          },
          "metadata": {}
        }
      ]
    },
    {
      "cell_type": "code",
      "source": [
        "# chck the document-term matrix to have an idea about how the transformed data looks\n",
        "term_doc = pd.DataFrame(X_train_transformed.toarray(),\n",
        "                        columns=bagofwords.get_feature_names_out())\n",
        "term_doc.sample(5)"
      ],
      "metadata": {
        "colab": {
          "base_uri": "https://localhost:8080/",
          "height": 255
        },
        "id": "b4la4vOsDB30",
        "outputId": "dcaaafca-1301-4272-f3bd-c21c154078f5"
      },
      "execution_count": 47,
      "outputs": [
        {
          "output_type": "execute_result",
          "data": {
            "text/plain": [
              "      00  000  000114  000ft  0011  0016  00a  00am  00p  00pm  ...  zoom  \\\n",
              "2709   0    0       0      0     0     0    0     0    0     0  ...     0   \n",
              "3276   0    0       0      0     0     0    0     0    0     0  ...     0   \n",
              "7777   0    0       0      0     0     0    0     0    0     0  ...     0   \n",
              "5766   0    0       0      0     0     0    0     0    0     0  ...     0   \n",
              "8781   0    0       0      0     0     0    0     0    0     0  ...     0   \n",
              "\n",
              "      zqutus7epw  zrh_airport  zsdgzydnde  zsuztnaijq  ztrdwv0n4l  zurich  \\\n",
              "2709           0            0           0           0           0       0   \n",
              "3276           0            0           0           0           0       0   \n",
              "7777           0            0           0           0           0       0   \n",
              "5766           0            0           0           0           0       0   \n",
              "8781           0            0           0           0           0       0   \n",
              "\n",
              "      zv2pt6trk9  zv6cfpohl5  zvfmxnuelj  \n",
              "2709           0           0           0  \n",
              "3276           0           0           0  \n",
              "7777           0           0           0  \n",
              "5766           0           0           0  \n",
              "8781           0           0           0  \n",
              "\n",
              "[5 rows x 11777 columns]"
            ],
            "text/html": [
              "\n",
              "  <div id=\"df-4bae9ffd-2929-4961-a491-e8f3faac392c\" class=\"colab-df-container\">\n",
              "    <div>\n",
              "<style scoped>\n",
              "    .dataframe tbody tr th:only-of-type {\n",
              "        vertical-align: middle;\n",
              "    }\n",
              "\n",
              "    .dataframe tbody tr th {\n",
              "        vertical-align: top;\n",
              "    }\n",
              "\n",
              "    .dataframe thead th {\n",
              "        text-align: right;\n",
              "    }\n",
              "</style>\n",
              "<table border=\"1\" class=\"dataframe\">\n",
              "  <thead>\n",
              "    <tr style=\"text-align: right;\">\n",
              "      <th></th>\n",
              "      <th>00</th>\n",
              "      <th>000</th>\n",
              "      <th>000114</th>\n",
              "      <th>000ft</th>\n",
              "      <th>0011</th>\n",
              "      <th>0016</th>\n",
              "      <th>00a</th>\n",
              "      <th>00am</th>\n",
              "      <th>00p</th>\n",
              "      <th>00pm</th>\n",
              "      <th>...</th>\n",
              "      <th>zoom</th>\n",
              "      <th>zqutus7epw</th>\n",
              "      <th>zrh_airport</th>\n",
              "      <th>zsdgzydnde</th>\n",
              "      <th>zsuztnaijq</th>\n",
              "      <th>ztrdwv0n4l</th>\n",
              "      <th>zurich</th>\n",
              "      <th>zv2pt6trk9</th>\n",
              "      <th>zv6cfpohl5</th>\n",
              "      <th>zvfmxnuelj</th>\n",
              "    </tr>\n",
              "  </thead>\n",
              "  <tbody>\n",
              "    <tr>\n",
              "      <th>2709</th>\n",
              "      <td>0</td>\n",
              "      <td>0</td>\n",
              "      <td>0</td>\n",
              "      <td>0</td>\n",
              "      <td>0</td>\n",
              "      <td>0</td>\n",
              "      <td>0</td>\n",
              "      <td>0</td>\n",
              "      <td>0</td>\n",
              "      <td>0</td>\n",
              "      <td>...</td>\n",
              "      <td>0</td>\n",
              "      <td>0</td>\n",
              "      <td>0</td>\n",
              "      <td>0</td>\n",
              "      <td>0</td>\n",
              "      <td>0</td>\n",
              "      <td>0</td>\n",
              "      <td>0</td>\n",
              "      <td>0</td>\n",
              "      <td>0</td>\n",
              "    </tr>\n",
              "    <tr>\n",
              "      <th>3276</th>\n",
              "      <td>0</td>\n",
              "      <td>0</td>\n",
              "      <td>0</td>\n",
              "      <td>0</td>\n",
              "      <td>0</td>\n",
              "      <td>0</td>\n",
              "      <td>0</td>\n",
              "      <td>0</td>\n",
              "      <td>0</td>\n",
              "      <td>0</td>\n",
              "      <td>...</td>\n",
              "      <td>0</td>\n",
              "      <td>0</td>\n",
              "      <td>0</td>\n",
              "      <td>0</td>\n",
              "      <td>0</td>\n",
              "      <td>0</td>\n",
              "      <td>0</td>\n",
              "      <td>0</td>\n",
              "      <td>0</td>\n",
              "      <td>0</td>\n",
              "    </tr>\n",
              "    <tr>\n",
              "      <th>7777</th>\n",
              "      <td>0</td>\n",
              "      <td>0</td>\n",
              "      <td>0</td>\n",
              "      <td>0</td>\n",
              "      <td>0</td>\n",
              "      <td>0</td>\n",
              "      <td>0</td>\n",
              "      <td>0</td>\n",
              "      <td>0</td>\n",
              "      <td>0</td>\n",
              "      <td>...</td>\n",
              "      <td>0</td>\n",
              "      <td>0</td>\n",
              "      <td>0</td>\n",
              "      <td>0</td>\n",
              "      <td>0</td>\n",
              "      <td>0</td>\n",
              "      <td>0</td>\n",
              "      <td>0</td>\n",
              "      <td>0</td>\n",
              "      <td>0</td>\n",
              "    </tr>\n",
              "    <tr>\n",
              "      <th>5766</th>\n",
              "      <td>0</td>\n",
              "      <td>0</td>\n",
              "      <td>0</td>\n",
              "      <td>0</td>\n",
              "      <td>0</td>\n",
              "      <td>0</td>\n",
              "      <td>0</td>\n",
              "      <td>0</td>\n",
              "      <td>0</td>\n",
              "      <td>0</td>\n",
              "      <td>...</td>\n",
              "      <td>0</td>\n",
              "      <td>0</td>\n",
              "      <td>0</td>\n",
              "      <td>0</td>\n",
              "      <td>0</td>\n",
              "      <td>0</td>\n",
              "      <td>0</td>\n",
              "      <td>0</td>\n",
              "      <td>0</td>\n",
              "      <td>0</td>\n",
              "    </tr>\n",
              "    <tr>\n",
              "      <th>8781</th>\n",
              "      <td>0</td>\n",
              "      <td>0</td>\n",
              "      <td>0</td>\n",
              "      <td>0</td>\n",
              "      <td>0</td>\n",
              "      <td>0</td>\n",
              "      <td>0</td>\n",
              "      <td>0</td>\n",
              "      <td>0</td>\n",
              "      <td>0</td>\n",
              "      <td>...</td>\n",
              "      <td>0</td>\n",
              "      <td>0</td>\n",
              "      <td>0</td>\n",
              "      <td>0</td>\n",
              "      <td>0</td>\n",
              "      <td>0</td>\n",
              "      <td>0</td>\n",
              "      <td>0</td>\n",
              "      <td>0</td>\n",
              "      <td>0</td>\n",
              "    </tr>\n",
              "  </tbody>\n",
              "</table>\n",
              "<p>5 rows × 11777 columns</p>\n",
              "</div>\n",
              "    <div class=\"colab-df-buttons\">\n",
              "\n",
              "  <div class=\"colab-df-container\">\n",
              "    <button class=\"colab-df-convert\" onclick=\"convertToInteractive('df-4bae9ffd-2929-4961-a491-e8f3faac392c')\"\n",
              "            title=\"Convert this dataframe to an interactive table.\"\n",
              "            style=\"display:none;\">\n",
              "\n",
              "  <svg xmlns=\"http://www.w3.org/2000/svg\" height=\"24px\" viewBox=\"0 -960 960 960\">\n",
              "    <path d=\"M120-120v-720h720v720H120Zm60-500h600v-160H180v160Zm220 220h160v-160H400v160Zm0 220h160v-160H400v160ZM180-400h160v-160H180v160Zm440 0h160v-160H620v160ZM180-180h160v-160H180v160Zm440 0h160v-160H620v160Z\"/>\n",
              "  </svg>\n",
              "    </button>\n",
              "\n",
              "  <style>\n",
              "    .colab-df-container {\n",
              "      display:flex;\n",
              "      gap: 12px;\n",
              "    }\n",
              "\n",
              "    .colab-df-convert {\n",
              "      background-color: #E8F0FE;\n",
              "      border: none;\n",
              "      border-radius: 50%;\n",
              "      cursor: pointer;\n",
              "      display: none;\n",
              "      fill: #1967D2;\n",
              "      height: 32px;\n",
              "      padding: 0 0 0 0;\n",
              "      width: 32px;\n",
              "    }\n",
              "\n",
              "    .colab-df-convert:hover {\n",
              "      background-color: #E2EBFA;\n",
              "      box-shadow: 0px 1px 2px rgba(60, 64, 67, 0.3), 0px 1px 3px 1px rgba(60, 64, 67, 0.15);\n",
              "      fill: #174EA6;\n",
              "    }\n",
              "\n",
              "    .colab-df-buttons div {\n",
              "      margin-bottom: 4px;\n",
              "    }\n",
              "\n",
              "    [theme=dark] .colab-df-convert {\n",
              "      background-color: #3B4455;\n",
              "      fill: #D2E3FC;\n",
              "    }\n",
              "\n",
              "    [theme=dark] .colab-df-convert:hover {\n",
              "      background-color: #434B5C;\n",
              "      box-shadow: 0px 1px 3px 1px rgba(0, 0, 0, 0.15);\n",
              "      filter: drop-shadow(0px 1px 2px rgba(0, 0, 0, 0.3));\n",
              "      fill: #FFFFFF;\n",
              "    }\n",
              "  </style>\n",
              "\n",
              "    <script>\n",
              "      const buttonEl =\n",
              "        document.querySelector('#df-4bae9ffd-2929-4961-a491-e8f3faac392c button.colab-df-convert');\n",
              "      buttonEl.style.display =\n",
              "        google.colab.kernel.accessAllowed ? 'block' : 'none';\n",
              "\n",
              "      async function convertToInteractive(key) {\n",
              "        const element = document.querySelector('#df-4bae9ffd-2929-4961-a491-e8f3faac392c');\n",
              "        const dataTable =\n",
              "          await google.colab.kernel.invokeFunction('convertToInteractive',\n",
              "                                                    [key], {});\n",
              "        if (!dataTable) return;\n",
              "\n",
              "        const docLinkHtml = 'Like what you see? Visit the ' +\n",
              "          '<a target=\"_blank\" href=https://colab.research.google.com/notebooks/data_table.ipynb>data table notebook</a>'\n",
              "          + ' to learn more about interactive tables.';\n",
              "        element.innerHTML = '';\n",
              "        dataTable['output_type'] = 'display_data';\n",
              "        await google.colab.output.renderOutput(dataTable, element);\n",
              "        const docLink = document.createElement('div');\n",
              "        docLink.innerHTML = docLinkHtml;\n",
              "        element.appendChild(docLink);\n",
              "      }\n",
              "    </script>\n",
              "  </div>\n",
              "\n",
              "\n",
              "<div id=\"df-203d31fd-a426-428c-95a0-1bba055df2b7\">\n",
              "  <button class=\"colab-df-quickchart\" onclick=\"quickchart('df-203d31fd-a426-428c-95a0-1bba055df2b7')\"\n",
              "            title=\"Suggest charts\"\n",
              "            style=\"display:none;\">\n",
              "\n",
              "<svg xmlns=\"http://www.w3.org/2000/svg\" height=\"24px\"viewBox=\"0 0 24 24\"\n",
              "     width=\"24px\">\n",
              "    <g>\n",
              "        <path d=\"M19 3H5c-1.1 0-2 .9-2 2v14c0 1.1.9 2 2 2h14c1.1 0 2-.9 2-2V5c0-1.1-.9-2-2-2zM9 17H7v-7h2v7zm4 0h-2V7h2v10zm4 0h-2v-4h2v4z\"/>\n",
              "    </g>\n",
              "</svg>\n",
              "  </button>\n",
              "\n",
              "<style>\n",
              "  .colab-df-quickchart {\n",
              "      --bg-color: #E8F0FE;\n",
              "      --fill-color: #1967D2;\n",
              "      --hover-bg-color: #E2EBFA;\n",
              "      --hover-fill-color: #174EA6;\n",
              "      --disabled-fill-color: #AAA;\n",
              "      --disabled-bg-color: #DDD;\n",
              "  }\n",
              "\n",
              "  [theme=dark] .colab-df-quickchart {\n",
              "      --bg-color: #3B4455;\n",
              "      --fill-color: #D2E3FC;\n",
              "      --hover-bg-color: #434B5C;\n",
              "      --hover-fill-color: #FFFFFF;\n",
              "      --disabled-bg-color: #3B4455;\n",
              "      --disabled-fill-color: #666;\n",
              "  }\n",
              "\n",
              "  .colab-df-quickchart {\n",
              "    background-color: var(--bg-color);\n",
              "    border: none;\n",
              "    border-radius: 50%;\n",
              "    cursor: pointer;\n",
              "    display: none;\n",
              "    fill: var(--fill-color);\n",
              "    height: 32px;\n",
              "    padding: 0;\n",
              "    width: 32px;\n",
              "  }\n",
              "\n",
              "  .colab-df-quickchart:hover {\n",
              "    background-color: var(--hover-bg-color);\n",
              "    box-shadow: 0 1px 2px rgba(60, 64, 67, 0.3), 0 1px 3px 1px rgba(60, 64, 67, 0.15);\n",
              "    fill: var(--button-hover-fill-color);\n",
              "  }\n",
              "\n",
              "  .colab-df-quickchart-complete:disabled,\n",
              "  .colab-df-quickchart-complete:disabled:hover {\n",
              "    background-color: var(--disabled-bg-color);\n",
              "    fill: var(--disabled-fill-color);\n",
              "    box-shadow: none;\n",
              "  }\n",
              "\n",
              "  .colab-df-spinner {\n",
              "    border: 2px solid var(--fill-color);\n",
              "    border-color: transparent;\n",
              "    border-bottom-color: var(--fill-color);\n",
              "    animation:\n",
              "      spin 1s steps(1) infinite;\n",
              "  }\n",
              "\n",
              "  @keyframes spin {\n",
              "    0% {\n",
              "      border-color: transparent;\n",
              "      border-bottom-color: var(--fill-color);\n",
              "      border-left-color: var(--fill-color);\n",
              "    }\n",
              "    20% {\n",
              "      border-color: transparent;\n",
              "      border-left-color: var(--fill-color);\n",
              "      border-top-color: var(--fill-color);\n",
              "    }\n",
              "    30% {\n",
              "      border-color: transparent;\n",
              "      border-left-color: var(--fill-color);\n",
              "      border-top-color: var(--fill-color);\n",
              "      border-right-color: var(--fill-color);\n",
              "    }\n",
              "    40% {\n",
              "      border-color: transparent;\n",
              "      border-right-color: var(--fill-color);\n",
              "      border-top-color: var(--fill-color);\n",
              "    }\n",
              "    60% {\n",
              "      border-color: transparent;\n",
              "      border-right-color: var(--fill-color);\n",
              "    }\n",
              "    80% {\n",
              "      border-color: transparent;\n",
              "      border-right-color: var(--fill-color);\n",
              "      border-bottom-color: var(--fill-color);\n",
              "    }\n",
              "    90% {\n",
              "      border-color: transparent;\n",
              "      border-bottom-color: var(--fill-color);\n",
              "    }\n",
              "  }\n",
              "</style>\n",
              "\n",
              "  <script>\n",
              "    async function quickchart(key) {\n",
              "      const quickchartButtonEl =\n",
              "        document.querySelector('#' + key + ' button');\n",
              "      quickchartButtonEl.disabled = true;  // To prevent multiple clicks.\n",
              "      quickchartButtonEl.classList.add('colab-df-spinner');\n",
              "      try {\n",
              "        const charts = await google.colab.kernel.invokeFunction(\n",
              "            'suggestCharts', [key], {});\n",
              "      } catch (error) {\n",
              "        console.error('Error during call to suggestCharts:', error);\n",
              "      }\n",
              "      quickchartButtonEl.classList.remove('colab-df-spinner');\n",
              "      quickchartButtonEl.classList.add('colab-df-quickchart-complete');\n",
              "    }\n",
              "    (() => {\n",
              "      let quickchartButtonEl =\n",
              "        document.querySelector('#df-203d31fd-a426-428c-95a0-1bba055df2b7 button');\n",
              "      quickchartButtonEl.style.display =\n",
              "        google.colab.kernel.accessAllowed ? 'block' : 'none';\n",
              "    })();\n",
              "  </script>\n",
              "</div>\n",
              "\n",
              "    </div>\n",
              "  </div>\n"
            ],
            "application/vnd.google.colaboratory.intrinsic+json": {
              "type": "dataframe"
            }
          },
          "metadata": {},
          "execution_count": 47
        }
      ]
    },
    {
      "cell_type": "markdown",
      "source": [
        "# **Model Building**"
      ],
      "metadata": {
        "id": "l3BgnW_SZ4xy"
      }
    },
    {
      "cell_type": "markdown",
      "source": [
        "## The Bag-of-Words model\n"
      ],
      "metadata": {
        "id": "t-3pzUn-yQoA"
      }
    },
    {
      "cell_type": "code",
      "source": [
        "# Vectorization to include stopwords,max_features,min_df,max_df)\n",
        "vect = CountVectorizer(stop_words='english',\n",
        "                       max_features=1000,\n",
        "                       min_df = 5,\n",
        "                       max_df = 0.5)\n",
        "X_train_vect = vect.fit_transform(X_train)\n",
        "X_test_vect = vect.transform(X_test)"
      ],
      "metadata": {
        "id": "XYHYykpIfwyn"
      },
      "execution_count": 48,
      "outputs": []
    },
    {
      "cell_type": "code",
      "source": [
        "# the data is much cleaner now\n",
        "term_doc = pd.DataFrame(X_train_vect.toarray(),\n",
        "                        columns=vect.get_feature_names_out())\n",
        "term_doc.sample(100).T"
      ],
      "metadata": {
        "colab": {
          "base_uri": "https://localhost:8080/",
          "height": 423
        },
        "id": "uEEfOvFI_gqC",
        "outputId": "e53f2f9d-097a-4cdd-d521-443473edab4c"
      },
      "execution_count": 49,
      "outputs": [
        {
          "output_type": "execute_result",
          "data": {
            "text/plain": [
              "           3965  7778  9133  4914  5275  7934  2208  9518  5576  4452  ...  \\\n",
              "000           0     0     0     0     0     0     0     0     0     0  ...   \n",
              "10            0     0     0     0     0     0     0     0     0     0  ...   \n",
              "100           0     0     0     0     0     0     0     0     0     0  ...   \n",
              "11            0     0     0     0     0     0     0     0     0     0  ...   \n",
              "12            0     0     0     0     0     0     0     0     0     0  ...   \n",
              "...         ...   ...   ...   ...   ...   ...   ...   ...   ...   ...  ...   \n",
              "yep           0     0     0     0     0     0     0     0     0     0  ...   \n",
              "yes           0     0     0     0     0     0     0     0     0     0  ...   \n",
              "yesterday     0     0     0     0     0     0     0     0     0     0  ...   \n",
              "yr            0     0     0     0     0     0     0     0     0     0  ...   \n",
              "zero          0     0     0     0     0     0     0     0     0     0  ...   \n",
              "\n",
              "           2021  6120  9331  6629  2918  1901  5201  1667  1208  159   \n",
              "000           0     0     0     0     0     0     0     0     0     0  \n",
              "10            0     0     0     0     0     0     0     0     0     0  \n",
              "100           0     0     0     0     0     0     0     0     0     0  \n",
              "11            0     0     0     0     0     0     0     0     0     0  \n",
              "12            0     0     0     0     0     0     0     0     0     0  \n",
              "...         ...   ...   ...   ...   ...   ...   ...   ...   ...   ...  \n",
              "yep           0     0     0     0     0     0     0     0     0     0  \n",
              "yes           0     0     0     0     0     1     0     0     0     0  \n",
              "yesterday     0     0     0     0     0     0     0     0     0     0  \n",
              "yr            0     0     0     0     0     0     0     0     0     0  \n",
              "zero          0     0     0     0     0     0     0     0     0     0  \n",
              "\n",
              "[1000 rows x 100 columns]"
            ],
            "text/html": [
              "\n",
              "  <div id=\"df-3b4ecd24-2b3a-4763-ad93-a7a02c3357db\" class=\"colab-df-container\">\n",
              "    <div>\n",
              "<style scoped>\n",
              "    .dataframe tbody tr th:only-of-type {\n",
              "        vertical-align: middle;\n",
              "    }\n",
              "\n",
              "    .dataframe tbody tr th {\n",
              "        vertical-align: top;\n",
              "    }\n",
              "\n",
              "    .dataframe thead th {\n",
              "        text-align: right;\n",
              "    }\n",
              "</style>\n",
              "<table border=\"1\" class=\"dataframe\">\n",
              "  <thead>\n",
              "    <tr style=\"text-align: right;\">\n",
              "      <th></th>\n",
              "      <th>3965</th>\n",
              "      <th>7778</th>\n",
              "      <th>9133</th>\n",
              "      <th>4914</th>\n",
              "      <th>5275</th>\n",
              "      <th>7934</th>\n",
              "      <th>2208</th>\n",
              "      <th>9518</th>\n",
              "      <th>5576</th>\n",
              "      <th>4452</th>\n",
              "      <th>...</th>\n",
              "      <th>2021</th>\n",
              "      <th>6120</th>\n",
              "      <th>9331</th>\n",
              "      <th>6629</th>\n",
              "      <th>2918</th>\n",
              "      <th>1901</th>\n",
              "      <th>5201</th>\n",
              "      <th>1667</th>\n",
              "      <th>1208</th>\n",
              "      <th>159</th>\n",
              "    </tr>\n",
              "  </thead>\n",
              "  <tbody>\n",
              "    <tr>\n",
              "      <th>000</th>\n",
              "      <td>0</td>\n",
              "      <td>0</td>\n",
              "      <td>0</td>\n",
              "      <td>0</td>\n",
              "      <td>0</td>\n",
              "      <td>0</td>\n",
              "      <td>0</td>\n",
              "      <td>0</td>\n",
              "      <td>0</td>\n",
              "      <td>0</td>\n",
              "      <td>...</td>\n",
              "      <td>0</td>\n",
              "      <td>0</td>\n",
              "      <td>0</td>\n",
              "      <td>0</td>\n",
              "      <td>0</td>\n",
              "      <td>0</td>\n",
              "      <td>0</td>\n",
              "      <td>0</td>\n",
              "      <td>0</td>\n",
              "      <td>0</td>\n",
              "    </tr>\n",
              "    <tr>\n",
              "      <th>10</th>\n",
              "      <td>0</td>\n",
              "      <td>0</td>\n",
              "      <td>0</td>\n",
              "      <td>0</td>\n",
              "      <td>0</td>\n",
              "      <td>0</td>\n",
              "      <td>0</td>\n",
              "      <td>0</td>\n",
              "      <td>0</td>\n",
              "      <td>0</td>\n",
              "      <td>...</td>\n",
              "      <td>0</td>\n",
              "      <td>0</td>\n",
              "      <td>0</td>\n",
              "      <td>0</td>\n",
              "      <td>0</td>\n",
              "      <td>0</td>\n",
              "      <td>0</td>\n",
              "      <td>0</td>\n",
              "      <td>0</td>\n",
              "      <td>0</td>\n",
              "    </tr>\n",
              "    <tr>\n",
              "      <th>100</th>\n",
              "      <td>0</td>\n",
              "      <td>0</td>\n",
              "      <td>0</td>\n",
              "      <td>0</td>\n",
              "      <td>0</td>\n",
              "      <td>0</td>\n",
              "      <td>0</td>\n",
              "      <td>0</td>\n",
              "      <td>0</td>\n",
              "      <td>0</td>\n",
              "      <td>...</td>\n",
              "      <td>0</td>\n",
              "      <td>0</td>\n",
              "      <td>0</td>\n",
              "      <td>0</td>\n",
              "      <td>0</td>\n",
              "      <td>0</td>\n",
              "      <td>0</td>\n",
              "      <td>0</td>\n",
              "      <td>0</td>\n",
              "      <td>0</td>\n",
              "    </tr>\n",
              "    <tr>\n",
              "      <th>11</th>\n",
              "      <td>0</td>\n",
              "      <td>0</td>\n",
              "      <td>0</td>\n",
              "      <td>0</td>\n",
              "      <td>0</td>\n",
              "      <td>0</td>\n",
              "      <td>0</td>\n",
              "      <td>0</td>\n",
              "      <td>0</td>\n",
              "      <td>0</td>\n",
              "      <td>...</td>\n",
              "      <td>0</td>\n",
              "      <td>0</td>\n",
              "      <td>0</td>\n",
              "      <td>0</td>\n",
              "      <td>0</td>\n",
              "      <td>0</td>\n",
              "      <td>0</td>\n",
              "      <td>0</td>\n",
              "      <td>0</td>\n",
              "      <td>0</td>\n",
              "    </tr>\n",
              "    <tr>\n",
              "      <th>12</th>\n",
              "      <td>0</td>\n",
              "      <td>0</td>\n",
              "      <td>0</td>\n",
              "      <td>0</td>\n",
              "      <td>0</td>\n",
              "      <td>0</td>\n",
              "      <td>0</td>\n",
              "      <td>0</td>\n",
              "      <td>0</td>\n",
              "      <td>0</td>\n",
              "      <td>...</td>\n",
              "      <td>0</td>\n",
              "      <td>0</td>\n",
              "      <td>0</td>\n",
              "      <td>0</td>\n",
              "      <td>0</td>\n",
              "      <td>0</td>\n",
              "      <td>0</td>\n",
              "      <td>0</td>\n",
              "      <td>0</td>\n",
              "      <td>0</td>\n",
              "    </tr>\n",
              "    <tr>\n",
              "      <th>...</th>\n",
              "      <td>...</td>\n",
              "      <td>...</td>\n",
              "      <td>...</td>\n",
              "      <td>...</td>\n",
              "      <td>...</td>\n",
              "      <td>...</td>\n",
              "      <td>...</td>\n",
              "      <td>...</td>\n",
              "      <td>...</td>\n",
              "      <td>...</td>\n",
              "      <td>...</td>\n",
              "      <td>...</td>\n",
              "      <td>...</td>\n",
              "      <td>...</td>\n",
              "      <td>...</td>\n",
              "      <td>...</td>\n",
              "      <td>...</td>\n",
              "      <td>...</td>\n",
              "      <td>...</td>\n",
              "      <td>...</td>\n",
              "      <td>...</td>\n",
              "    </tr>\n",
              "    <tr>\n",
              "      <th>yep</th>\n",
              "      <td>0</td>\n",
              "      <td>0</td>\n",
              "      <td>0</td>\n",
              "      <td>0</td>\n",
              "      <td>0</td>\n",
              "      <td>0</td>\n",
              "      <td>0</td>\n",
              "      <td>0</td>\n",
              "      <td>0</td>\n",
              "      <td>0</td>\n",
              "      <td>...</td>\n",
              "      <td>0</td>\n",
              "      <td>0</td>\n",
              "      <td>0</td>\n",
              "      <td>0</td>\n",
              "      <td>0</td>\n",
              "      <td>0</td>\n",
              "      <td>0</td>\n",
              "      <td>0</td>\n",
              "      <td>0</td>\n",
              "      <td>0</td>\n",
              "    </tr>\n",
              "    <tr>\n",
              "      <th>yes</th>\n",
              "      <td>0</td>\n",
              "      <td>0</td>\n",
              "      <td>0</td>\n",
              "      <td>0</td>\n",
              "      <td>0</td>\n",
              "      <td>0</td>\n",
              "      <td>0</td>\n",
              "      <td>0</td>\n",
              "      <td>0</td>\n",
              "      <td>0</td>\n",
              "      <td>...</td>\n",
              "      <td>0</td>\n",
              "      <td>0</td>\n",
              "      <td>0</td>\n",
              "      <td>0</td>\n",
              "      <td>0</td>\n",
              "      <td>1</td>\n",
              "      <td>0</td>\n",
              "      <td>0</td>\n",
              "      <td>0</td>\n",
              "      <td>0</td>\n",
              "    </tr>\n",
              "    <tr>\n",
              "      <th>yesterday</th>\n",
              "      <td>0</td>\n",
              "      <td>0</td>\n",
              "      <td>0</td>\n",
              "      <td>0</td>\n",
              "      <td>0</td>\n",
              "      <td>0</td>\n",
              "      <td>0</td>\n",
              "      <td>0</td>\n",
              "      <td>0</td>\n",
              "      <td>0</td>\n",
              "      <td>...</td>\n",
              "      <td>0</td>\n",
              "      <td>0</td>\n",
              "      <td>0</td>\n",
              "      <td>0</td>\n",
              "      <td>0</td>\n",
              "      <td>0</td>\n",
              "      <td>0</td>\n",
              "      <td>0</td>\n",
              "      <td>0</td>\n",
              "      <td>0</td>\n",
              "    </tr>\n",
              "    <tr>\n",
              "      <th>yr</th>\n",
              "      <td>0</td>\n",
              "      <td>0</td>\n",
              "      <td>0</td>\n",
              "      <td>0</td>\n",
              "      <td>0</td>\n",
              "      <td>0</td>\n",
              "      <td>0</td>\n",
              "      <td>0</td>\n",
              "      <td>0</td>\n",
              "      <td>0</td>\n",
              "      <td>...</td>\n",
              "      <td>0</td>\n",
              "      <td>0</td>\n",
              "      <td>0</td>\n",
              "      <td>0</td>\n",
              "      <td>0</td>\n",
              "      <td>0</td>\n",
              "      <td>0</td>\n",
              "      <td>0</td>\n",
              "      <td>0</td>\n",
              "      <td>0</td>\n",
              "    </tr>\n",
              "    <tr>\n",
              "      <th>zero</th>\n",
              "      <td>0</td>\n",
              "      <td>0</td>\n",
              "      <td>0</td>\n",
              "      <td>0</td>\n",
              "      <td>0</td>\n",
              "      <td>0</td>\n",
              "      <td>0</td>\n",
              "      <td>0</td>\n",
              "      <td>0</td>\n",
              "      <td>0</td>\n",
              "      <td>...</td>\n",
              "      <td>0</td>\n",
              "      <td>0</td>\n",
              "      <td>0</td>\n",
              "      <td>0</td>\n",
              "      <td>0</td>\n",
              "      <td>0</td>\n",
              "      <td>0</td>\n",
              "      <td>0</td>\n",
              "      <td>0</td>\n",
              "      <td>0</td>\n",
              "    </tr>\n",
              "  </tbody>\n",
              "</table>\n",
              "<p>1000 rows × 100 columns</p>\n",
              "</div>\n",
              "    <div class=\"colab-df-buttons\">\n",
              "\n",
              "  <div class=\"colab-df-container\">\n",
              "    <button class=\"colab-df-convert\" onclick=\"convertToInteractive('df-3b4ecd24-2b3a-4763-ad93-a7a02c3357db')\"\n",
              "            title=\"Convert this dataframe to an interactive table.\"\n",
              "            style=\"display:none;\">\n",
              "\n",
              "  <svg xmlns=\"http://www.w3.org/2000/svg\" height=\"24px\" viewBox=\"0 -960 960 960\">\n",
              "    <path d=\"M120-120v-720h720v720H120Zm60-500h600v-160H180v160Zm220 220h160v-160H400v160Zm0 220h160v-160H400v160ZM180-400h160v-160H180v160Zm440 0h160v-160H620v160ZM180-180h160v-160H180v160Zm440 0h160v-160H620v160Z\"/>\n",
              "  </svg>\n",
              "    </button>\n",
              "\n",
              "  <style>\n",
              "    .colab-df-container {\n",
              "      display:flex;\n",
              "      gap: 12px;\n",
              "    }\n",
              "\n",
              "    .colab-df-convert {\n",
              "      background-color: #E8F0FE;\n",
              "      border: none;\n",
              "      border-radius: 50%;\n",
              "      cursor: pointer;\n",
              "      display: none;\n",
              "      fill: #1967D2;\n",
              "      height: 32px;\n",
              "      padding: 0 0 0 0;\n",
              "      width: 32px;\n",
              "    }\n",
              "\n",
              "    .colab-df-convert:hover {\n",
              "      background-color: #E2EBFA;\n",
              "      box-shadow: 0px 1px 2px rgba(60, 64, 67, 0.3), 0px 1px 3px 1px rgba(60, 64, 67, 0.15);\n",
              "      fill: #174EA6;\n",
              "    }\n",
              "\n",
              "    .colab-df-buttons div {\n",
              "      margin-bottom: 4px;\n",
              "    }\n",
              "\n",
              "    [theme=dark] .colab-df-convert {\n",
              "      background-color: #3B4455;\n",
              "      fill: #D2E3FC;\n",
              "    }\n",
              "\n",
              "    [theme=dark] .colab-df-convert:hover {\n",
              "      background-color: #434B5C;\n",
              "      box-shadow: 0px 1px 3px 1px rgba(0, 0, 0, 0.15);\n",
              "      filter: drop-shadow(0px 1px 2px rgba(0, 0, 0, 0.3));\n",
              "      fill: #FFFFFF;\n",
              "    }\n",
              "  </style>\n",
              "\n",
              "    <script>\n",
              "      const buttonEl =\n",
              "        document.querySelector('#df-3b4ecd24-2b3a-4763-ad93-a7a02c3357db button.colab-df-convert');\n",
              "      buttonEl.style.display =\n",
              "        google.colab.kernel.accessAllowed ? 'block' : 'none';\n",
              "\n",
              "      async function convertToInteractive(key) {\n",
              "        const element = document.querySelector('#df-3b4ecd24-2b3a-4763-ad93-a7a02c3357db');\n",
              "        const dataTable =\n",
              "          await google.colab.kernel.invokeFunction('convertToInteractive',\n",
              "                                                    [key], {});\n",
              "        if (!dataTable) return;\n",
              "\n",
              "        const docLinkHtml = 'Like what you see? Visit the ' +\n",
              "          '<a target=\"_blank\" href=https://colab.research.google.com/notebooks/data_table.ipynb>data table notebook</a>'\n",
              "          + ' to learn more about interactive tables.';\n",
              "        element.innerHTML = '';\n",
              "        dataTable['output_type'] = 'display_data';\n",
              "        await google.colab.output.renderOutput(dataTable, element);\n",
              "        const docLink = document.createElement('div');\n",
              "        docLink.innerHTML = docLinkHtml;\n",
              "        element.appendChild(docLink);\n",
              "      }\n",
              "    </script>\n",
              "  </div>\n",
              "\n",
              "\n",
              "<div id=\"df-b21f4fe9-ee08-4e30-ab8a-4bd6ce8f7f46\">\n",
              "  <button class=\"colab-df-quickchart\" onclick=\"quickchart('df-b21f4fe9-ee08-4e30-ab8a-4bd6ce8f7f46')\"\n",
              "            title=\"Suggest charts\"\n",
              "            style=\"display:none;\">\n",
              "\n",
              "<svg xmlns=\"http://www.w3.org/2000/svg\" height=\"24px\"viewBox=\"0 0 24 24\"\n",
              "     width=\"24px\">\n",
              "    <g>\n",
              "        <path d=\"M19 3H5c-1.1 0-2 .9-2 2v14c0 1.1.9 2 2 2h14c1.1 0 2-.9 2-2V5c0-1.1-.9-2-2-2zM9 17H7v-7h2v7zm4 0h-2V7h2v10zm4 0h-2v-4h2v4z\"/>\n",
              "    </g>\n",
              "</svg>\n",
              "  </button>\n",
              "\n",
              "<style>\n",
              "  .colab-df-quickchart {\n",
              "      --bg-color: #E8F0FE;\n",
              "      --fill-color: #1967D2;\n",
              "      --hover-bg-color: #E2EBFA;\n",
              "      --hover-fill-color: #174EA6;\n",
              "      --disabled-fill-color: #AAA;\n",
              "      --disabled-bg-color: #DDD;\n",
              "  }\n",
              "\n",
              "  [theme=dark] .colab-df-quickchart {\n",
              "      --bg-color: #3B4455;\n",
              "      --fill-color: #D2E3FC;\n",
              "      --hover-bg-color: #434B5C;\n",
              "      --hover-fill-color: #FFFFFF;\n",
              "      --disabled-bg-color: #3B4455;\n",
              "      --disabled-fill-color: #666;\n",
              "  }\n",
              "\n",
              "  .colab-df-quickchart {\n",
              "    background-color: var(--bg-color);\n",
              "    border: none;\n",
              "    border-radius: 50%;\n",
              "    cursor: pointer;\n",
              "    display: none;\n",
              "    fill: var(--fill-color);\n",
              "    height: 32px;\n",
              "    padding: 0;\n",
              "    width: 32px;\n",
              "  }\n",
              "\n",
              "  .colab-df-quickchart:hover {\n",
              "    background-color: var(--hover-bg-color);\n",
              "    box-shadow: 0 1px 2px rgba(60, 64, 67, 0.3), 0 1px 3px 1px rgba(60, 64, 67, 0.15);\n",
              "    fill: var(--button-hover-fill-color);\n",
              "  }\n",
              "\n",
              "  .colab-df-quickchart-complete:disabled,\n",
              "  .colab-df-quickchart-complete:disabled:hover {\n",
              "    background-color: var(--disabled-bg-color);\n",
              "    fill: var(--disabled-fill-color);\n",
              "    box-shadow: none;\n",
              "  }\n",
              "\n",
              "  .colab-df-spinner {\n",
              "    border: 2px solid var(--fill-color);\n",
              "    border-color: transparent;\n",
              "    border-bottom-color: var(--fill-color);\n",
              "    animation:\n",
              "      spin 1s steps(1) infinite;\n",
              "  }\n",
              "\n",
              "  @keyframes spin {\n",
              "    0% {\n",
              "      border-color: transparent;\n",
              "      border-bottom-color: var(--fill-color);\n",
              "      border-left-color: var(--fill-color);\n",
              "    }\n",
              "    20% {\n",
              "      border-color: transparent;\n",
              "      border-left-color: var(--fill-color);\n",
              "      border-top-color: var(--fill-color);\n",
              "    }\n",
              "    30% {\n",
              "      border-color: transparent;\n",
              "      border-left-color: var(--fill-color);\n",
              "      border-top-color: var(--fill-color);\n",
              "      border-right-color: var(--fill-color);\n",
              "    }\n",
              "    40% {\n",
              "      border-color: transparent;\n",
              "      border-right-color: var(--fill-color);\n",
              "      border-top-color: var(--fill-color);\n",
              "    }\n",
              "    60% {\n",
              "      border-color: transparent;\n",
              "      border-right-color: var(--fill-color);\n",
              "    }\n",
              "    80% {\n",
              "      border-color: transparent;\n",
              "      border-right-color: var(--fill-color);\n",
              "      border-bottom-color: var(--fill-color);\n",
              "    }\n",
              "    90% {\n",
              "      border-color: transparent;\n",
              "      border-bottom-color: var(--fill-color);\n",
              "    }\n",
              "  }\n",
              "</style>\n",
              "\n",
              "  <script>\n",
              "    async function quickchart(key) {\n",
              "      const quickchartButtonEl =\n",
              "        document.querySelector('#' + key + ' button');\n",
              "      quickchartButtonEl.disabled = true;  // To prevent multiple clicks.\n",
              "      quickchartButtonEl.classList.add('colab-df-spinner');\n",
              "      try {\n",
              "        const charts = await google.colab.kernel.invokeFunction(\n",
              "            'suggestCharts', [key], {});\n",
              "      } catch (error) {\n",
              "        console.error('Error during call to suggestCharts:', error);\n",
              "      }\n",
              "      quickchartButtonEl.classList.remove('colab-df-spinner');\n",
              "      quickchartButtonEl.classList.add('colab-df-quickchart-complete');\n",
              "    }\n",
              "    (() => {\n",
              "      let quickchartButtonEl =\n",
              "        document.querySelector('#df-b21f4fe9-ee08-4e30-ab8a-4bd6ce8f7f46 button');\n",
              "      quickchartButtonEl.style.display =\n",
              "        google.colab.kernel.accessAllowed ? 'block' : 'none';\n",
              "    })();\n",
              "  </script>\n",
              "</div>\n",
              "\n",
              "    </div>\n",
              "  </div>\n"
            ],
            "application/vnd.google.colaboratory.intrinsic+json": {
              "type": "dataframe"
            }
          },
          "metadata": {},
          "execution_count": 49
        }
      ]
    },
    {
      "cell_type": "markdown",
      "source": [
        "**Logistic regression model**"
      ],
      "metadata": {
        "id": "kvuBBBV6A1uO"
      }
    },
    {
      "cell_type": "code",
      "source": [
        "# Classifier Training with proper cross validation\n",
        "best_model = None\n",
        "best_score = -np.inf\n",
        "best_param = 0\n",
        "for cval in np.logspace(-3,3,10):\n",
        "    lr = LogisticRegression(C=cval,max_iter=1000)\n",
        "    lr.fit(X_train_vect,y_train)\n",
        "    score = lr.score(X_test_vect,y_test)\n",
        "    print(\"Accuracy = {:.4f} for C={:.4f}\".format(score,cval))\n",
        "    if score > best_score:\n",
        "        best_score = score\n",
        "        best_model = lr\n",
        "        best_param = cval"
      ],
      "metadata": {
        "colab": {
          "base_uri": "https://localhost:8080/"
        },
        "id": "aTJ8hR5bgYAz",
        "outputId": "4eb1eb51-2adc-4c96-d2c1-f364f1588a53"
      },
      "execution_count": 50,
      "outputs": [
        {
          "output_type": "stream",
          "name": "stdout",
          "text": [
            "Accuracy = 0.6389 for C=0.0010\n",
            "Accuracy = 0.6908 for C=0.0046\n",
            "Accuracy = 0.7467 for C=0.0215\n",
            "Accuracy = 0.7686 for C=0.1000\n",
            "Accuracy = 0.7744 for C=0.4642\n",
            "Accuracy = 0.7682 for C=2.1544\n",
            "Accuracy = 0.7608 for C=10.0000\n",
            "Accuracy = 0.7570 for C=46.4159\n",
            "Accuracy = 0.7554 for C=215.4435\n",
            "Accuracy = 0.7554 for C=1000.0000\n"
          ]
        }
      ]
    },
    {
      "cell_type": "code",
      "source": [
        "# check which regularization strength works best.\n",
        "print(f\"C is: {best_param}\")"
      ],
      "metadata": {
        "colab": {
          "base_uri": "https://localhost:8080/"
        },
        "id": "7BkHk2o7B6kh",
        "outputId": "5816cd5a-316c-40e7-c90d-d1d19eddafee"
      },
      "execution_count": 51,
      "outputs": [
        {
          "output_type": "stream",
          "name": "stdout",
          "text": [
            "C is: 0.46415888336127775\n"
          ]
        }
      ]
    },
    {
      "cell_type": "code",
      "source": [
        "best_model.fit(X_train_vect,y_train)\n",
        "test_acc = best_model.score(X_test_vect,y_test)\n",
        "print(\"Our classifier test accuracy is {:.4f}\".format(test_acc))"
      ],
      "metadata": {
        "colab": {
          "base_uri": "https://localhost:8080/"
        },
        "id": "PWqYi7x2g2lM",
        "outputId": "3a626010-7e7b-4754-cccc-4dd01266037d"
      },
      "execution_count": 52,
      "outputs": [
        {
          "output_type": "stream",
          "name": "stdout",
          "text": [
            "Our classifier test accuracy is 0.7744\n"
          ]
        }
      ]
    },
    {
      "cell_type": "code",
      "source": [
        "# Vectorization by including both  unigrams and bigrams\n",
        "vect = CountVectorizer(stop_words='english',\n",
        "                       max_features=1000,\n",
        "                       min_df = 5,\n",
        "                       max_df = 0.5,ngram_range=(1,2))\n",
        "X_train_vect = vect.fit_transform(X_train)\n",
        "X_test_vect = vect.transform(X_test)"
      ],
      "metadata": {
        "id": "GEIlaPbsg2x8"
      },
      "execution_count": 53,
      "outputs": []
    },
    {
      "cell_type": "code",
      "source": [
        "# Classifier Training with proper cross validation\n",
        "best_model = None\n",
        "best_score = -np.inf\n",
        "best_param = 0\n",
        "for cval in np.logspace(-3,3,10):\n",
        "    lr = LogisticRegression(C=cval,max_iter=1000)\n",
        "    lr.fit(X_train_vect,y_train)\n",
        "    score = lr.score(X_test_vect,y_test)\n",
        "    print(\"Accuracy = {:.4f} for C={:.4f}\".format(score,cval))\n",
        "    if score > best_score:\n",
        "        best_score = score\n",
        "        best_model = lr\n",
        "        best_param = cval"
      ],
      "metadata": {
        "colab": {
          "base_uri": "https://localhost:8080/"
        },
        "id": "Ez7vgg7vg2-k",
        "outputId": "a6dc0cc5-8891-4a28-b131-d1aeb69ef655"
      },
      "execution_count": 54,
      "outputs": [
        {
          "output_type": "stream",
          "name": "stdout",
          "text": [
            "Accuracy = 0.6389 for C=0.0010\n",
            "Accuracy = 0.6916 for C=0.0046\n",
            "Accuracy = 0.7471 for C=0.0215\n",
            "Accuracy = 0.7647 for C=0.1000\n",
            "Accuracy = 0.7684 for C=0.4642\n",
            "Accuracy = 0.7637 for C=2.1544\n",
            "Accuracy = 0.7529 for C=10.0000\n",
            "Accuracy = 0.7488 for C=46.4159\n",
            "Accuracy = 0.7475 for C=215.4435\n",
            "Accuracy = 0.7477 for C=1000.0000\n"
          ]
        }
      ]
    },
    {
      "cell_type": "code",
      "source": [
        "best_model.fit(X_train_vect,y_train)\n",
        "test_acc = best_model.score(X_test_vect,y_test)\n",
        "print(\"Our classifier test accuracy is {:.4f}\".format(test_acc))"
      ],
      "metadata": {
        "colab": {
          "base_uri": "https://localhost:8080/"
        },
        "id": "EwSdhIKSg3Bw",
        "outputId": "dace16e7-cbfe-4aef-b812-10358d71c056"
      },
      "execution_count": 55,
      "outputs": [
        {
          "output_type": "stream",
          "name": "stdout",
          "text": [
            "Our classifier test accuracy is 0.7684\n"
          ]
        }
      ]
    },
    {
      "cell_type": "markdown",
      "source": [
        "We can see there is no impromnet by adding bigrams.\n",
        "\n",
        "Now Let's how logistic regression model performs on train and test set also considering different regulization method:"
      ],
      "metadata": {
        "id": "to2sD_1RDMYn"
      }
    },
    {
      "cell_type": "code",
      "source": [
        "best_acc = -np.inf\n",
        "best_model = None\n",
        "cvals = np.logspace(-4,4,20)\n",
        "trains,tests = [],[]\n",
        "for cv in cvals:\n",
        "    for penalty in (\"l1\",\"l2\"):\n",
        "        lr = LogisticRegression(C=cv,max_iter=1000,penalty=penalty,solver='liblinear')\n",
        "        lr.fit(X_train_vect,y_train)\n",
        "        train_score = lr.score(X_train_vect,y_train)\n",
        "        test_score = lr.score(X_test_vect,y_test)\n",
        "        print(\"Eval: C={:.6f} pen={} train={:.3f} test={:.3f}\".format(cv,penalty,train_score,test_score))\n",
        "        trains.append(train_score)\n",
        "        tests.append(test_score)\n",
        "        if test_score > best_acc:\n",
        "            best_acc = test_score\n",
        "            best_model = lr"
      ],
      "metadata": {
        "colab": {
          "base_uri": "https://localhost:8080/"
        },
        "id": "uB52MiG2h-Gj",
        "outputId": "ef44d4ab-5e43-4a24-c99a-2006185bf1b4"
      },
      "execution_count": 56,
      "outputs": [
        {
          "output_type": "stream",
          "name": "stdout",
          "text": [
            "Eval: C=0.000100 pen=l1 train=0.621 test=0.638\n",
            "Eval: C=0.000100 pen=l2 train=0.621 test=0.638\n",
            "Eval: C=0.000264 pen=l1 train=0.621 test=0.638\n",
            "Eval: C=0.000264 pen=l2 train=0.621 test=0.638\n",
            "Eval: C=0.000695 pen=l1 train=0.621 test=0.638\n",
            "Eval: C=0.000695 pen=l2 train=0.621 test=0.638\n",
            "Eval: C=0.001833 pen=l1 train=0.621 test=0.638\n",
            "Eval: C=0.001833 pen=l2 train=0.629 test=0.646\n",
            "Eval: C=0.004833 pen=l1 train=0.621 test=0.638\n",
            "Eval: C=0.004833 pen=l2 train=0.668 test=0.685\n",
            "Eval: C=0.012743 pen=l1 train=0.668 test=0.686\n",
            "Eval: C=0.012743 pen=l2 train=0.709 test=0.722\n",
            "Eval: C=0.033598 pen=l1 train=0.694 test=0.706\n",
            "Eval: C=0.033598 pen=l2 train=0.742 test=0.748\n",
            "Eval: C=0.088587 pen=l1 train=0.720 test=0.733\n",
            "Eval: C=0.088587 pen=l2 train=0.774 test=0.763\n",
            "Eval: C=0.233572 pen=l1 train=0.763 test=0.762\n",
            "Eval: C=0.233572 pen=l2 train=0.798 test=0.772\n",
            "Eval: C=0.615848 pen=l1 train=0.800 test=0.769\n",
            "Eval: C=0.615848 pen=l2 train=0.812 test=0.770\n",
            "Eval: C=1.623777 pen=l1 train=0.819 test=0.769\n",
            "Eval: C=1.623777 pen=l2 train=0.820 test=0.771\n",
            "Eval: C=4.281332 pen=l1 train=0.826 test=0.764\n",
            "Eval: C=4.281332 pen=l2 train=0.825 test=0.767\n",
            "Eval: C=11.288379 pen=l1 train=0.829 test=0.759\n",
            "Eval: C=11.288379 pen=l2 train=0.827 test=0.762\n",
            "Eval: C=29.763514 pen=l1 train=0.830 test=0.755\n",
            "Eval: C=29.763514 pen=l2 train=0.828 test=0.758\n",
            "Eval: C=78.475997 pen=l1 train=0.830 test=0.753\n",
            "Eval: C=78.475997 pen=l2 train=0.830 test=0.755\n",
            "Eval: C=206.913808 pen=l1 train=0.830 test=0.753\n",
            "Eval: C=206.913808 pen=l2 train=0.830 test=0.753\n",
            "Eval: C=545.559478 pen=l1 train=0.830 test=0.751\n",
            "Eval: C=545.559478 pen=l2 train=0.830 test=0.752\n",
            "Eval: C=1438.449888 pen=l1 train=0.830 test=0.751\n",
            "Eval: C=1438.449888 pen=l2 train=0.830 test=0.751\n",
            "Eval: C=3792.690191 pen=l1 train=0.830 test=0.751\n",
            "Eval: C=3792.690191 pen=l2 train=0.830 test=0.751\n",
            "Eval: C=10000.000000 pen=l1 train=0.830 test=0.751\n",
            "Eval: C=10000.000000 pen=l2 train=0.830 test=0.751\n"
          ]
        }
      ]
    },
    {
      "cell_type": "code",
      "source": [
        "best_penalty = best_model.get_params()['penalty']\n",
        "best_weight = best_model.get_params()['C']\n",
        "print(\"Classifier: penalty={} C={:.3f} Test Acc = {:.3f}\".format(best_penalty,best_weight,best_acc))"
      ],
      "metadata": {
        "colab": {
          "base_uri": "https://localhost:8080/"
        },
        "id": "Gkqh0arwh-Th",
        "outputId": "197684d6-4b91-468f-fa5a-f17ca9b84795"
      },
      "execution_count": 57,
      "outputs": [
        {
          "output_type": "stream",
          "name": "stdout",
          "text": [
            "Classifier: penalty=l2 C=0.234 Test Acc = 0.772\n"
          ]
        }
      ]
    },
    {
      "cell_type": "code",
      "source": [
        "plt.figure()\n",
        "plt.plot(cvals,trains[::2],color='blue',label=\"TRAIN_L1\")\n",
        "plt.plot(cvals,tests[::2],color='red',label=\"TEST_L1\")\n",
        "plt.plot(cvals,trains[1::2],color='blue',label=\"TRAIN_L2\",ls=\"--\")\n",
        "plt.plot(cvals,tests[1::2],color='red',label=\"TEST_L2\",ls=\"--\")\n",
        "plt.xscale('log')\n",
        "plt.legend()\n",
        "plt.xlabel(\"Regularization Weight\")\n",
        "plt.ylabel(\"Accuracies\")\n",
        "plt.title(\"Sentiment Classifier Evaluation\")\n",
        "plt.axvline(best_weight)\n",
        "plt.grid()"
      ],
      "metadata": {
        "colab": {
          "base_uri": "https://localhost:8080/",
          "height": 476
        },
        "id": "wiMggRqhh-Wu",
        "outputId": "d944e866-606b-4b3b-b4a2-e986a490d6a8"
      },
      "execution_count": 58,
      "outputs": [
        {
          "output_type": "display_data",
          "data": {
            "text/plain": [
              "<Figure size 640x480 with 1 Axes>"
            ],
            "image/png": "[encoded data removed]"
          },
          "metadata": {}
        }
      ]
    },
    {
      "cell_type": "markdown",
      "source": [
        "We can achieve the accuracy of 77.2% by using logistic regression model."
      ],
      "metadata": {
        "id": "mUVe9raWIHeG"
      }
    },
    {
      "cell_type": "markdown",
      "source": [
        "**Decision Tree model**"
      ],
      "metadata": {
        "id": "K4qDT_MvFrXX"
      }
    },
    {
      "cell_type": "code",
      "source": [
        "from sklearn.tree import DecisionTreeClassifier\n",
        "\n",
        "dt_model = DecisionTreeClassifier(max_depth=6)\n",
        "dt_model.fit(X_train_vect, y_train)\n",
        "\n",
        "train_predictions = dt_model.predict(X_train_vect)\n",
        "test_predictions = dt_model.predict(X_test_vect)\n",
        "train_accuracy = accuracy_score(train_predictions,y_train)\n",
        "test_accuracy = accuracy_score(test_predictions,y_test)\n",
        "\n",
        "print(f\"Train accuracy: {train_accuracy}\")\n",
        "print(f\"Test accuracy: {test_accuracy}\")"
      ],
      "metadata": {
        "colab": {
          "base_uri": "https://localhost:8080/"
        },
        "id": "DydDfdTVDlZL",
        "outputId": "b5e0642d-cd28-4c4c-c20a-a3eb22af51c5"
      },
      "execution_count": 59,
      "outputs": [
        {
          "output_type": "stream",
          "name": "stdout",
          "text": [
            "Train accuracy: 0.6887234910277324\n",
            "Test accuracy: 0.6926738410596026\n"
          ]
        }
      ]
    },
    {
      "cell_type": "code",
      "source": [
        "# create pipeling and specify selection of hyperparameters\n",
        "from sklearn.model_selection import GridSearchCV\n",
        "from sklearn.tree import DecisionTreeClassifier\n",
        "\n",
        "dtree = DecisionTreeClassifier()\n",
        "\n",
        "params = {'max_depth': list(np.arange(1,20,2)),\n",
        "          'criterion':   [\"gini\", \"entropy\", \"log_loss\"],\n",
        "          'min_samples_leaf': list(np.arange(1,40,2))}\n",
        "\n",
        "grid_search = GridSearchCV(dtree, param_grid=params,cv=5)\n",
        "\n",
        "grid_search.fit(X_train_vect, y_train)\n",
        "print(f\"Train score: {grid_search.score(X_train_vect, y_train)}\")\n",
        "print(f\"Test score: {grid_search.score(X_test_vect, y_test)}\")"
      ],
      "metadata": {
        "colab": {
          "base_uri": "https://localhost:8080/"
        },
        "id": "6byXAcBH4l78",
        "outputId": "ac5f7719-151b-4718-dc2a-cd2a257527be"
      },
      "execution_count": 60,
      "outputs": [
        {
          "output_type": "stream",
          "name": "stdout",
          "text": [
            "Train score: 0.7119698205546493\n",
            "Test score: 0.7073675496688742\n"
          ]
        }
      ]
    },
    {
      "cell_type": "code",
      "source": [
        "print(grid_search.best_estimator_)"
      ],
      "metadata": {
        "colab": {
          "base_uri": "https://localhost:8080/"
        },
        "id": "RXbC5BoZ8ACf",
        "outputId": "1497ab88-bffb-4f27-fb87-a309f30d4869"
      },
      "execution_count": 61,
      "outputs": [
        {
          "output_type": "stream",
          "name": "stdout",
          "text": [
            "DecisionTreeClassifier(criterion='entropy', max_depth=17, min_samples_leaf=7)\n"
          ]
        }
      ]
    },
    {
      "cell_type": "markdown",
      "source": [
        "We can achieve the accuracy of 70% by using decision tree model."
      ],
      "metadata": {
        "id": "vIaCa3IyIjvp"
      }
    },
    {
      "cell_type": "markdown",
      "source": [
        "**Random Forest Classifier**"
      ],
      "metadata": {
        "id": "iWDLrKeoIw6L"
      }
    },
    {
      "cell_type": "code",
      "source": [
        "# test random forest model using 50 estimators  max_depth=10\n",
        "from sklearn.ensemble import RandomForestClassifier\n",
        "\n",
        "random_forest_model = RandomForestClassifier(n_estimators=50,max_depth=10 )\n",
        "random_forest_model.fit(X_train_vect, y_train)\n",
        "random_forest_model.score(X_train_vect,y_train)"
      ],
      "metadata": {
        "colab": {
          "base_uri": "https://localhost:8080/"
        },
        "id": "Mheg_gbR4mBZ",
        "outputId": "c15ca0ac-f816-44ef-ebf0-59be6a62d682"
      },
      "execution_count": 62,
      "outputs": [
        {
          "output_type": "execute_result",
          "data": {
            "text/plain": [
              "0.6385603588907015"
            ]
          },
          "metadata": {},
          "execution_count": 62
        }
      ]
    },
    {
      "cell_type": "code",
      "source": [
        "random_forest_model.score(X_test_vect,y_test)"
      ],
      "metadata": {
        "colab": {
          "base_uri": "https://localhost:8080/"
        },
        "id": "JQDT3LY7IHBY",
        "outputId": "c6067d0e-378b-4ecf-f638-f2d4dfd2f792"
      },
      "execution_count": 63,
      "outputs": [
        {
          "output_type": "execute_result",
          "data": {
            "text/plain": [
              "0.6496274834437086"
            ]
          },
          "metadata": {},
          "execution_count": 63
        }
      ]
    },
    {
      "cell_type": "code",
      "source": [
        "# let's try different number of estimators\n",
        "best_model = None\n",
        "best_score = -np.inf\n",
        "trains,tests = [],[]\n",
        "best_est = 1\n",
        "n_est = [1,2,5,10,20,50,100]\n",
        "for ne in n_est:\n",
        "    model = RandomForestClassifier(n_estimators=ne)\n",
        "    model.fit(X_train_vect,y_train)\n",
        "    train_score = model.score(X_train_vect,y_train)\n",
        "    test_score = model.score(X_test_vect,y_test)\n",
        "    trains.append(train_score)\n",
        "    tests.append(test_score)\n",
        "    if test_score > best_score:\n",
        "        best_model = model\n",
        "        best_score = test_score\n",
        "        best_est = ne"
      ],
      "metadata": {
        "id": "htQe9gQWGp8B"
      },
      "execution_count": 64,
      "outputs": []
    },
    {
      "cell_type": "code",
      "source": [
        "print(trains)"
      ],
      "metadata": {
        "colab": {
          "base_uri": "https://localhost:8080/"
        },
        "id": "Y6B0cU84L5wj",
        "outputId": "affeb6d2-05b8-4648-caed-591204eef3c7"
      },
      "execution_count": 65,
      "outputs": [
        {
          "output_type": "stream",
          "name": "stdout",
          "text": [
            "[0.855526101141925, 0.8797920065252854, 0.9476957585644372, 0.9695146818923328, 0.9784869494290375, 0.9828711256117455, 0.9833809135399674]\n"
          ]
        }
      ]
    },
    {
      "cell_type": "code",
      "source": [
        "print(tests)"
      ],
      "metadata": {
        "colab": {
          "base_uri": "https://localhost:8080/"
        },
        "id": "gU2xFxHJKA9I",
        "outputId": "766b8687-f661-45cc-eb51-5a115ba72923"
      },
      "execution_count": 66,
      "outputs": [
        {
          "output_type": "stream",
          "name": "stdout",
          "text": [
            "[0.6359685430463576, 0.6872930463576159, 0.706953642384106, 0.7247516556291391, 0.7278559602649006, 0.7448261589403974, 0.7390314569536424]\n"
          ]
        }
      ]
    },
    {
      "cell_type": "code",
      "source": [
        "print(best_score)"
      ],
      "metadata": {
        "colab": {
          "base_uri": "https://localhost:8080/"
        },
        "id": "y91gQeb9Kl-0",
        "outputId": "ade04ec1-7739-4122-8ac7-1a795d900db3"
      },
      "execution_count": 67,
      "outputs": [
        {
          "output_type": "stream",
          "name": "stdout",
          "text": [
            "0.7448261589403974\n"
          ]
        }
      ]
    },
    {
      "cell_type": "markdown",
      "source": [
        "If we don't limit the max_depth, the decision tree classifier always goes deeper to fit the training dataset, making the power of genenalization very weak on unseen data. Let's use cross_val_score method to verify this."
      ],
      "metadata": {
        "id": "Xs0eKljKPtmx"
      }
    },
    {
      "cell_type": "code",
      "source": [
        "# using cross_vall_score method\n",
        "\n",
        "from sklearn.model_selection import cross_val_score\n",
        "\n",
        "best_model = None\n",
        "best_score = -np.inf\n",
        "depths = [1,2,3,4,5,6,7,8,9,None]\n",
        "for depth in depths:\n",
        "    model = RandomForestClassifier(n_estimators=100,max_depth=depth)\n",
        "    cv_scores = cross_val_score(model,X_train_vect,y_train,cv=5)\n",
        "    val_score = cv_scores.mean()\n",
        "    if val_score > best_score:\n",
        "        best_model = model\n",
        "        best_score = val_score"
      ],
      "metadata": {
        "id": "qjrqmwFhRerz"
      },
      "execution_count": 68,
      "outputs": []
    },
    {
      "cell_type": "code",
      "source": [
        "best_model.fit(X_train_vect,y_train)\n",
        "best_model.score(X_train_vect,y_train)"
      ],
      "metadata": {
        "id": "1O9uCduUGqEz",
        "colab": {
          "base_uri": "https://localhost:8080/"
        },
        "outputId": "86726c68-92b0-4b92-fc65-2a285cac7700"
      },
      "execution_count": 69,
      "outputs": [
        {
          "output_type": "execute_result",
          "data": {
            "text/plain": [
              "0.9834828711256117"
            ]
          },
          "metadata": {},
          "execution_count": 69
        }
      ]
    },
    {
      "cell_type": "code",
      "source": [
        "best_model.score(X_test_vect,y_test)"
      ],
      "metadata": {
        "id": "QPy1D8_-GqHQ",
        "colab": {
          "base_uri": "https://localhost:8080/"
        },
        "outputId": "60a572d7-184a-4730-c062-59c53f66ced6"
      },
      "execution_count": 70,
      "outputs": [
        {
          "output_type": "execute_result",
          "data": {
            "text/plain": [
              "0.7402731788079471"
            ]
          },
          "metadata": {},
          "execution_count": 70
        }
      ]
    },
    {
      "cell_type": "markdown",
      "source": [
        "using GridSeachCV and Random Forest Classifier"
      ],
      "metadata": {
        "id": "sRxWdWh-NpqD"
      }
    },
    {
      "cell_type": "code",
      "source": [
        "# define the model\n",
        "from sklearn.model_selection import GridSearchCV\n",
        "from sklearn.ensemble import RandomForestClassifier\n",
        "\n",
        "random_grid_test = {'n_estimators': [1,2,5,10,20,50,100],\n",
        "               'max_depth': [1,5,10,30,60,80,100]}\n",
        "\n",
        "\n",
        "grid = GridSearchCV(estimator = RandomForestClassifier(),\n",
        "                    param_grid = random_grid_test,\n",
        "                    cv = 5)\n",
        "\n",
        "# fit the model\n",
        "grid.fit(X_train_vect,y_train)\n",
        "\n",
        "print(f\"Train score: {grid.score(X_train_vect, y_train)}\")\n",
        "print(f\"Test score: {grid.score(X_test_vect, y_test)}\")"
      ],
      "metadata": {
        "id": "bQU5OAUy-GKJ",
        "colab": {
          "base_uri": "https://localhost:8080/"
        },
        "outputId": "d1709cf6-546a-45da-d726-2f90142e427b"
      },
      "execution_count": 71,
      "outputs": [
        {
          "output_type": "stream",
          "name": "stdout",
          "text": [
            "Train score: 0.9298531810766721\n",
            "Test score: 0.7510347682119205\n"
          ]
        }
      ]
    },
    {
      "cell_type": "code",
      "source": [
        "grid.best_estimator_.get_params()"
      ],
      "metadata": {
        "id": "_zQwbtmc-G85",
        "colab": {
          "base_uri": "https://localhost:8080/"
        },
        "outputId": "0b89b652-5065-4a89-b1d3-9b04500fbdfc"
      },
      "execution_count": 72,
      "outputs": [
        {
          "output_type": "execute_result",
          "data": {
            "text/plain": [
              "{'bootstrap': True,\n",
              " 'ccp_alpha': 0.0,\n",
              " 'class_weight': None,\n",
              " 'criterion': 'gini',\n",
              " 'max_depth': 80,\n",
              " 'max_features': 'sqrt',\n",
              " 'max_leaf_nodes': None,\n",
              " 'max_samples': None,\n",
              " 'min_impurity_decrease': 0.0,\n",
              " 'min_samples_leaf': 1,\n",
              " 'min_samples_split': 2,\n",
              " 'min_weight_fraction_leaf': 0.0,\n",
              " 'n_estimators': 100,\n",
              " 'n_jobs': None,\n",
              " 'oob_score': False,\n",
              " 'random_state': None,\n",
              " 'verbose': 0,\n",
              " 'warm_start': False}"
            ]
          },
          "metadata": {},
          "execution_count": 72
        }
      ]
    },
    {
      "cell_type": "markdown",
      "source": [
        "**Adaboot Classfier**"
      ],
      "metadata": {
        "id": "IiH462lHZSMx"
      }
    },
    {
      "cell_type": "code",
      "source": [
        "from sklearn.ensemble import AdaBoostClassifier\n",
        "from sklearn.metrics import classification_report\n",
        "\n",
        "abc_1 = AdaBoostClassifier(n_estimators=20)\n",
        "abc_1.fit(X_train_vect, y_train)\n",
        "\n",
        "y_pred = abc_1.predict(X_test_vect)\n",
        "\n",
        "print(classification_report(y_test, y_pred))"
      ],
      "metadata": {
        "colab": {
          "base_uri": "https://localhost:8080/"
        },
        "id": "gp9ew9IRV_aA",
        "outputId": "245a9463-1f91-4915-e485-060b2db513cc"
      },
      "execution_count": 73,
      "outputs": [
        {
          "output_type": "stream",
          "name": "stdout",
          "text": [
            "              precision    recall  f1-score   support\n",
            "\n",
            "           0       0.71      0.95      0.82      3085\n",
            "           1       0.44      0.02      0.03       984\n",
            "           2       0.67      0.59      0.63       763\n",
            "\n",
            "    accuracy                           0.70      4832\n",
            "   macro avg       0.61      0.52      0.49      4832\n",
            "weighted avg       0.65      0.70      0.63      4832\n",
            "\n"
          ]
        }
      ]
    },
    {
      "cell_type": "code",
      "source": [
        "# let's Adaboost Claissifier on different number of estimator with max_depth 2\n",
        "\n",
        "base_tree = DecisionTreeClassifier(max_depth=2, random_state = 42)\n",
        "estimators = list(range(1, 50, 3))\n",
        "\n",
        "abc_scores = []\n",
        "for n_est in estimators:\n",
        "    abc = AdaBoostClassifier(\n",
        "        base_estimator=base_tree,\n",
        "        n_estimators = n_est)\n",
        "\n",
        "    abc.fit(X_train_vect, y_train)\n",
        "    y_pred = abc.predict(X_test_vect)\n",
        "    abc_scores.append(accuracy_score(y_test, y_pred))\n",
        "\n",
        "# plot test scores and n_estimators\n",
        "plt.plot(estimators, abc_scores)\n",
        "plt.xlabel('n_estimators')\n",
        "plt.ylabel('accuracy')\n",
        "plt.ylim([0, 1])\n",
        "plt.show()\n",
        "\n",
        "print(classification_report(y_test, y_pred))"
      ],
      "metadata": {
        "colab": {
          "base_uri": "https://localhost:8080/",
          "height": 629
        },
        "id": "RR5GrDkAa8MV",
        "outputId": "6cc4a101-5d07-4b88-d9c4-382e33b182d6"
      },
      "execution_count": 74,
      "outputs": [
        {
          "output_type": "display_data",
          "data": {
            "text/plain": [
              "<Figure size 640x480 with 1 Axes>"
            ],
            "image/png": "[encoded data removed]"
          },
          "metadata": {}
        },
        {
          "output_type": "stream",
          "name": "stdout",
          "text": [
            "              precision    recall  f1-score   support\n",
            "\n",
            "           0       0.80      0.87      0.83      3085\n",
            "           1       0.51      0.42      0.46       984\n",
            "           2       0.67      0.59      0.63       763\n",
            "\n",
            "    accuracy                           0.73      4832\n",
            "   macro avg       0.66      0.63      0.64      4832\n",
            "weighted avg       0.72      0.73      0.72      4832\n",
            "\n"
          ]
        }
      ]
    },
    {
      "cell_type": "markdown",
      "source": [
        "**Gradient Boostig Classifier**"
      ],
      "metadata": {
        "id": "rBmvKWigaZ6h"
      }
    },
    {
      "cell_type": "code",
      "source": [
        "from sklearn.ensemble import GradientBoostingClassifier\n",
        "\n",
        "gbc_2 = GradientBoostingClassifier()\n",
        "gbc_2.fit(X_train_vect, y_train)\n",
        "\n",
        "y_pred = gbc_2.predict(X_test_vect)\n",
        "print(classification_report(y_test, y_pred))"
      ],
      "metadata": {
        "colab": {
          "base_uri": "https://localhost:8080/"
        },
        "id": "fWuZ_eRbV_fu",
        "outputId": "12aab0fa-3867-4a3e-d38a-e0b7e6edab9d"
      },
      "execution_count": 75,
      "outputs": [
        {
          "output_type": "stream",
          "name": "stdout",
          "text": [
            "              precision    recall  f1-score   support\n",
            "\n",
            "           0       0.74      0.95      0.83      3085\n",
            "           1       0.70      0.18      0.29       984\n",
            "           2       0.72      0.56      0.63       763\n",
            "\n",
            "    accuracy                           0.73      4832\n",
            "   macro avg       0.72      0.56      0.58      4832\n",
            "weighted avg       0.73      0.73      0.69      4832\n",
            "\n"
          ]
        }
      ]
    },
    {
      "cell_type": "markdown",
      "source": [
        "## TF-IDF Vectorization"
      ],
      "metadata": {
        "id": "ueljjSlVbqwx"
      }
    },
    {
      "cell_type": "code",
      "source": [
        "from sklearn.feature_extraction.text import TfidfVectorizer\n",
        "\n",
        "stemmer = nltk.stem.PorterStemmer()\n",
        "import string"
      ],
      "metadata": {
        "id": "irBYlAckdNJ3"
      },
      "execution_count": 76,
      "outputs": []
    },
    {
      "cell_type": "code",
      "source": [
        "# import the nltk stopwords\n",
        "nltk.download('stopwords')\n",
        "from nltk.corpus import stopwords\n",
        "\n",
        "ENGLISH_STOP_WORDS = stopwords.words('english')\n",
        "\n",
        "def my_tokenizer(sentence):\n",
        "    # remove punctuation and set to lower case\n",
        "    for punctuation_mark in string.punctuation:\n",
        "        sentence = sentence.replace(punctuation_mark,'').lower()\n",
        "\n",
        "    # split sentence into words\n",
        "    listofwords = sentence.split(' ')\n",
        "    listofstemmed_words = []\n",
        "\n",
        "    # remove stopwords and any tokens that are just empty strings\n",
        "    for word in listofwords:\n",
        "        if (not word in ENGLISH_STOP_WORDS) and (word!=''):\n",
        "            # Stem words\n",
        "            stemmed_word = stemmer.stem(word)\n",
        "            listofstemmed_words.append(stemmed_word)\n",
        "\n",
        "    return listofstemmed_words"
      ],
      "metadata": {
        "colab": {
          "base_uri": "https://localhost:8080/"
        },
        "id": "9d9162ixbfMB",
        "outputId": "71218d98-eeaa-4d86-d607-1cb2dcf54535"
      },
      "execution_count": 77,
      "outputs": [
        {
          "output_type": "stream",
          "name": "stderr",
          "text": [
            "[nltk_data] Downloading package stopwords to /root/nltk_data...\n",
            "[nltk_data]   Unzipping corpora/stopwords.zip.\n"
          ]
        }
      ]
    },
    {
      "cell_type": "code",
      "source": [
        "# vectorization using TFODF\n",
        "tfidf = TfidfVectorizer(min_df=5,\n",
        "                        tokenizer=my_tokenizer)\n",
        "tfidf.fit(X_train)\n",
        "\n",
        "X_train_tfidf = tfidf.transform(X_train)\n",
        "X_test_tfidf = tfidf.transform(X_test)\n",
        "\n",
        "X_train_tfidf.shape"
      ],
      "metadata": {
        "colab": {
          "base_uri": "https://localhost:8080/"
        },
        "id": "22nJES_XbfPg",
        "outputId": "abb42354-caa9-486e-eb9f-b59ab6d3ad15"
      },
      "execution_count": 78,
      "outputs": [
        {
          "output_type": "execute_result",
          "data": {
            "text/plain": [
              "(9808, 1970)"
            ]
          },
          "metadata": {},
          "execution_count": 78
        }
      ]
    },
    {
      "cell_type": "code",
      "source": [
        "X_train_tfidf.toarray()"
      ],
      "metadata": {
        "colab": {
          "base_uri": "https://localhost:8080/"
        },
        "id": "TtA5XrQNbfSi",
        "outputId": "e9fbc8bf-9c7e-48bd-9e5c-b849000332d4"
      },
      "execution_count": 79,
      "outputs": [
        {
          "output_type": "execute_result",
          "data": {
            "text/plain": [
              "array([[0., 0., 0., ..., 0., 0., 0.],\n",
              "       [0., 0., 0., ..., 0., 0., 0.],\n",
              "       [0., 0., 0., ..., 0., 0., 0.],\n",
              "       ...,\n",
              "       [0., 0., 0., ..., 0., 0., 0.],\n",
              "       [0., 0., 0., ..., 0., 0., 0.],\n",
              "       [0., 0., 0., ..., 0., 0., 0.]])"
            ]
          },
          "metadata": {},
          "execution_count": 79
        }
      ]
    },
    {
      "cell_type": "code",
      "source": [
        "# build Logistic regression model on TFIDF\n",
        "best_acc = -np.inf\n",
        "best_model = None\n",
        "cvals = np.logspace(-4,4,20)\n",
        "trains,tests = [],[]\n",
        "for cv in cvals:\n",
        "    for penalty in (\"l1\",\"l2\"):\n",
        "        lr = LogisticRegression(C=cv,max_iter=1000,penalty=penalty,solver='liblinear')\n",
        "        lr.fit(X_train_tfidf,y_train)\n",
        "        train_score = lr.score(X_train_tfidf,y_train)\n",
        "        test_score = lr.score(X_test_tfidf,y_test)\n",
        "        print(\"Eval: C={:.6f} pen={} train={:.3f} test={:.3f}\".format(cv,penalty,train_score,test_score))\n",
        "        trains.append(train_score)\n",
        "        tests.append(test_score)\n",
        "        if test_score > best_acc:\n",
        "            best_acc = test_score\n",
        "            best_model = lr"
      ],
      "metadata": {
        "colab": {
          "base_uri": "https://localhost:8080/"
        },
        "id": "7ZF6LuPvbfZu",
        "outputId": "20a6ae35-a70d-4169-cbe7-5484075c2fe2"
      },
      "execution_count": 80,
      "outputs": [
        {
          "output_type": "stream",
          "name": "stdout",
          "text": [
            "Eval: C=0.000100 pen=l1 train=0.621 test=0.638\n",
            "Eval: C=0.000100 pen=l2 train=0.621 test=0.638\n",
            "Eval: C=0.000264 pen=l1 train=0.621 test=0.638\n",
            "Eval: C=0.000264 pen=l2 train=0.621 test=0.638\n",
            "Eval: C=0.000695 pen=l1 train=0.621 test=0.638\n",
            "Eval: C=0.000695 pen=l2 train=0.621 test=0.638\n",
            "Eval: C=0.001833 pen=l1 train=0.621 test=0.638\n",
            "Eval: C=0.001833 pen=l2 train=0.621 test=0.638\n",
            "Eval: C=0.004833 pen=l1 train=0.621 test=0.638\n",
            "Eval: C=0.004833 pen=l2 train=0.621 test=0.638\n",
            "Eval: C=0.012743 pen=l1 train=0.642 test=0.659\n",
            "Eval: C=0.012743 pen=l2 train=0.630 test=0.648\n",
            "Eval: C=0.033598 pen=l1 train=0.667 test=0.682\n",
            "Eval: C=0.033598 pen=l2 train=0.653 test=0.671\n",
            "Eval: C=0.088587 pen=l1 train=0.692 test=0.704\n",
            "Eval: C=0.088587 pen=l2 train=0.695 test=0.704\n",
            "Eval: C=0.233572 pen=l1 train=0.729 test=0.739\n",
            "Eval: C=0.233572 pen=l2 train=0.753 test=0.752\n",
            "Eval: C=0.615848 pen=l1 train=0.778 test=0.776\n",
            "Eval: C=0.615848 pen=l2 train=0.807 test=0.783\n",
            "Eval: C=1.623777 pen=l1 train=0.839 test=0.795\n",
            "Eval: C=1.623777 pen=l2 train=0.843 test=0.793\n",
            "Eval: C=4.281332 pen=l1 train=0.878 test=0.791\n",
            "Eval: C=4.281332 pen=l2 train=0.866 test=0.800\n",
            "Eval: C=11.288379 pen=l1 train=0.898 test=0.776\n",
            "Eval: C=11.288379 pen=l2 train=0.883 test=0.789\n",
            "Eval: C=29.763514 pen=l1 train=0.907 test=0.761\n",
            "Eval: C=29.763514 pen=l2 train=0.893 test=0.786\n",
            "Eval: C=78.475997 pen=l1 train=0.910 test=0.752\n",
            "Eval: C=78.475997 pen=l2 train=0.901 test=0.777\n",
            "Eval: C=206.913808 pen=l1 train=0.911 test=0.746\n",
            "Eval: C=206.913808 pen=l2 train=0.906 test=0.764\n",
            "Eval: C=545.559478 pen=l1 train=0.912 test=0.744\n",
            "Eval: C=545.559478 pen=l2 train=0.909 test=0.756\n",
            "Eval: C=1438.449888 pen=l1 train=0.913 test=0.741\n",
            "Eval: C=1438.449888 pen=l2 train=0.911 test=0.751\n",
            "Eval: C=3792.690191 pen=l1 train=0.913 test=0.740\n",
            "Eval: C=3792.690191 pen=l2 train=0.912 test=0.746\n",
            "Eval: C=10000.000000 pen=l1 train=0.913 test=0.739\n",
            "Eval: C=10000.000000 pen=l2 train=0.912 test=0.745\n"
          ]
        }
      ]
    },
    {
      "cell_type": "code",
      "source": [
        "best_penalty = best_model.get_params()['penalty']\n",
        "best_weight = best_model.get_params()['C']\n",
        "print(\"Classifier: penalty={} C={:.3f} Test Acc = {:.3f}\".format(best_penalty,best_weight,best_acc))"
      ],
      "metadata": {
        "colab": {
          "base_uri": "https://localhost:8080/"
        },
        "id": "ojiYjghybfcD",
        "outputId": "95f7814d-e547-4cf8-a907-004ce85afb12"
      },
      "execution_count": 81,
      "outputs": [
        {
          "output_type": "stream",
          "name": "stdout",
          "text": [
            "Classifier: penalty=l2 C=4.281 Test Acc = 0.800\n"
          ]
        }
      ]
    },
    {
      "cell_type": "code",
      "source": [
        "plt.figure()\n",
        "plt.plot(cvals,trains[::2],color='blue',label=\"TRAIN_L1\")\n",
        "plt.plot(cvals,tests[::2],color='red',label=\"TEST_L1\")\n",
        "plt.plot(cvals,trains[1::2],color='blue',label=\"TRAIN_L2\",ls=\"--\")\n",
        "plt.plot(cvals,tests[1::2],color='red',label=\"TEST_L2\",ls=\"--\")\n",
        "plt.xscale('log')\n",
        "plt.legend()\n",
        "plt.xlabel(\"Regularization Weight\")\n",
        "plt.ylabel(\"Accuracies\")\n",
        "plt.title(\"Sentiment Classifier Evaluation\")\n",
        "plt.axvline(best_weight)\n",
        "plt.grid()"
      ],
      "metadata": {
        "colab": {
          "base_uri": "https://localhost:8080/",
          "height": 476
        },
        "id": "zDoP1QgygW_D",
        "outputId": "ce702f58-3053-4edf-a22f-adc080866781"
      },
      "execution_count": 82,
      "outputs": [
        {
          "output_type": "display_data",
          "data": {
            "text/plain": [
              "<Figure size 640x480 with 1 Axes>"
            ],
            "image/png": "[encoded data removed]"
          },
          "metadata": {}
        }
      ]
    },
    {
      "cell_type": "markdown",
      "source": [
        "Using TFIDF and customized tokeners, we can achieve the accuracy of 80%,\n",
        "(3% higher than bag of words)."
      ],
      "metadata": {
        "id": "p7wHQrZkfZQZ"
      }
    },
    {
      "cell_type": "code",
      "source": [
        "# run Decision tree on TFIDF\n",
        "from sklearn.model_selection import GridSearchCV\n",
        "from sklearn.tree import DecisionTreeClassifier\n",
        "\n",
        "dtree = DecisionTreeClassifier()\n",
        "\n",
        "params = {'max_depth': list(np.arange(1,20,2)),\n",
        "          'criterion':   [\"gini\", \"entropy\", \"log_loss\"],\n",
        "          'min_samples_leaf': list(np.arange(1,40,2))}\n",
        "\n",
        "grid_search = GridSearchCV(dtree, param_grid=params,cv=5)\n",
        "\n",
        "grid_search.fit(X_train_tfidf, y_train)\n",
        "print(f\"Train score: {grid_search.score(X_train_tfidf, y_train)}\")\n",
        "print(f\"Test score: {grid_search.score(X_test_tfidf, y_test)}\")"
      ],
      "metadata": {
        "colab": {
          "base_uri": "https://localhost:8080/"
        },
        "id": "f-oENPaKbfej",
        "outputId": "9d69a95f-b427-4de0-9f3c-5dd3a4fc492c"
      },
      "execution_count": 83,
      "outputs": [
        {
          "output_type": "stream",
          "name": "stdout",
          "text": [
            "Train score: 0.7880301794453507\n",
            "Test score: 0.7201986754966887\n"
          ]
        }
      ]
    },
    {
      "cell_type": "code",
      "source": [
        "from sklearn.ensemble import AdaBoostClassifier\n",
        "from sklearn.metrics import classification_report\n",
        "\n",
        "abc_1 = AdaBoostClassifier(n_estimators=20)\n",
        "abc_1.fit(X_train_tfidf, y_train)\n",
        "\n",
        "y_pred = abc_1.predict(X_test_tfidf)\n",
        "\n",
        "print(classification_report(y_test, y_pred))"
      ],
      "metadata": {
        "colab": {
          "base_uri": "https://localhost:8080/"
        },
        "id": "KejXFEhMbfg8",
        "outputId": "5d556e6e-b344-4b8a-d99d-93c03bab8250"
      },
      "execution_count": 84,
      "outputs": [
        {
          "output_type": "stream",
          "name": "stdout",
          "text": [
            "              precision    recall  f1-score   support\n",
            "\n",
            "           0       0.71      0.95      0.82      3085\n",
            "           1       0.56      0.02      0.04       984\n",
            "           2       0.67      0.59      0.63       763\n",
            "\n",
            "    accuracy                           0.71      4832\n",
            "   macro avg       0.65      0.52      0.50      4832\n",
            "weighted avg       0.68      0.71      0.63      4832\n",
            "\n"
          ]
        }
      ]
    },
    {
      "cell_type": "code",
      "source": [
        "from sklearn.ensemble import GradientBoostingClassifier\n",
        "\n",
        "gbc_2 = GradientBoostingClassifier()\n",
        "gbc_2.fit(X_train_tfidf, y_train)\n",
        "\n",
        "y_pred = gbc_2.predict(X_test_tfidf)\n",
        "print(classification_report(y_test, y_pred))"
      ],
      "metadata": {
        "colab": {
          "base_uri": "https://localhost:8080/"
        },
        "id": "yAWJcRG3bfkC",
        "outputId": "f487df09-6c41-4bcd-d515-296182b6ce26"
      },
      "execution_count": 85,
      "outputs": [
        {
          "output_type": "stream",
          "name": "stdout",
          "text": [
            "              precision    recall  f1-score   support\n",
            "\n",
            "           0       0.76      0.95      0.85      3085\n",
            "           1       0.66      0.29      0.40       984\n",
            "           2       0.76      0.58      0.65       763\n",
            "\n",
            "    accuracy                           0.75      4832\n",
            "   macro avg       0.73      0.60      0.63      4832\n",
            "weighted avg       0.74      0.75      0.72      4832\n",
            "\n"
          ]
        }
      ]
    },
    {
      "cell_type": "markdown",
      "source": [
        "# **Word Embedding**"
      ],
      "metadata": {
        "id": "FZTb4PJQatQD"
      }
    },
    {
      "cell_type": "code",
      "source": [
        "import gensim\n",
        "from gensim.utils import simple_preprocess"
      ],
      "metadata": {
        "id": "mf3VbRPM-HDJ"
      },
      "execution_count": 141,
      "outputs": []
    },
    {
      "cell_type": "code",
      "source": [
        "model = gensim.models.KeyedVectors.load_word2vec_format(\n",
        "    'https://www.dropbox.com/s/kguufyc2xcdi8yk/lexvec.enwiki%2Bnewscrawl.300d.W.pos.vectors.gz?dl=1', binary=False\n",
        ")"
      ],
      "metadata": {
        "id": "dSId5a3o-HGk"
      },
      "execution_count": 142,
      "outputs": []
    },
    {
      "cell_type": "code",
      "source": [
        "def sentence2vec(text):\n",
        "    \"\"\"\n",
        "    Embed a sentence by averaging the word vectors of the tokenized text. Out-of-vocabulary words are replaced by the zero-vector.\n",
        "    -----\n",
        "\n",
        "    Input: text (string)\n",
        "    Output: embedding vector (np.array)\n",
        "    \"\"\"\n",
        "    tokenized = simple_preprocess(text)\n",
        "\n",
        "    word_embeddings = [np.zeros(300)]\n",
        "    for word in tokenized:\n",
        "        # if the word is in the model then embed\n",
        "        if word in model:\n",
        "            vector = model[word]\n",
        "        # add zeros for out-of-vocab words\n",
        "        else:\n",
        "            vector = np.zeros(300)\n",
        "\n",
        "        word_embeddings.append(vector)\n",
        "\n",
        "    # average the word vectors\n",
        "    sentence_embedding = np.stack(word_embeddings).mean(axis=0)\n",
        "\n",
        "    return sentence_embedding"
      ],
      "metadata": {
        "id": "wLsv_QXV-HJO"
      },
      "execution_count": 143,
      "outputs": []
    },
    {
      "cell_type": "code",
      "source": [
        "X_train_emb = X_train.apply(sentence2vec)\n",
        "X_train_emb = np.array(X_train_emb.tolist())"
      ],
      "metadata": {
        "id": "0XUJkBC34mE6"
      },
      "execution_count": 144,
      "outputs": []
    },
    {
      "cell_type": "code",
      "source": [
        "X_test_emb = X_test.apply(sentence2vec)\n",
        "X_test_emb = np.array(X_test_emb.tolist())"
      ],
      "metadata": {
        "id": "i3Kx7gEj_KgZ"
      },
      "execution_count": 145,
      "outputs": []
    },
    {
      "cell_type": "code",
      "source": [
        "X_train_emb.shape"
      ],
      "metadata": {
        "colab": {
          "base_uri": "https://localhost:8080/"
        },
        "id": "kNBbTq7tjYA0",
        "outputId": "114f0bc1-69cf-41b1-b113-9cbf313e5844"
      },
      "execution_count": 146,
      "outputs": [
        {
          "output_type": "execute_result",
          "data": {
            "text/plain": [
              "(9808, 300)"
            ]
          },
          "metadata": {},
          "execution_count": 146
        }
      ]
    },
    {
      "cell_type": "markdown",
      "source": [
        "**Logistic Regression**"
      ],
      "metadata": {
        "id": "D2AN43j5iKn1"
      }
    },
    {
      "cell_type": "code",
      "source": [
        "logreg = LogisticRegression(max_iter=1000,solver='liblinear')\n",
        "grid_search = GridSearchCV(logreg, {\"C\": np.logspace(-4,4,20),\n",
        "                                    \"penalty\":[\"l1\",\"l2\"]})\n",
        "grid_search.fit(X_train_emb, y_train)\n",
        "print(\"Best parameters: \", grid_search.best_params_)\n",
        "grid_search.best_score_"
      ],
      "metadata": {
        "colab": {
          "base_uri": "https://localhost:8080/"
        },
        "id": "lNJN6huMkd86",
        "outputId": "17b6205e-1123-4405-b398-2bcb1fe95abe"
      },
      "execution_count": 92,
      "outputs": [
        {
          "output_type": "stream",
          "name": "stdout",
          "text": [
            "Best parameters:  {'C': 11.288378916846883, 'penalty': 'l2'}\n"
          ]
        },
        {
          "output_type": "execute_result",
          "data": {
            "text/plain": [
              "0.7785475279676423"
            ]
          },
          "metadata": {},
          "execution_count": 92
        }
      ]
    },
    {
      "cell_type": "code",
      "source": [
        "best_lr = grid_search.best_estimator_"
      ],
      "metadata": {
        "id": "ELT9ibma169D"
      },
      "execution_count": 93,
      "outputs": []
    },
    {
      "cell_type": "code",
      "source": [
        "from sklearn.ensemble import RandomForestClassifier\n",
        "rf = RandomForestClassifier(n_jobs=-1)\n",
        "grid_search = GridSearchCV(rf, {\"max_depth\": np.arange(3,50,2)})\n",
        "grid_search.fit(X_train_emb, y_train)\n",
        "print(\"Best parameters: \", grid_search.best_params_)\n",
        "grid_search.best_score_"
      ],
      "metadata": {
        "id": "SADmVWNREp4t",
        "colab": {
          "base_uri": "https://localhost:8080/"
        },
        "outputId": "5b81ad10-0c25-40f3-c2ed-495d36e7c243"
      },
      "execution_count": 94,
      "outputs": [
        {
          "output_type": "stream",
          "name": "stdout",
          "text": [
            "Best parameters:  {'max_depth': 33}\n"
          ]
        },
        {
          "output_type": "execute_result",
          "data": {
            "text/plain": [
              "0.7206357820517418"
            ]
          },
          "metadata": {},
          "execution_count": 94
        }
      ]
    },
    {
      "cell_type": "code",
      "source": [
        "best_rf = grid_search.best_estimator_"
      ],
      "metadata": {
        "id": "iSYWdBDu1_P6"
      },
      "execution_count": 95,
      "outputs": []
    },
    {
      "cell_type": "markdown",
      "source": [
        "**Neural Network on Word Embedding**"
      ],
      "metadata": {
        "id": "HnvgAilkqq75"
      }
    },
    {
      "cell_type": "code",
      "source": [
        "import tensorflow as tf\n",
        "from tensorflow import keras\n",
        "from tensorflow.keras import layers"
      ],
      "metadata": {
        "id": "uCsUB4wGoftm"
      },
      "execution_count": 96,
      "outputs": []
    },
    {
      "cell_type": "code",
      "source": [
        "from tensorflow.keras import regularizers\n",
        "reg = regularizers.L1L2(l1=1e-5, l2=1e-4)\n",
        "\n",
        "nn_model = keras.Sequential()\n",
        "nn_model.add(layers.Dense(128, activation=\"relu\",kernel_regularizer=reg))\n",
        "nn_model.add(layers.Dense(128, activation=\"relu\",kernel_regularizer=reg))\n",
        "nn_model.add(layers.Dense(64, activation=\"relu\",kernel_regularizer=reg))\n",
        "nn_model.add(layers.Dense(32, activation=\"relu\",kernel_regularizer=reg))\n",
        "nn_model.add(layers.Dense(8, activation=\"relu\",kernel_regularizer=reg))\n",
        "nn_model.add(layers.Dense(3, activation=\"softmax\")) # output layer\n",
        "\n",
        "nn_model.compile(\n",
        "    optimizer=keras.optimizers.Adam(),\n",
        "    loss=keras.losses.SparseCategoricalCrossentropy(),\n",
        "    metrics=keras.metrics.SparseCategoricalAccuracy()\n",
        ")\n",
        "\n",
        "# train the model\n",
        "history = nn_model.fit(X_train_emb.astype(np.float32), y_train,\n",
        "                    validation_split=0.2,\n",
        "                    epochs=20,\n",
        "                    verbose=1)"
      ],
      "metadata": {
        "colab": {
          "base_uri": "https://localhost:8080/"
        },
        "id": "N6BZ7Szomn_5",
        "outputId": "ad58002c-91f8-4bca-b786-165335f34a59"
      },
      "execution_count": 97,
      "outputs": [
        {
          "output_type": "stream",
          "name": "stdout",
          "text": [
            "Epoch 1/20\n",
            "246/246 [==============================] - 3s 5ms/step - loss: 0.7863 - sparse_categorical_accuracy: 0.7055 - val_loss: 0.6887 - val_sparse_categorical_accuracy: 0.7564\n",
            "Epoch 2/20\n",
            "246/246 [==============================] - 1s 4ms/step - loss: 0.6325 - sparse_categorical_accuracy: 0.7771 - val_loss: 0.6632 - val_sparse_categorical_accuracy: 0.7604\n",
            "Epoch 3/20\n",
            "246/246 [==============================] - 1s 3ms/step - loss: 0.6091 - sparse_categorical_accuracy: 0.7803 - val_loss: 0.6792 - val_sparse_categorical_accuracy: 0.7543\n",
            "Epoch 4/20\n",
            "246/246 [==============================] - 1s 4ms/step - loss: 0.5753 - sparse_categorical_accuracy: 0.7962 - val_loss: 0.6366 - val_sparse_categorical_accuracy: 0.7615\n",
            "Epoch 5/20\n",
            "246/246 [==============================] - 1s 4ms/step - loss: 0.5636 - sparse_categorical_accuracy: 0.7994 - val_loss: 0.6249 - val_sparse_categorical_accuracy: 0.7747\n",
            "Epoch 6/20\n",
            "246/246 [==============================] - 1s 3ms/step - loss: 0.5453 - sparse_categorical_accuracy: 0.8050 - val_loss: 0.6475 - val_sparse_categorical_accuracy: 0.7717\n",
            "Epoch 7/20\n",
            "246/246 [==============================] - 1s 4ms/step - loss: 0.5329 - sparse_categorical_accuracy: 0.8168 - val_loss: 0.6462 - val_sparse_categorical_accuracy: 0.7727\n",
            "Epoch 8/20\n",
            "246/246 [==============================] - 2s 6ms/step - loss: 0.5118 - sparse_categorical_accuracy: 0.8217 - val_loss: 0.7136 - val_sparse_categorical_accuracy: 0.7462\n",
            "Epoch 9/20\n",
            "246/246 [==============================] - 1s 6ms/step - loss: 0.4970 - sparse_categorical_accuracy: 0.8347 - val_loss: 0.6279 - val_sparse_categorical_accuracy: 0.7813\n",
            "Epoch 10/20\n",
            "246/246 [==============================] - 1s 4ms/step - loss: 0.4757 - sparse_categorical_accuracy: 0.8392 - val_loss: 0.7373 - val_sparse_categorical_accuracy: 0.7207\n",
            "Epoch 11/20\n",
            "246/246 [==============================] - 1s 4ms/step - loss: 0.4685 - sparse_categorical_accuracy: 0.8464 - val_loss: 0.6657 - val_sparse_categorical_accuracy: 0.7742\n",
            "Epoch 12/20\n",
            "246/246 [==============================] - 1s 3ms/step - loss: 0.4330 - sparse_categorical_accuracy: 0.8603 - val_loss: 0.7052 - val_sparse_categorical_accuracy: 0.7610\n",
            "Epoch 13/20\n",
            "246/246 [==============================] - 1s 4ms/step - loss: 0.4268 - sparse_categorical_accuracy: 0.8626 - val_loss: 0.7349 - val_sparse_categorical_accuracy: 0.7594\n",
            "Epoch 14/20\n",
            "246/246 [==============================] - 1s 4ms/step - loss: 0.4004 - sparse_categorical_accuracy: 0.8717 - val_loss: 0.7435 - val_sparse_categorical_accuracy: 0.7589\n",
            "Epoch 15/20\n",
            "246/246 [==============================] - 1s 4ms/step - loss: 0.3772 - sparse_categorical_accuracy: 0.8839 - val_loss: 0.7667 - val_sparse_categorical_accuracy: 0.7508\n",
            "Epoch 16/20\n",
            "246/246 [==============================] - 1s 4ms/step - loss: 0.3569 - sparse_categorical_accuracy: 0.8934 - val_loss: 0.7491 - val_sparse_categorical_accuracy: 0.7620\n",
            "Epoch 17/20\n",
            "246/246 [==============================] - 1s 3ms/step - loss: 0.3337 - sparse_categorical_accuracy: 0.9025 - val_loss: 0.8050 - val_sparse_categorical_accuracy: 0.7569\n",
            "Epoch 18/20\n",
            "246/246 [==============================] - 1s 3ms/step - loss: 0.3367 - sparse_categorical_accuracy: 0.8996 - val_loss: 0.8310 - val_sparse_categorical_accuracy: 0.7513\n",
            "Epoch 19/20\n",
            "246/246 [==============================] - 1s 4ms/step - loss: 0.2971 - sparse_categorical_accuracy: 0.9183 - val_loss: 1.0172 - val_sparse_categorical_accuracy: 0.7482\n",
            "Epoch 20/20\n",
            "246/246 [==============================] - 1s 4ms/step - loss: 0.2969 - sparse_categorical_accuracy: 0.9160 - val_loss: 0.9554 - val_sparse_categorical_accuracy: 0.7513\n"
          ]
        }
      ]
    },
    {
      "cell_type": "code",
      "source": [
        "nn_model.summary()"
      ],
      "metadata": {
        "colab": {
          "base_uri": "https://localhost:8080/"
        },
        "id": "GTEPCPvYLirH",
        "outputId": "d83fb0dd-94ea-4dfa-8f10-e543bd2f9e5a"
      },
      "execution_count": 98,
      "outputs": [
        {
          "output_type": "stream",
          "name": "stdout",
          "text": [
            "Model: \"sequential_2\"\n",
            "_________________________________________________________________\n",
            " Layer (type)                Output Shape              Param #   \n",
            "=================================================================\n",
            " dense_12 (Dense)            (None, 128)               38528     \n",
            "                                                                 \n",
            " dense_13 (Dense)            (None, 128)               16512     \n",
            "                                                                 \n",
            " dense_14 (Dense)            (None, 64)                8256      \n",
            "                                                                 \n",
            " dense_15 (Dense)            (None, 32)                2080      \n",
            "                                                                 \n",
            " dense_16 (Dense)            (None, 8)                 264       \n",
            "                                                                 \n",
            " dense_17 (Dense)            (None, 3)                 27        \n",
            "                                                                 \n",
            "=================================================================\n",
            "Total params: 65667 (256.51 KB)\n",
            "Trainable params: 65667 (256.51 KB)\n",
            "Non-trainable params: 0 (0.00 Byte)\n",
            "_________________________________________________________________\n"
          ]
        }
      ]
    },
    {
      "cell_type": "code",
      "source": [
        "# Get probabilities  of each catogory for  each obervations\n",
        "predictions = nn_model.predict(X_train_emb)"
      ],
      "metadata": {
        "colab": {
          "base_uri": "https://localhost:8080/"
        },
        "id": "qExJCJcDq78N",
        "outputId": "dd9b9b74-3fed-408a-a101-184c9c3ecd37"
      },
      "execution_count": 134,
      "outputs": [
        {
          "output_type": "stream",
          "name": "stdout",
          "text": [
            "307/307 [==============================] - 1s 2ms/step\n"
          ]
        }
      ]
    },
    {
      "cell_type": "code",
      "source": [
        "# find the highest probality for the prodicted catogory\n",
        "predictions_df = pd.DataFrame(predictions)\n",
        "predictions_df[\"predictions\"] = predictions_df.idxmax(axis=1)\n",
        "\n",
        "print(classification_report(y_train,predictions_df[\"predictions\"]))"
      ],
      "metadata": {
        "colab": {
          "base_uri": "https://localhost:8080/"
        },
        "id": "c6Yuy50xsQcp",
        "outputId": "1b8e4b3a-c387-4c5c-bd2f-9f1c64ba56e1"
      },
      "execution_count": 100,
      "outputs": [
        {
          "output_type": "stream",
          "name": "stdout",
          "text": [
            "              precision    recall  f1-score   support\n",
            "\n",
            "           0       0.89      0.97      0.93      6093\n",
            "           1       0.93      0.62      0.74      2115\n",
            "           2       0.82      0.91      0.87      1600\n",
            "\n",
            "    accuracy                           0.88      9808\n",
            "   macro avg       0.88      0.83      0.84      9808\n",
            "weighted avg       0.89      0.88      0.88      9808\n",
            "\n"
          ]
        }
      ]
    },
    {
      "cell_type": "code",
      "source": [
        "X_test_pred = nn_model.predict(X_test_emb)"
      ],
      "metadata": {
        "colab": {
          "base_uri": "https://localhost:8080/"
        },
        "id": "YNwHdlYnEc7o",
        "outputId": "f498d9fd-2810-4c2c-a29b-6043c4e85592"
      },
      "execution_count": 156,
      "outputs": [
        {
          "output_type": "stream",
          "name": "stdout",
          "text": [
            "151/151 [==============================] - 0s 2ms/step\n"
          ]
        }
      ]
    },
    {
      "cell_type": "code",
      "source": [
        "X_test_pred"
      ],
      "metadata": {
        "colab": {
          "base_uri": "https://localhost:8080/"
        },
        "id": "DfSroEygHKzU",
        "outputId": "5dca8dd1-1ba8-4631-aed7-c5ea07c3b9ef"
      },
      "execution_count": 159,
      "outputs": [
        {
          "output_type": "execute_result",
          "data": {
            "text/plain": [
              "array([[1.9499887e-03, 3.9231540e-03, 9.9412680e-01],\n",
              "       [9.4213402e-01, 5.0106041e-02, 7.7599445e-03],\n",
              "       [9.9764109e-01, 1.4921030e-03, 8.6691149e-04],\n",
              "       ...,\n",
              "       [9.4485563e-01, 2.3772703e-02, 3.1371582e-02],\n",
              "       [1.8431025e-02, 6.1801988e-01, 3.6354908e-01],\n",
              "       [5.9072828e-01, 1.8272261e-01, 2.2654909e-01]], dtype=float32)"
            ]
          },
          "metadata": {},
          "execution_count": 159
        }
      ]
    },
    {
      "cell_type": "code",
      "source": [
        "from sklearn.metrics import confusion_matrix\n",
        "from sklearn.metrics import roc_auc_score\n",
        "\n",
        "def calculate_tpr_fpr(y_real, y_pred):\n",
        "\n",
        "    # Calculates the confusion matrix and recover each element\n",
        "    cm = confusion_matrix(y_real, y_pred)\n",
        "    TN = cm[0, 0]\n",
        "    FP = cm[0, 1]\n",
        "    FN = cm[1, 0]\n",
        "    TP = cm[1, 1]\n",
        "\n",
        "    # Calculates tpr and fpr\n",
        "    tpr =  TP/(TP + FN) # sensitivity - true positive rate\n",
        "    fpr = 1 - TN/(TN+FP) # 1-specificity - false positive rate\n",
        "\n",
        "    return tpr, fpr\n",
        "\n",
        "\n",
        "def get_all_roc_coordinates(y_real, y_proba):\n",
        "\n",
        "    tpr_list = [0]\n",
        "    fpr_list = [0]\n",
        "    for i in range(len(y_proba)):\n",
        "        threshold = y_proba[i]\n",
        "        y_pred = y_proba >= threshold\n",
        "        tpr, fpr = calculate_tpr_fpr(y_real, y_pred)\n",
        "        tpr_list.append(tpr)\n",
        "        fpr_list.append(fpr)\n",
        "    return tpr_list, fpr_list"
      ],
      "metadata": {
        "id": "fBOEaoyYdw4r"
      },
      "execution_count": 163,
      "outputs": []
    },
    {
      "cell_type": "code",
      "source": [
        "# Plots the Probability Distributions and the ROC Curves One vs Rest\n",
        "plt.figure(figsize = (12, 8))\n",
        "bins = [i/20 for i in range(20)] + [1]\n",
        "classes = [0,1,2]\n",
        "airline_sentiment = ['Negative','Neutral','Positive']\n",
        "\n",
        "for i in classes:\n",
        "\n",
        "    # Prepares an auxiliar dataframe to help with the plots\n",
        "    df_X_test= pd.DataFrame(X_test)\n",
        "    df_X_test['class'] = [1 if y == i else 0 for y in y_test]\n",
        "    df_X_test['prob'] = X_test_pred[:, i]\n",
        "    df_X_test = df_X_test.reset_index(drop = True)\n",
        "\n",
        "    # Plots the probability distribution for the class and the rest\n",
        "    ax = plt.subplot(2, 3, i+1)\n",
        "    sns.histplot(x = \"prob\", data = df_X_test, hue = 'class', color = 'b', ax = ax, bins = bins)\n",
        "    ax.set_title(airline_sentiment[i])\n",
        "    ax.legend([f\"Class: {airline_sentiment[i]}\", \"Rest\"])\n",
        "    ax.set_xlabel(f\"P(x = {airline_sentiment[i]})\")\n",
        "\n",
        "    # Calculates the ROC Coordinates and plots the ROC Curves\n",
        "    ax_bottom = plt.subplot(2, 3, i+4)\n",
        "    tpr, fpr = get_all_roc_coordinates(df_X_test['class'], df_X_test['prob'])\n",
        "    auc = round(roc_auc_score(df_X_test['class'], df_X_test['prob']),3)\n",
        "    sns.lineplot(x = fpr, y = tpr, ax = ax_bottom, label=f'ROC of {airline_sentiment[i]} (area={auc})')\n",
        "    ax_bottom.set_title(\"ROC Curve OvR\")\n",
        "\n",
        "plt.tight_layout()\n",
        "plt.savefig(\"rocplot.png\")"
      ],
      "metadata": {
        "colab": {
          "base_uri": "https://localhost:8080/",
          "height": 756
        },
        "id": "tGjS6ghdHLH2",
        "outputId": "9c073426-1c7c-4b69-942d-854771fbe08c"
      },
      "execution_count": 180,
      "outputs": [
        {
          "output_type": "display_data",
          "data": {
            "text/plain": [
              "<Figure size 1200x800 with 6 Axes>"
            ],
            "image/png": "[encoded data removed]"
          },
          "metadata": {}
        }
      ]
    },
    {
      "cell_type": "code",
      "source": [
        "# find the number of epoches to prevent overfitting\n",
        "from tensorflow.keras import regularizers\n",
        "reg = regularizers.L1L2(l1=1e-5, l2=1e-4)\n",
        "\n",
        "model = keras.Sequential()\n",
        "model.add(layers.Dense(128, activation=\"relu\",kernel_regularizer=reg))\n",
        "model.add(layers.Dense(128, activation=\"relu\",kernel_regularizer=reg))\n",
        "model.add(layers.Dense(64, activation=\"relu\",kernel_regularizer=reg))\n",
        "model.add(layers.Dense(32, activation=\"relu\",kernel_regularizer=reg))\n",
        "model.add(layers.Dense(8, activation=\"relu\",kernel_regularizer=reg))\n",
        "model.add(layers.Dense(3, activation=\"softmax\")) # output layer\n",
        "\n",
        "model.compile(\n",
        "    optimizer=keras.optimizers.Adam(),\n",
        "    loss=keras.losses.SparseCategoricalCrossentropy(),\n",
        "    metrics=keras.metrics.SparseCategoricalAccuracy()\n",
        ")\n",
        "\n",
        "# train our model\n",
        "history = model.fit(X_train_emb.astype(np.float32), y_train,\n",
        "                    validation_data=(X_test_emb,y_test),\n",
        "                    epochs=50,\n",
        "                    verbose=1)"
      ],
      "metadata": {
        "colab": {
          "base_uri": "https://localhost:8080/"
        },
        "id": "K5YMk2MSnEBk",
        "outputId": "7edccae6-fafa-4414-fc4b-510dde937f67"
      },
      "execution_count": 101,
      "outputs": [
        {
          "output_type": "stream",
          "name": "stdout",
          "text": [
            "Epoch 1/50\n",
            "307/307 [==============================] - 4s 8ms/step - loss: 0.7813 - sparse_categorical_accuracy: 0.7020 - val_loss: 0.6244 - val_sparse_categorical_accuracy: 0.7713\n",
            "Epoch 2/50\n",
            "307/307 [==============================] - 1s 4ms/step - loss: 0.6221 - sparse_categorical_accuracy: 0.7699 - val_loss: 0.6106 - val_sparse_categorical_accuracy: 0.7726\n",
            "Epoch 3/50\n",
            "307/307 [==============================] - 1s 4ms/step - loss: 0.5976 - sparse_categorical_accuracy: 0.7828 - val_loss: 0.5708 - val_sparse_categorical_accuracy: 0.7901\n",
            "Epoch 4/50\n",
            "307/307 [==============================] - 1s 4ms/step - loss: 0.5751 - sparse_categorical_accuracy: 0.7922 - val_loss: 0.5879 - val_sparse_categorical_accuracy: 0.7794\n",
            "Epoch 5/50\n",
            "307/307 [==============================] - 1s 4ms/step - loss: 0.5711 - sparse_categorical_accuracy: 0.7934 - val_loss: 0.5583 - val_sparse_categorical_accuracy: 0.7959\n",
            "Epoch 6/50\n",
            "307/307 [==============================] - 1s 4ms/step - loss: 0.5573 - sparse_categorical_accuracy: 0.7994 - val_loss: 0.5666 - val_sparse_categorical_accuracy: 0.7970\n",
            "Epoch 7/50\n",
            "307/307 [==============================] - 1s 4ms/step - loss: 0.5484 - sparse_categorical_accuracy: 0.8034 - val_loss: 0.5637 - val_sparse_categorical_accuracy: 0.7943\n",
            "Epoch 8/50\n",
            "307/307 [==============================] - 1s 4ms/step - loss: 0.5330 - sparse_categorical_accuracy: 0.8136 - val_loss: 0.5645 - val_sparse_categorical_accuracy: 0.8001\n",
            "Epoch 9/50\n",
            "307/307 [==============================] - 1s 4ms/step - loss: 0.5188 - sparse_categorical_accuracy: 0.8178 - val_loss: 0.5720 - val_sparse_categorical_accuracy: 0.7920\n",
            "Epoch 10/50\n",
            "307/307 [==============================] - 1s 4ms/step - loss: 0.5110 - sparse_categorical_accuracy: 0.8252 - val_loss: 0.5720 - val_sparse_categorical_accuracy: 0.7955\n",
            "Epoch 11/50\n",
            "307/307 [==============================] - 2s 7ms/step - loss: 0.4936 - sparse_categorical_accuracy: 0.8319 - val_loss: 0.5773 - val_sparse_categorical_accuracy: 0.8007\n",
            "Epoch 12/50\n",
            "307/307 [==============================] - 1s 5ms/step - loss: 0.4753 - sparse_categorical_accuracy: 0.8412 - val_loss: 0.5886 - val_sparse_categorical_accuracy: 0.7928\n",
            "Epoch 13/50\n",
            "307/307 [==============================] - 1s 4ms/step - loss: 0.4657 - sparse_categorical_accuracy: 0.8453 - val_loss: 0.6144 - val_sparse_categorical_accuracy: 0.7972\n",
            "Epoch 14/50\n",
            "307/307 [==============================] - 1s 4ms/step - loss: 0.4463 - sparse_categorical_accuracy: 0.8536 - val_loss: 0.6180 - val_sparse_categorical_accuracy: 0.7910\n",
            "Epoch 15/50\n",
            "307/307 [==============================] - 1s 4ms/step - loss: 0.4329 - sparse_categorical_accuracy: 0.8587 - val_loss: 0.6317 - val_sparse_categorical_accuracy: 0.7804\n",
            "Epoch 16/50\n",
            "307/307 [==============================] - 1s 4ms/step - loss: 0.4152 - sparse_categorical_accuracy: 0.8686 - val_loss: 0.6183 - val_sparse_categorical_accuracy: 0.8009\n",
            "Epoch 17/50\n",
            "307/307 [==============================] - 1s 4ms/step - loss: 0.3969 - sparse_categorical_accuracy: 0.8764 - val_loss: 0.6719 - val_sparse_categorical_accuracy: 0.7742\n",
            "Epoch 18/50\n",
            "307/307 [==============================] - 1s 4ms/step - loss: 0.3799 - sparse_categorical_accuracy: 0.8836 - val_loss: 0.6660 - val_sparse_categorical_accuracy: 0.7945\n",
            "Epoch 19/50\n",
            "307/307 [==============================] - 1s 4ms/step - loss: 0.3711 - sparse_categorical_accuracy: 0.8873 - val_loss: 0.6743 - val_sparse_categorical_accuracy: 0.7850\n",
            "Epoch 20/50\n",
            "307/307 [==============================] - 1s 4ms/step - loss: 0.3522 - sparse_categorical_accuracy: 0.8954 - val_loss: 0.7341 - val_sparse_categorical_accuracy: 0.7856\n",
            "Epoch 21/50\n",
            "307/307 [==============================] - 2s 7ms/step - loss: 0.3306 - sparse_categorical_accuracy: 0.9039 - val_loss: 0.7025 - val_sparse_categorical_accuracy: 0.7825\n",
            "Epoch 22/50\n",
            "307/307 [==============================] - 2s 5ms/step - loss: 0.3233 - sparse_categorical_accuracy: 0.9073 - val_loss: 0.7477 - val_sparse_categorical_accuracy: 0.7794\n",
            "Epoch 23/50\n",
            "307/307 [==============================] - 1s 4ms/step - loss: 0.3115 - sparse_categorical_accuracy: 0.9101 - val_loss: 0.7639 - val_sparse_categorical_accuracy: 0.7868\n",
            "Epoch 24/50\n",
            "307/307 [==============================] - 1s 4ms/step - loss: 0.2943 - sparse_categorical_accuracy: 0.9174 - val_loss: 0.8784 - val_sparse_categorical_accuracy: 0.7537\n",
            "Epoch 25/50\n",
            "307/307 [==============================] - 1s 4ms/step - loss: 0.2909 - sparse_categorical_accuracy: 0.9182 - val_loss: 0.8161 - val_sparse_categorical_accuracy: 0.7823\n",
            "Epoch 26/50\n",
            "307/307 [==============================] - 1s 4ms/step - loss: 0.2692 - sparse_categorical_accuracy: 0.9304 - val_loss: 0.8727 - val_sparse_categorical_accuracy: 0.7821\n",
            "Epoch 27/50\n",
            "307/307 [==============================] - 1s 4ms/step - loss: 0.2655 - sparse_categorical_accuracy: 0.9291 - val_loss: 0.8651 - val_sparse_categorical_accuracy: 0.7709\n",
            "Epoch 28/50\n",
            "307/307 [==============================] - 1s 4ms/step - loss: 0.2497 - sparse_categorical_accuracy: 0.9381 - val_loss: 0.9253 - val_sparse_categorical_accuracy: 0.7688\n",
            "Epoch 29/50\n",
            "307/307 [==============================] - 1s 4ms/step - loss: 0.2504 - sparse_categorical_accuracy: 0.9361 - val_loss: 0.9043 - val_sparse_categorical_accuracy: 0.7630\n",
            "Epoch 30/50\n",
            "307/307 [==============================] - 2s 5ms/step - loss: 0.2316 - sparse_categorical_accuracy: 0.9447 - val_loss: 1.0160 - val_sparse_categorical_accuracy: 0.7548\n",
            "Epoch 31/50\n",
            "307/307 [==============================] - 2s 7ms/step - loss: 0.2293 - sparse_categorical_accuracy: 0.9432 - val_loss: 1.0029 - val_sparse_categorical_accuracy: 0.7721\n",
            "Epoch 32/50\n",
            "307/307 [==============================] - 1s 4ms/step - loss: 0.2211 - sparse_categorical_accuracy: 0.9491 - val_loss: 1.0577 - val_sparse_categorical_accuracy: 0.7792\n",
            "Epoch 33/50\n",
            "307/307 [==============================] - 1s 4ms/step - loss: 0.2129 - sparse_categorical_accuracy: 0.9528 - val_loss: 1.0288 - val_sparse_categorical_accuracy: 0.7775\n",
            "Epoch 34/50\n",
            "307/307 [==============================] - 1s 4ms/step - loss: 0.2006 - sparse_categorical_accuracy: 0.9554 - val_loss: 1.0616 - val_sparse_categorical_accuracy: 0.7504\n",
            "Epoch 35/50\n",
            "307/307 [==============================] - 1s 4ms/step - loss: 0.2142 - sparse_categorical_accuracy: 0.9499 - val_loss: 1.0590 - val_sparse_categorical_accuracy: 0.7678\n",
            "Epoch 36/50\n",
            "307/307 [==============================] - 1s 4ms/step - loss: 0.2092 - sparse_categorical_accuracy: 0.9525 - val_loss: 0.9976 - val_sparse_categorical_accuracy: 0.7730\n",
            "Epoch 37/50\n",
            "307/307 [==============================] - 1s 4ms/step - loss: 0.1877 - sparse_categorical_accuracy: 0.9643 - val_loss: 1.1163 - val_sparse_categorical_accuracy: 0.7713\n",
            "Epoch 38/50\n",
            "307/307 [==============================] - 1s 4ms/step - loss: 0.1846 - sparse_categorical_accuracy: 0.9632 - val_loss: 1.1249 - val_sparse_categorical_accuracy: 0.7730\n",
            "Epoch 39/50\n",
            "307/307 [==============================] - 1s 4ms/step - loss: 0.1889 - sparse_categorical_accuracy: 0.9614 - val_loss: 1.1955 - val_sparse_categorical_accuracy: 0.7581\n",
            "Epoch 40/50\n",
            "307/307 [==============================] - 2s 5ms/step - loss: 0.1800 - sparse_categorical_accuracy: 0.9655 - val_loss: 1.2454 - val_sparse_categorical_accuracy: 0.7403\n",
            "Epoch 41/50\n",
            "307/307 [==============================] - 2s 7ms/step - loss: 0.1813 - sparse_categorical_accuracy: 0.9658 - val_loss: 1.1656 - val_sparse_categorical_accuracy: 0.7786\n",
            "Epoch 42/50\n",
            "307/307 [==============================] - 1s 4ms/step - loss: 0.1727 - sparse_categorical_accuracy: 0.9687 - val_loss: 1.1488 - val_sparse_categorical_accuracy: 0.7724\n",
            "Epoch 43/50\n",
            "307/307 [==============================] - 1s 4ms/step - loss: 0.1632 - sparse_categorical_accuracy: 0.9740 - val_loss: 1.2980 - val_sparse_categorical_accuracy: 0.7539\n",
            "Epoch 44/50\n",
            "307/307 [==============================] - 1s 4ms/step - loss: 0.1794 - sparse_categorical_accuracy: 0.9653 - val_loss: 1.2265 - val_sparse_categorical_accuracy: 0.7334\n",
            "Epoch 45/50\n",
            "307/307 [==============================] - 1s 4ms/step - loss: 0.1782 - sparse_categorical_accuracy: 0.9667 - val_loss: 1.2346 - val_sparse_categorical_accuracy: 0.7500\n",
            "Epoch 46/50\n",
            "307/307 [==============================] - 1s 4ms/step - loss: 0.1743 - sparse_categorical_accuracy: 0.9676 - val_loss: 1.1600 - val_sparse_categorical_accuracy: 0.7769\n",
            "Epoch 47/50\n",
            "307/307 [==============================] - 1s 4ms/step - loss: 0.1847 - sparse_categorical_accuracy: 0.9641 - val_loss: 1.1488 - val_sparse_categorical_accuracy: 0.7792\n",
            "Epoch 48/50\n",
            "307/307 [==============================] - 1s 4ms/step - loss: 0.1556 - sparse_categorical_accuracy: 0.9750 - val_loss: 1.2986 - val_sparse_categorical_accuracy: 0.7703\n",
            "Epoch 49/50\n",
            "307/307 [==============================] - 1s 4ms/step - loss: 0.1547 - sparse_categorical_accuracy: 0.9754 - val_loss: 1.3137 - val_sparse_categorical_accuracy: 0.7736\n",
            "Epoch 50/50\n",
            "307/307 [==============================] - 2s 6ms/step - loss: 0.1665 - sparse_categorical_accuracy: 0.9713 - val_loss: 1.2532 - val_sparse_categorical_accuracy: 0.7599\n"
          ]
        }
      ]
    },
    {
      "cell_type": "code",
      "source": [
        "plt.plot(history.history['loss'][:500])\n",
        "plt.plot(history.history['val_loss'][:500])\n",
        "plt.title('Model Loss for first 100 epochs')\n",
        "plt.ylabel('Loss')\n",
        "plt.xlabel('Epoch')\n",
        "plt.legend(['Train', 'Validation'])\n",
        "plt.show()"
      ],
      "metadata": {
        "colab": {
          "base_uri": "https://localhost:8080/",
          "height": 472
        },
        "id": "s3uo9eFbnEE3",
        "outputId": "d3fa15d8-e803-4081-b3fc-3364248245eb"
      },
      "execution_count": 102,
      "outputs": [
        {
          "output_type": "display_data",
          "data": {
            "text/plain": [
              "<Figure size 640x480 with 1 Axes>"
            ],
            "image/png": "[encoded data removed]"
          },
          "metadata": {}
        }
      ]
    },
    {
      "cell_type": "markdown",
      "source": [
        "## Recursive Neural Network"
      ],
      "metadata": {
        "id": "v8Ir2vZaoqUm"
      }
    },
    {
      "cell_type": "code",
      "source": [
        "import tensorflow as tf\n",
        "from tensorflow.keras.models import Sequential\n",
        "from tensorflow.keras.layers import Layer, Dense, Dropout, Bidirectional, Embedding, LSTM, GRU, BatchNormalization, TextVectorization,Input,SimpleRNN\n",
        "from tensorflow.keras.optimizers import Adam\n",
        "\n",
        "import random"
      ],
      "metadata": {
        "id": "3mISXzJbRAcg"
      },
      "execution_count": 103,
      "outputs": []
    },
    {
      "cell_type": "code",
      "source": [
        "def set_random_seed(seed):\n",
        "\n",
        "    '''Random seeds for reproducability'''\n",
        "\n",
        "    random.seed(seed)\n",
        "    tf.random.set_seed(seed)"
      ],
      "metadata": {
        "id": "mK2tv3LfY6Ok"
      },
      "execution_count": 104,
      "outputs": []
    },
    {
      "cell_type": "code",
      "source": [
        "# label encoding on the target feature \"airline_sentiment\"\n",
        "\n",
        "from sklearn.preprocessing import LabelEncoder\n",
        "\n",
        "# Instantiate the label encoder\n",
        "le = LabelEncoder()\n",
        "\n",
        "# Fit and transform the airline_sentiment column\n",
        "df['airline_sentiment'] = le.fit_transform(df['airline_sentiment'])"
      ],
      "metadata": {
        "id": "GAjQ6-dXbLM6"
      },
      "execution_count": 105,
      "outputs": []
    },
    {
      "cell_type": "code",
      "source": [
        "from sklearn.model_selection import train_test_split\n",
        "X = df['text']\n",
        "y = df['airline_sentiment']\n",
        "\n",
        "X_train, X_test, y_train, y_test = train_test_split(X, y , test_size=0.2 , random_state=42)"
      ],
      "metadata": {
        "id": "JpbDIyxJObVt"
      },
      "execution_count": 106,
      "outputs": []
    },
    {
      "cell_type": "code",
      "source": [
        "vectorizer_layer = TextVectorization(max_tokens=2000)\n",
        "\n",
        "vectorizer_layer.adapt(X_train)"
      ],
      "metadata": {
        "id": "3d3KOedtP8kW"
      },
      "execution_count": 107,
      "outputs": []
    },
    {
      "cell_type": "code",
      "source": [
        "vocabulary = np.array(vectorizer_layer.get_vocabulary())"
      ],
      "metadata": {
        "id": "c_AYVGMNRlkn"
      },
      "execution_count": 108,
      "outputs": []
    },
    {
      "cell_type": "code",
      "source": [
        "vocabulary[0:5]"
      ],
      "metadata": {
        "colab": {
          "base_uri": "https://localhost:8080/"
        },
        "id": "BsO55ftZR4dE",
        "outputId": "d85570b4-a19c-470e-97fd-87c32cd6faff"
      },
      "execution_count": null,
      "outputs": [
        {
          "output_type": "execute_result",
          "data": {
            "text/plain": [
              "array(['', '[UNK]', 'to', 'the', 'i'], dtype='<U18')"
            ]
          },
          "metadata": {},
          "execution_count": 78
        }
      ]
    },
    {
      "cell_type": "code",
      "source": [
        "set_random_seed(121)\n",
        "\n",
        "embedding_layer = Embedding(\n",
        "        input_dim = len(vocabulary),\n",
        "        output_dim=8,\n",
        "        mask_zero=True\n",
        ")"
      ],
      "metadata": {
        "id": "cmIPljsyVGD6"
      },
      "execution_count": 109,
      "outputs": []
    },
    {
      "cell_type": "markdown",
      "source": [
        "## SimpleRNN model"
      ],
      "metadata": {
        "id": "Uy8ji8o_O6xf"
      }
    },
    {
      "cell_type": "code",
      "source": [
        "# random seed for reproducability\n",
        "set_random_seed(121)\n",
        "\n",
        "RNN_model = Sequential([\n",
        "\n",
        "    Input(shape=(1,), dtype=\"string\"),\n",
        "\n",
        "    # index text\n",
        "    vectorizer_layer,\n",
        "\n",
        "    # embed to vectors\n",
        "    embedding_layer,\n",
        "\n",
        "    # recurrent layer\n",
        "    SimpleRNN(16, activation='relu', return_sequences=False),\n",
        "    Dropout(0.2),\n",
        "\n",
        "    # dense transformation\n",
        "    Dense(4, activation='relu'),\n",
        "    Dropout(0.2),\n",
        "\n",
        "    # output layer\n",
        "    Dense(3, activation='softmax')\n",
        "], name=\"sentiment_model\")"
      ],
      "metadata": {
        "id": "ggzLeLw8oLH8"
      },
      "execution_count": 110,
      "outputs": []
    },
    {
      "cell_type": "code",
      "source": [
        "# Compile model\n",
        "RNN_model.compile(\n",
        "    loss='sparse_categorical_crossentropy',\n",
        "    optimizer=Adam(learning_rate=0.001),\n",
        "    metrics=['accuracy']\n",
        ")"
      ],
      "metadata": {
        "id": "jt1GNXCSTkqA"
      },
      "execution_count": 111,
      "outputs": []
    },
    {
      "cell_type": "code",
      "source": [
        "# Display its summary\n",
        "RNN_model.summary()"
      ],
      "metadata": {
        "colab": {
          "base_uri": "https://localhost:8080/"
        },
        "id": "z7ZFdB_JVCoJ",
        "outputId": "7bcabccc-834a-47ff-f02e-d67905b39e6a"
      },
      "execution_count": 112,
      "outputs": [
        {
          "output_type": "stream",
          "name": "stdout",
          "text": [
            "Model: \"sentiment_model\"\n",
            "_________________________________________________________________\n",
            " Layer (type)                Output Shape              Param #   \n",
            "=================================================================\n",
            " text_vectorization (TextVe  (None, None)              0         \n",
            " ctorization)                                                    \n",
            "                                                                 \n",
            " embedding (Embedding)       (None, None, 8)           16000     \n",
            "                                                                 \n",
            " simple_rnn (SimpleRNN)      (None, 16)                400       \n",
            "                                                                 \n",
            " dropout (Dropout)           (None, 16)                0         \n",
            "                                                                 \n",
            " dense_24 (Dense)            (None, 4)                 68        \n",
            "                                                                 \n",
            " dropout_1 (Dropout)         (None, 4)                 0         \n",
            "                                                                 \n",
            " dense_25 (Dense)            (None, 3)                 15        \n",
            "                                                                 \n",
            "=================================================================\n",
            "Total params: 16483 (64.39 KB)\n",
            "Trainable params: 16483 (64.39 KB)\n",
            "Non-trainable params: 0 (0.00 Byte)\n",
            "_________________________________________________________________\n"
          ]
        }
      ]
    },
    {
      "cell_type": "code",
      "source": [
        "# random seed for reproducability\n",
        "set_random_seed(121)\n",
        "\n",
        "num_epochs = 20\n",
        "RNN_model.fit(\n",
        "    X_train, y_train,\n",
        "    batch_size=64,\n",
        "    epochs=num_epochs,\n",
        "    validation_split=0.2\n",
        ")"
      ],
      "metadata": {
        "colab": {
          "base_uri": "https://localhost:8080/"
        },
        "id": "-Cv92GWBVJ8p",
        "outputId": "ff7595ad-467d-4887-b97e-14b4523627a0"
      },
      "execution_count": 113,
      "outputs": [
        {
          "output_type": "stream",
          "name": "stdout",
          "text": [
            "Epoch 1/20\n",
            "147/147 [==============================] - 6s 25ms/step - loss: 0.9382 - accuracy: 0.6201 - val_loss: 0.7508 - val_accuracy: 0.6265\n",
            "Epoch 2/20\n",
            "147/147 [==============================] - 2s 13ms/step - loss: 0.7427 - accuracy: 0.6332 - val_loss: 0.7106 - val_accuracy: 0.6910\n",
            "Epoch 3/20\n",
            "147/147 [==============================] - 2s 13ms/step - loss: 0.6827 - accuracy: 0.7113 - val_loss: 0.6863 - val_accuracy: 0.7064\n",
            "Epoch 4/20\n",
            "147/147 [==============================] - 2s 13ms/step - loss: 0.6386 - accuracy: 0.7306 - val_loss: 0.6857 - val_accuracy: 0.7059\n",
            "Epoch 5/20\n",
            "147/147 [==============================] - 2s 13ms/step - loss: 0.6012 - accuracy: 0.7416 - val_loss: 0.7120 - val_accuracy: 0.7102\n",
            "Epoch 6/20\n",
            "147/147 [==============================] - 2s 13ms/step - loss: 0.5760 - accuracy: 0.7473 - val_loss: 0.6994 - val_accuracy: 0.7008\n",
            "Epoch 7/20\n",
            "147/147 [==============================] - 3s 23ms/step - loss: 0.5509 - accuracy: 0.7499 - val_loss: 0.7437 - val_accuracy: 0.6970\n",
            "Epoch 8/20\n",
            "147/147 [==============================] - 2s 14ms/step - loss: 0.5249 - accuracy: 0.7591 - val_loss: 0.8001 - val_accuracy: 0.6995\n",
            "Epoch 9/20\n",
            "147/147 [==============================] - 2s 13ms/step - loss: 0.5178 - accuracy: 0.7612 - val_loss: 0.7775 - val_accuracy: 0.6983\n",
            "Epoch 10/20\n",
            "147/147 [==============================] - 2s 13ms/step - loss: 0.4982 - accuracy: 0.7624 - val_loss: 0.8959 - val_accuracy: 0.6944\n",
            "Epoch 11/20\n",
            "147/147 [==============================] - 2s 14ms/step - loss: 0.4842 - accuracy: 0.7679 - val_loss: 0.9200 - val_accuracy: 0.6974\n",
            "Epoch 12/20\n",
            "147/147 [==============================] - 2s 13ms/step - loss: 0.4774 - accuracy: 0.7700 - val_loss: 0.8388 - val_accuracy: 0.6906\n",
            "Epoch 13/20\n",
            "147/147 [==============================] - 3s 20ms/step - loss: 0.4574 - accuracy: 0.7754 - val_loss: 0.9299 - val_accuracy: 0.6825\n",
            "Epoch 14/20\n",
            "147/147 [==============================] - 3s 18ms/step - loss: 0.4550 - accuracy: 0.7765 - val_loss: 1.0433 - val_accuracy: 0.6846\n",
            "Epoch 15/20\n",
            "147/147 [==============================] - 2s 13ms/step - loss: 0.4380 - accuracy: 0.7807 - val_loss: 1.0821 - val_accuracy: 0.6880\n",
            "Epoch 16/20\n",
            "147/147 [==============================] - 2s 13ms/step - loss: 0.4388 - accuracy: 0.7815 - val_loss: 1.3659 - val_accuracy: 0.7017\n",
            "Epoch 17/20\n",
            "147/147 [==============================] - 2s 13ms/step - loss: 0.4308 - accuracy: 0.7828 - val_loss: 1.2231 - val_accuracy: 0.6846\n",
            "Epoch 18/20\n",
            "147/147 [==============================] - 2s 14ms/step - loss: 0.4336 - accuracy: 0.7806 - val_loss: 1.4765 - val_accuracy: 0.6974\n",
            "Epoch 19/20\n",
            "147/147 [==============================] - 2s 16ms/step - loss: 0.4273 - accuracy: 0.7826 - val_loss: 1.3778 - val_accuracy: 0.6914\n",
            "Epoch 20/20\n",
            "147/147 [==============================] - 3s 21ms/step - loss: 0.4177 - accuracy: 0.7870 - val_loss: 1.3436 - val_accuracy: 0.6893\n"
          ]
        },
        {
          "output_type": "execute_result",
          "data": {
            "text/plain": [
              "<keras.src.callbacks.History at 0x785c9c851c60>"
            ]
          },
          "metadata": {},
          "execution_count": 113
        }
      ]
    },
    {
      "cell_type": "markdown",
      "source": [
        "## LSTM model"
      ],
      "metadata": {
        "id": "aRwfgoKmPCky"
      }
    },
    {
      "cell_type": "code",
      "source": [
        "# random seed for reproducability\n",
        "set_random_seed(121)\n",
        "\n",
        "RNN_model = Sequential([\n",
        "\n",
        "    Input(shape=(1,), dtype=\"string\"),\n",
        "\n",
        "    # index text\n",
        "    vectorizer_layer,\n",
        "\n",
        "    # embed to vectors\n",
        "    embedding_layer,\n",
        "\n",
        "    # recurrent layer\n",
        "    LSTM(16, activation='relu', return_sequences=False),\n",
        "    Dropout(0.2),\n",
        "\n",
        "    # dense transformation\n",
        "    Dense(4, activation='relu'),\n",
        "    Dropout(0.2),\n",
        "\n",
        "    # output layer\n",
        "    Dense(3, activation='softmax')\n",
        "], name=\"sentiment_model\")"
      ],
      "metadata": {
        "id": "Z-fhI8erPJil"
      },
      "execution_count": 114,
      "outputs": []
    },
    {
      "cell_type": "code",
      "source": [
        "# Compile model\n",
        "RNN_model.compile(\n",
        "    loss='sparse_categorical_crossentropy',\n",
        "    optimizer=Adam(learning_rate=0.001),\n",
        "    metrics=['accuracy']\n",
        ")"
      ],
      "metadata": {
        "id": "24CKh8GtPQrw"
      },
      "execution_count": 115,
      "outputs": []
    },
    {
      "cell_type": "code",
      "source": [
        "# Display its summary\n",
        "RNN_model.summary()"
      ],
      "metadata": {
        "colab": {
          "base_uri": "https://localhost:8080/"
        },
        "id": "NUgikstYPUj_",
        "outputId": "4ac62603-c990-412b-a0d4-21c9d551791b"
      },
      "execution_count": 116,
      "outputs": [
        {
          "output_type": "stream",
          "name": "stdout",
          "text": [
            "Model: \"sentiment_model\"\n",
            "_________________________________________________________________\n",
            " Layer (type)                Output Shape              Param #   \n",
            "=================================================================\n",
            " text_vectorization (TextVe  (None, None)              0         \n",
            " ctorization)                                                    \n",
            "                                                                 \n",
            " embedding (Embedding)       (None, None, 8)           16000     \n",
            "                                                                 \n",
            " lstm (LSTM)                 (None, 16)                1600      \n",
            "                                                                 \n",
            " dropout_2 (Dropout)         (None, 16)                0         \n",
            "                                                                 \n",
            " dense_26 (Dense)            (None, 4)                 68        \n",
            "                                                                 \n",
            " dropout_3 (Dropout)         (None, 4)                 0         \n",
            "                                                                 \n",
            " dense_27 (Dense)            (None, 3)                 15        \n",
            "                                                                 \n",
            "=================================================================\n",
            "Total params: 17683 (69.07 KB)\n",
            "Trainable params: 17683 (69.07 KB)\n",
            "Non-trainable params: 0 (0.00 Byte)\n",
            "_________________________________________________________________\n"
          ]
        }
      ]
    },
    {
      "cell_type": "code",
      "source": [
        "# random seed for reproducability\n",
        "set_random_seed(121)\n",
        "\n",
        "num_epochs = 10\n",
        "RNN_model.fit(\n",
        "    X_train, y_train,\n",
        "    batch_size=64,\n",
        "    epochs=num_epochs,\n",
        "    validation_split=0.2\n",
        ")"
      ],
      "metadata": {
        "colab": {
          "base_uri": "https://localhost:8080/"
        },
        "id": "IIcYADdjPWE8",
        "outputId": "adeeedb3-5e2c-45fb-d760-3ffba5c2dffd"
      },
      "execution_count": 117,
      "outputs": [
        {
          "output_type": "stream",
          "name": "stdout",
          "text": [
            "Epoch 1/10\n",
            "147/147 [==============================] - 7s 25ms/step - loss: 0.9419 - accuracy: 0.6178 - val_loss: 0.7738 - val_accuracy: 0.6265\n",
            "Epoch 2/10\n",
            "147/147 [==============================] - 3s 21ms/step - loss: 0.7774 - accuracy: 0.6396 - val_loss: 0.7044 - val_accuracy: 0.6816\n",
            "Epoch 3/10\n",
            "147/147 [==============================] - 3s 20ms/step - loss: 0.6989 - accuracy: 0.7028 - val_loss: 0.6753 - val_accuracy: 0.7298\n",
            "Epoch 4/10\n",
            "147/147 [==============================] - 4s 30ms/step - loss: 0.6513 - accuracy: 0.7256 - val_loss: 0.6643 - val_accuracy: 0.7392\n",
            "Epoch 5/10\n",
            "147/147 [==============================] - 3s 22ms/step - loss: 0.6154 - accuracy: 0.7383 - val_loss: 0.6778 - val_accuracy: 0.7392\n",
            "Epoch 6/10\n",
            "147/147 [==============================] - 3s 20ms/step - loss: 0.5492 - accuracy: 0.7434 - val_loss: 0.7677 - val_accuracy: 0.7443\n",
            "Epoch 7/10\n",
            "147/147 [==============================] - 3s 20ms/step - loss: 0.5232 - accuracy: 0.7575 - val_loss: 1.1212 - val_accuracy: 0.7503\n",
            "Epoch 8/10\n",
            "147/147 [==============================] - 4s 27ms/step - loss: 0.5051 - accuracy: 0.7584 - val_loss: 1.6581 - val_accuracy: 0.7529\n",
            "Epoch 9/10\n",
            "147/147 [==============================] - 3s 23ms/step - loss: 0.4946 - accuracy: 0.7683 - val_loss: 3.2058 - val_accuracy: 0.7461\n",
            "Epoch 10/10\n",
            "147/147 [==============================] - 3s 20ms/step - loss: 0.4848 - accuracy: 0.7723 - val_loss: 1.4234 - val_accuracy: 0.7490\n"
          ]
        },
        {
          "output_type": "execute_result",
          "data": {
            "text/plain": [
              "<keras.src.callbacks.History at 0x785c9d1beb00>"
            ]
          },
          "metadata": {},
          "execution_count": 117
        }
      ]
    },
    {
      "cell_type": "markdown",
      "source": [
        "## GRU model"
      ],
      "metadata": {
        "id": "i_Fglh6YPoPU"
      }
    },
    {
      "cell_type": "code",
      "source": [
        "# random seed for reproducability\n",
        "set_random_seed(121)\n",
        "\n",
        "RNN_model = Sequential([\n",
        "\n",
        "    Input(shape=(1,), dtype=\"string\"),\n",
        "\n",
        "    # index text\n",
        "    vectorizer_layer,\n",
        "\n",
        "    # embed to vectors\n",
        "    embedding_layer,\n",
        "\n",
        "    # recurrent layer\n",
        "    GRU(16, activation='relu', return_sequences=False),\n",
        "    Dropout(0.2),\n",
        "\n",
        "    # dense transformation\n",
        "    Dense(4, activation='relu'),\n",
        "    Dropout(0.2),\n",
        "\n",
        "    # output layer\n",
        "    Dense(3, activation='softmax')\n",
        "], name=\"sentiment_model\")"
      ],
      "metadata": {
        "id": "Dxa1ZDYqPvQb"
      },
      "execution_count": 118,
      "outputs": []
    },
    {
      "cell_type": "code",
      "source": [
        "# Compile model\n",
        "RNN_model.compile(\n",
        "    loss='sparse_categorical_crossentropy',\n",
        "    optimizer=Adam(learning_rate=0.001),\n",
        "    metrics=['accuracy']\n",
        ")"
      ],
      "metadata": {
        "id": "i65LYzJFP3lS"
      },
      "execution_count": 119,
      "outputs": []
    },
    {
      "cell_type": "code",
      "source": [
        "# Display its summary\n",
        "RNN_model.summary()"
      ],
      "metadata": {
        "colab": {
          "base_uri": "https://localhost:8080/"
        },
        "id": "__4LHny9P-F7",
        "outputId": "dca8f607-3073-4b02-c43e-03cb38b0f782"
      },
      "execution_count": 120,
      "outputs": [
        {
          "output_type": "stream",
          "name": "stdout",
          "text": [
            "Model: \"sentiment_model\"\n",
            "_________________________________________________________________\n",
            " Layer (type)                Output Shape              Param #   \n",
            "=================================================================\n",
            " text_vectorization (TextVe  (None, None)              0         \n",
            " ctorization)                                                    \n",
            "                                                                 \n",
            " embedding (Embedding)       (None, None, 8)           16000     \n",
            "                                                                 \n",
            " gru (GRU)                   (None, 16)                1248      \n",
            "                                                                 \n",
            " dropout_4 (Dropout)         (None, 16)                0         \n",
            "                                                                 \n",
            " dense_28 (Dense)            (None, 4)                 68        \n",
            "                                                                 \n",
            " dropout_5 (Dropout)         (None, 4)                 0         \n",
            "                                                                 \n",
            " dense_29 (Dense)            (None, 3)                 15        \n",
            "                                                                 \n",
            "=================================================================\n",
            "Total params: 17331 (67.70 KB)\n",
            "Trainable params: 17331 (67.70 KB)\n",
            "Non-trainable params: 0 (0.00 Byte)\n",
            "_________________________________________________________________\n"
          ]
        }
      ]
    },
    {
      "cell_type": "code",
      "source": [
        "# random seed for reproducability\n",
        "set_random_seed(121)\n",
        "\n",
        "num_epochs = 10\n",
        "RNN_model.fit(\n",
        "    X_train, y_train,\n",
        "    batch_size=64,\n",
        "    epochs=num_epochs,\n",
        "    validation_split=0.2\n",
        ")"
      ],
      "metadata": {
        "colab": {
          "base_uri": "https://localhost:8080/"
        },
        "id": "TbA6w0A7QC2-",
        "outputId": "3584f997-b74c-446b-c09e-7bd60c90da15"
      },
      "execution_count": 121,
      "outputs": [
        {
          "output_type": "stream",
          "name": "stdout",
          "text": [
            "Epoch 1/10\n",
            "147/147 [==============================] - 7s 32ms/step - loss: 0.9469 - accuracy: 0.6163 - val_loss: 0.7327 - val_accuracy: 0.6265\n",
            "Epoch 2/10\n",
            "147/147 [==============================] - 3s 19ms/step - loss: 0.6125 - accuracy: 0.6882 - val_loss: 0.6554 - val_accuracy: 0.7089\n",
            "Epoch 3/10\n",
            "147/147 [==============================] - 3s 18ms/step - loss: 0.5503 - accuracy: 0.7196 - val_loss: 0.7346 - val_accuracy: 0.7213\n",
            "Epoch 4/10\n",
            "147/147 [==============================] - 3s 19ms/step - loss: 0.5172 - accuracy: 0.7429 - val_loss: 0.7719 - val_accuracy: 0.7170\n",
            "Epoch 5/10\n",
            "147/147 [==============================] - 4s 29ms/step - loss: 0.4995 - accuracy: 0.7524 - val_loss: 0.8154 - val_accuracy: 0.7204\n",
            "Epoch 6/10\n",
            "147/147 [==============================] - 3s 18ms/step - loss: 0.4741 - accuracy: 0.7721 - val_loss: 0.9639 - val_accuracy: 0.7443\n",
            "Epoch 7/10\n",
            "147/147 [==============================] - 3s 19ms/step - loss: 0.4588 - accuracy: 0.7867 - val_loss: 1.0534 - val_accuracy: 0.7405\n",
            "Epoch 8/10\n",
            "147/147 [==============================] - 3s 18ms/step - loss: 0.4412 - accuracy: 0.8020 - val_loss: 1.1723 - val_accuracy: 0.7350\n",
            "Epoch 9/10\n",
            "147/147 [==============================] - 3s 23ms/step - loss: 0.4279 - accuracy: 0.8078 - val_loss: 1.3069 - val_accuracy: 0.7426\n",
            "Epoch 10/10\n",
            "147/147 [==============================] - 4s 26ms/step - loss: 0.4267 - accuracy: 0.8102 - val_loss: 1.3061 - val_accuracy: 0.7465\n"
          ]
        },
        {
          "output_type": "execute_result",
          "data": {
            "text/plain": [
              "<keras.src.callbacks.History at 0x785cb60a4d30>"
            ]
          },
          "metadata": {},
          "execution_count": 121
        }
      ]
    },
    {
      "cell_type": "markdown",
      "source": [
        "We built 3 RNN models:  SimpleRNN, LSTM and GRU.\n",
        "All the accuracy scores are around 75%, which is even lower than\n",
        "neural network we trained aboove."
      ],
      "metadata": {
        "id": "ptTUP6O-RA52"
      }
    }
  ]
}